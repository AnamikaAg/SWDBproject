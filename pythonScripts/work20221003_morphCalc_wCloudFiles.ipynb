{
 "cells": [
  {
   "cell_type": "code",
   "execution_count": 1,
   "id": "8d04e94e",
   "metadata": {},
   "outputs": [
    {
     "name": "stderr",
     "output_type": "stream",
     "text": [
      "/Users/anamika.agrawal/opt/anaconda3/lib/python3.9/site-packages/scipy/__init__.py:146: UserWarning: A NumPy version >=1.16.5 and <1.23.0 is required for this version of SciPy (detected version 1.23.3\n",
      "  warnings.warn(f\"A NumPy version >={np_minversion} and <{np_maxversion}\"\n"
     ]
    }
   ],
   "source": [
    "import caveclient\n",
    "import numpy as np\n",
    "import pandas as pd\n",
    "import matplotlib.pyplot as plt\n",
    "import seaborn as sns"
   ]
  },
  {
   "cell_type": "code",
   "execution_count": 2,
   "id": "9c15f192",
   "metadata": {},
   "outputs": [],
   "source": [
    "# links to connectomics data\n",
    "# google bucket: gs://allen-minnie-phase3/minniephase3-emily-pcg-skeletons/minnie_all/BIL_neurons/file_groups\n",
    "# amazon aws: s3://em-connectomics-data/"
   ]
  },
  {
   "cell_type": "code",
   "execution_count": 3,
   "id": "bbec36f1",
   "metadata": {},
   "outputs": [],
   "source": [
    "client  = caveclient.CAVEclient('minnie65_public_v343')\n"
   ]
  },
  {
   "cell_type": "code",
   "execution_count": 4,
   "id": "ec419526",
   "metadata": {},
   "outputs": [
    {
     "data": {
      "text/plain": [
       "['synapses_pni_2',\n",
       " 'nucleus_neuron_svm',\n",
       " 'nucleus_detection_v0',\n",
       " 'functional_coreg',\n",
       " 'allen_v1_column_types_slanted',\n",
       " 'aibs_column_nonneuronal',\n",
       " 'func_unit_em_match_release',\n",
       " 'proofreading_status_public_release',\n",
       " 'aibs_soma_nuc_metamodel_preds_v117']"
      ]
     },
     "execution_count": 4,
     "metadata": {},
     "output_type": "execute_result"
    }
   ],
   "source": [
    "client.materialize.get_tables()"
   ]
  },
  {
   "cell_type": "code",
   "execution_count": 46,
   "id": "380c0149",
   "metadata": {},
   "outputs": [],
   "source": [
    "import pandas as pd\n",
    "import cloudfiles\n",
    "import os\n",
    "import io\n",
    "import re\n",
    "import sys\n",
    "from meshparty import meshwork\n",
    "\n",
    "def fix_local_cloudpath(cloudpath):\n",
    "    if \"://\" not in cloudpath:\n",
    "        dir, _ = os.path.split(cloudpath)\n",
    "        if len(dir) == 0:\n",
    "            cloudpath = './' + cloudpath\n",
    "        cloudpath = \"file://\" + cloudpath\n",
    "    return cloudpath\n",
    "\n",
    "def get_path_files(cloudpath, regex_template=None):\n",
    "    cloudpath = fix_local_cloudpath(cloudpath)\n",
    "    cf = cloudfiles.CloudFiles(cloudpath,use_https=True)\n",
    "    if regex_template is None:\n",
    "        filenames = [f\"{cloudpath}/{fn}\" for fn in cf.list()]\n",
    "    else:\n",
    "        filenames = [f\"{cloudpath}/{fn}\" for fn in cf.list() if re.search(regex_template, fn) is not None]\n",
    "    return filenames\n",
    "\n",
    "def read_json_file(cloudpath):\n",
    "    path = fix_local_cloudpath(cloudpath)\n",
    "    folder, file = os.path.split(cloudpath)\n",
    "    cf = cloudfiles.CloudFiles(folder)\n",
    "    return cf.get_json(file)\n",
    "\n",
    "\n",
    "def read_bytes(path):\n",
    "    path = fix_local_cloudpath(path)\n",
    "    cloudpath, file = os.path.split(path)\n",
    "    cf = cloudfiles.CloudFiles(cloudpath)\n",
    "    byt = io.BytesIO(cf.get(file))\n",
    "    return byt\n",
    "\n",
    "\n",
    "def read_csv(path, **kwargs):\n",
    "    byt = read_bytes(path)\n",
    "    df = pd.read_csv(byt, **kwargs)\n",
    "    return df\n",
    "\n",
    "def read_h5(path, **kwargs):\n",
    "    byt = read_bytes(path)\n",
    "    if (sys.getsizeof(byt) < 1e3):\n",
    "        nrn = '' #return empty\n",
    "    else:\n",
    "        nrn = meshwork.load_meshwork(byt)\n",
    "    return nrn\n"
   ]
  },
  {
   "cell_type": "code",
   "execution_count": 6,
   "id": "16402993",
   "metadata": {},
   "outputs": [],
   "source": [
    "from cloudfiles import CloudFiles, dl\n",
    "cf = CloudFiles('gs://allen-minnie-phase3/minniephase3-emily-pcg-skeletons/minnie_all/BIL_neurons/file_groups',use_https=True,progress=True)\n",
    "from cloudfiles import compression, paths\n",
    "#s3path = 's3://em-connectomics-data/'\n",
    "gspath = 'gs://allen-minnie-phase3/minniephase3-emily-pcg-skeletons/minnie_all/BIL_neurons/file_groups'\n",
    "cloudpath = fix_local_cloudpath(gspath)\n",
    "#cloudpath = paths.to_https_protocol(cloudpath)\n",
    "filenames = [f\"{cloudpath}/{fn}\" for fn in cf.list()]\n"
   ]
  },
  {
   "cell_type": "code",
   "execution_count": 44,
   "id": "a984a82c",
   "metadata": {},
   "outputs": [],
   "source": [
    "byt = read_bytes(os.path.join(data_root,folder_name,mesh_filename))"
   ]
  },
  {
   "cell_type": "code",
   "execution_count": 47,
   "id": "9d61af51",
   "metadata": {},
   "outputs": [],
   "source": [
    "nrn = read_h5(os.path.join(data_root,folder_name,mesh_filename))\n",
    "emptynrn = read_h5(os.path.join(data_root,mesh_filename))"
   ]
  },
  {
   "cell_type": "code",
   "execution_count": 54,
   "id": "07f3db20",
   "metadata": {},
   "outputs": [
    {
     "data": {
      "text/plain": [
       "True"
      ]
     },
     "execution_count": 54,
     "metadata": {},
     "output_type": "execute_result"
    }
   ],
   "source": [
    "bool(nrn)"
   ]
  },
  {
   "cell_type": "code",
   "execution_count": 47,
   "id": "95fe37ec",
   "metadata": {},
   "outputs": [
    {
     "data": {
      "text/plain": [
       "(156528,)"
      ]
     },
     "execution_count": 47,
     "metadata": {},
     "output_type": "execute_result"
    }
   ],
   "source": [
    "np.shape(filenames)"
   ]
  },
  {
   "cell_type": "code",
   "execution_count": 8,
   "id": "85edb573",
   "metadata": {},
   "outputs": [],
   "source": [
    "byt = read_bytes(filenames[0])"
   ]
  },
  {
   "cell_type": "code",
   "execution_count": 10,
   "id": "ac065eca",
   "metadata": {},
   "outputs": [],
   "source": [
    "from meshparty import meshwork\n",
    "nrn = meshwork.load_meshwork(byt)"
   ]
  },
  {
   "cell_type": "code",
   "execution_count": 14,
   "id": "efe67e93",
   "metadata": {},
   "outputs": [],
   "source": [
    "nrn = read_h5(filenames[0])"
   ]
  },
  {
   "cell_type": "code",
   "execution_count": 15,
   "id": "a92bda11",
   "metadata": {},
   "outputs": [
    {
     "data": {
      "text/plain": [
       "'gs://allen-minnie-phase3/minniephase3-emily-pcg-skeletons/minnie_all/BIL_neurons/file_groups/864691134884741370_195614/864691134884741370_195614.h5'"
      ]
     },
     "execution_count": 15,
     "metadata": {},
     "output_type": "execute_result"
    }
   ],
   "source": [
    "filenames[0]"
   ]
  },
  {
   "cell_type": "code",
   "execution_count": 16,
   "id": "c2b6c30c",
   "metadata": {},
   "outputs": [
    {
     "data": {
      "text/plain": [
       "array([[ 447792.,  725240.,  971920.],\n",
       "       [ 448120.,  726016.,  970840.],\n",
       "       [ 448568.,  726064.,  973240.],\n",
       "       ...,\n",
       "       [ 665936.,  680728., 1056880.],\n",
       "       [ 666080.,  680952., 1056400.],\n",
       "       [ 572608.,  695360., 1054320.]])"
      ]
     },
     "execution_count": 16,
     "metadata": {},
     "output_type": "execute_result"
    }
   ],
   "source": [
    "nrn.skeleton.vertices"
   ]
  },
  {
   "cell_type": "code",
   "execution_count": 17,
   "id": "fffb8f74",
   "metadata": {},
   "outputs": [],
   "source": [
    "# connectomics imports\n",
    "import platform\n",
    "import os\n",
    "\n",
    "    \n",
    "# OR if you'd like to override the auto options\n",
    "data_root = \"gs://allen-minnie-phase3/minniephase3-emily-pcg-skeletons/minnie_all/BIL_neurons/file_groups/\""
   ]
  },
  {
   "cell_type": "code",
   "execution_count": 18,
   "id": "45a546ef",
   "metadata": {},
   "outputs": [],
   "source": [
    "# this is the EM specific package for querying the EM data\n",
    "from caveclient import CAVEclient\n",
    "# import some of our favorite packages\n",
    "import pandas as pd\n",
    "import numpy as np\n",
    "import os\n",
    "import matplotlib.pyplot as plt\n",
    "import scipy as sc\n",
    "%matplotlib widget"
   ]
  },
  {
   "cell_type": "code",
   "execution_count": 19,
   "id": "ec260b5e",
   "metadata": {},
   "outputs": [],
   "source": [
    "tun_orac=pd.read_feather('tuning_curve_oracle.feather')"
   ]
  },
  {
   "cell_type": "code",
   "execution_count": 20,
   "id": "cf8834b7",
   "metadata": {},
   "outputs": [],
   "source": [
    "coreg_df = client.materialize.query_table('functional_coreg')\n",
    "coreg_merge=pd.merge(coreg_df, tun_orac,\n",
    "         right_on=['scan_session', 'scan_idx', 'unit_id'], left_on=['session', 'scan_idx', 'unit_id'])"
   ]
  },
  {
   "cell_type": "code",
   "execution_count": 21,
   "id": "a4234643",
   "metadata": {},
   "outputs": [],
   "source": [
    "highDSIdf = coreg_merge[coreg_merge.dsi>0.3]"
   ]
  },
  {
   "cell_type": "code",
   "execution_count": 22,
   "id": "114122ae",
   "metadata": {},
   "outputs": [
    {
     "data": {
      "text/plain": [
       "Index(['id', 'valid', 'pt_supervoxel_id', 'pt_root_id', 'session', 'scan_idx',\n",
       "       'unit_id', 'pt_position', 'animal_id', 'scan_session', 'direction',\n",
       "       'response_mean', 'osi', 'dsi', 'pref_dir', 'pref_ori', 'oracle'],\n",
       "      dtype='object')"
      ]
     },
     "execution_count": 22,
     "metadata": {},
     "output_type": "execute_result"
    }
   ],
   "source": [
    "highDSIdf.columns"
   ]
  },
  {
   "cell_type": "code",
   "execution_count": 23,
   "id": "5000a2cf",
   "metadata": {},
   "outputs": [],
   "source": [
    "i=0\n",
    "neuron_id = highDSIdf.iloc[i].pt_root_id\n",
    "#print(neuron_id)\n",
    "    \n",
    "neuron_soma_df = client.materialize.query_table('aibs_soma_nuc_metamodel_preds_v117')\n",
    "if (len(neuron_soma_df.query(f'pt_root_id=={neuron_id}').target_id.values) == 0):\n",
    "    print('not in neuron_soma_df')\n",
    "        \n",
    "nuc_id = neuron_soma_df.query(f'pt_root_id=={neuron_id}').target_id.values[0]\n",
    "mesh_filename = f\"{neuron_id}_{nuc_id}.h5\"\n",
    "folder_name = f\"{neuron_id}_{nuc_id}\""
   ]
  },
  {
   "cell_type": "code",
   "execution_count": null,
   "id": "89c48648",
   "metadata": {},
   "outputs": [],
   "source": [
    "# alternate way using forrest's method\n",
    "import cloudfiles\n",
    "import io\n",
    "from meshparty import meshwork\n",
    "import matplotlib.pyplot as plt\n",
    "import os\n",
    "cloud_path = 'gs://allen-minnie-phase3/minniephase3-emily-pcg-skeletons/minnie_all/BIL_neurons/file_groups'\n",
    "cf = cloudfiles.CloudFiles(cloud_path, use_https=True)\n",
    "byt=cf.get('864691134884741370_195614/864691134884741370_195614.h5')\n",
    "bio = io.BytesIO(byt)\n",
    "mw=meshwork.load_meshwork(bio)"
   ]
  },
  {
   "cell_type": "code",
   "execution_count": 25,
   "id": "7bca0d50",
   "metadata": {},
   "outputs": [
    {
     "data": {
      "text/plain": [
       "'gs://allen-minnie-phase3/minniephase3-emily-pcg-skeletons/minnie_all/BIL_neurons/file_groups/864691135467558284_583817.h5'"
      ]
     },
     "execution_count": 25,
     "metadata": {},
     "output_type": "execute_result"
    }
   ],
   "source": [
    "os.path.join(data_root,mesh_filename)"
   ]
  },
  {
   "cell_type": "code",
   "execution_count": 57,
   "id": "6520e02f",
   "metadata": {},
   "outputs": [
    {
     "name": "stderr",
     "output_type": "stream",
     "text": [
      "100%|█████████████████████████████████████████████| 2/2 [00:10<00:00,  5.17s/it]\n"
     ]
    },
    {
     "data": {
      "application/vnd.jupyter.widget-view+json": {
       "model_id": "3c19757c50ef4854b1c8aa14520e8d11",
       "version_major": 2,
       "version_minor": 0
      },
      "image/png": "[encoded data removed]",
      "text/html": [
       "\n",
       "            <div style=\"display: inline-block;\">\n",
       "                <div class=\"jupyter-widgets widget-label\" style=\"text-align: center;\">\n",
       "                    Figure\n",
       "                </div>\n",
       "                <img src='data:image/png;base64,iVBORw0KGgoAAAANSUhEUgAAAoAAAAHgCAYAAAA10dzkAAAAOXRFWHRTb2Z0d2FyZQBNYXRwbG90bGliIHZlcnNpb24zLjUuMSwgaHR0cHM6Ly9tYXRwbG90bGliLm9yZy/YYfK9AAAACXBIWXMAAA9hAAAPYQGoP6dpAADw8ElEQVR4nOzddVzV1x/H8dcNujtEUUFU7Mbubt3UTZ2zZv22uc2F21yHa3W6ck6dNeds5+xAxESxxUS6u+7l3vv9/XEBRQELuMR5Ph48lBvf+0EE3pz4HJkkSRKCIAiCIAhCtSE3dAGCIAiCIAhC+RIBUBAEQRAEoZoRAVAQBEEQBKGaEQFQEARBEAShmhEBUBAEQRAEoZoRAVAQBEEQBKGaEQFQEARBEAShmhEBUBAEQRAEoZoRAVAQBEEQBKGaEQFQEARBEAShmhEBUBAEQRAEoZoRAVAQBEEQBKGaEQFQEARBEAShmhEBUBAEQRAEoZoRAVAQBEEQBKGaEQFQEARBEAShmhEBUBAEQRAEoZoRAVAQBEEQBKGaEQFQEARBEAShmhEBUBAEQRAEoZoRAVAQBEEQBKGaEQFQEARBEAShmhEBUBAEQRAEoZoRAVAQBEEQBKGaEQFQEARBEAShmhEBUBAEQRAEoZoRAVAQBEEQBKGaEQFQEARBEAShmhEBUBAEQRAEoZoRAVAQBEEQBKGaEQFQEARBEAShmhEBUBCEaiU9PZ3Zs2fj6emJmZkZHTp04NSpUwX3S5LERx99hLu7O2ZmZnTr1o1Lly4VukZISAgdO3bEw8ODTz75pLw/BEEQhKcmAqAgCNXKlClT2Lt3L6tWreLChQv06dOHXr16ERkZCcDXX3/N999/z+LFizl16hSurq707t2b9PT0gmvMmjWL8ePHs3XrVrZv387Ro0cN9eEIgiA8EREABUGoNrKzs9m4cSNff/01Xbp0wdvbm48++og6derw888/I0kSCxYs4L333mPEiBE0btyYlStXkpWVxdq1awuuk5KSQosWLWjatCnu7u6kpqYa8KMSBEF4fCIACoJQbWg0GrRaLaampoVuNzMzIyAggNu3bxMTE0OfPn0K7jMxMaFr164EBgYW3PbJJ5/Qu3dvzM3Nkcvl9O3bt9w+BkEQhNKgNHQBgiAI5cXKyor27dvz6aef0rBhQ1xcXFi3bh0nTpygXr16xMTEAODi4lLoeS4uLty5c6fg/QEDBhAfH09aWhpOTk7l+jEIgiCUBjECKAhCtbJq1SokSaJGjRqYmJiwaNEinn/+eRQKRcFjZDJZoedIkvTAbSYmJiL8CYJQaYkAKAhCteLl5cXhw4fJyMggPDyckydPkpubS506dXB1dQUoGAnMFxcX98CooCAIQmUmAqAgCNWShYUFbm5uJCcns3v3boYOHVoQAvfu3VvwOLVazeHDh+nQoYMBqxUEQShdYg2gIAjVyu7du5Ekifr163Pjxg3efPNN6tevz8SJE5HJZMyePZsvvviCevXqUa9ePb744gvMzc15/vnnDV26IAhCqREBUBCEaiU1NZW5c+cSERGBvb09I0eO5PPPP8fIyAiAt956i+zsbGbOnElycjLt2rVjz549WFlZGbhyQRCE0iOTJEkydBGCIAiCIAhC+RFrAAVBEARBEKoZEQAFQRAEQRCqGREABUEQBEEQqhkRAAVBEARBEKoZEQAFQRAEQRCqGREABUEQBEEQqhkRAAVBEARBEKoZEQAFQRAEQRCqGREABUEQBEEQqhkRAAVBEARBEKoZEQAFQRAEQRCqGREABUEQBEEQqhkRAAVBEARBEKoZEQAFQRAEQRCqGaWhCxAEQShNWq2W+Ph4oqOjiYqKIjo6mri4ONLT0wveMjIyHvh7ZmYmWq0WnU5X8AYgl8sL3hQKBRYWFlhZWWFpaYmVldUDf7eyssLZ2Rk3Nzfc3d1xc3PDyckJhUJh4H8ZQRCEu2SSJEmGLkIQBOFRqVQqbt68ybVr1wgJCeHWrVtERUUVCntarRZ7e/uCAObi4oK1tXWRoS3/TwsLC5RKZUHY02g0+Pv707lzZxQKBTqdDo1GQ2ZmZqHgeH+YTEtLIzY2tiCAJiUloVAoCoVCd3d3vLy88PHxwcfHBy8vL0xMTAz9TysIQjUiAqAgCBVSXFwcwcHBXLt2rdBbaGgoZmZmhcJTjRo1Co24ubq6PnWgys3NZefOnQwYMAAjI6Mnvo5KpSImJqbQiGRkZGRBiL127Ro5OTl4enoWfEz5b82bN8fZ2fmpPg5BEISiiAAoCILBxcTEEBQUVOgtMjISb29vGjRo8EAwcnd3RyaTlWlNpRUAH0aSJKKioh4IuleuXOHmzZt4eHjQqlUrWrZsSatWrWjVqhWurq5lVo8gCNWDCICCIJSrnJwcjh8/jr+/P6dPnyYoKIjo6Gh8fHwKAk6rVq1o0aIF1tbWBquzvAJgSVJTUwkODi4UjK9du4abmxutWrWidevWdOnSBT8/P0xNTQ1SoyAIlZMIgIIglKn8wHfo0CEOHTrE8ePHsbe3p2vXrrRt27Yg7FlZWRm61EIqQgAsSlpaWkEoPHnyJIcPHyYpKQk/Pz+6detGt27dRCAUBOGhRAAUBKFUaTQaAgMDOXDgQKHAlx9Ounfvjre3d5lP4T6tihoA7ydJEtevXy8I2IcOHSoUCHv06EGHDh1QKkXTB0EQ7hIBUBCEp5aamsru3bvZtm0bO3fuRKlU0qtXr4LQV69evQof+O5XWQLg/e4PhPv27UOj0TBw4EAGDx5Mv379DDq1LghCxSACoCAITyQ0NJTt27ezbds2Dh8+jI+PD4MHD2bIkCG0bdu20ve9q6wB8H5arZaTJ0+ybds2tm/fzrVr1+jWrRuDBw9m8ODB1K5d29AlCoJgACIACoLwyG7cuMGaNWvYuHEjV65coUuXLgwZMoTBgwdTt25dQ5dXqqpKALzfzZs32b59O9u3b8ff3x9fX19GjBjB2LFj8fb2NnR5giCUExEABUEoUXx8POvXr2f16tWcPXuW/v37M3r0aPr374+tra2hyyszVTUA3islJYX//vuP9evXs3PnTlq2bMm4ceMYPXo0Tk5Ohi5PEIQyJAKgIAgPyMzMZOvWraxZs4a9e/fi5+fH2LFjefbZZ7G3tzd0eeWiOgTAeyUlJbFhwwZWr17NiRMn6N27N+PGjWPIkCFYWFgYujxBEEqZCICCIAD6zQMBAQEsXbqUTZs2UatWLcaNG8fzzz9fLdeJVbcAeK/Q0FDWrl3L6tWrCQsLY8SIEUydOpVOnTpVus08giAUTW7oAgRBMKzk5GQWLVpEo0aNGDp0KPb29hw5coRLly7x7rvvVsvwV93Vrl2bd999l0uXLnHkyBHs7e0ZMmQIjRs3ZtGiRSQnJxu6REEQnpIIgIJQTQUHBzNlyhRq1KjB+vXreeedd4iMjGTBggW0aNFCjPQIyGQyWrRowYIFC4iKiuLtt9/mr7/+okaNGkyZMoXg4GBDlygIwhMSAVAQqpHc3FzWr19Pp06d6NixIwqFguPHj3P06FFeeOEFzMzMDF2iUEGZmZnxwgsvEBgYyPHjx5HL5XTo0IHOnTuzfv16cnNzDV2iIAiPQawBFIRqICsri2XLlvHtt9+iUCiYNWsWkyZNws7OztClVVjVeQ3go0pOTuaPP/5gyZIlaLVa3nzzTSZNmoS5ubmhSxME4SFEABSEKiwlJYUlS5awcOFCatSowdy5cxk5cmSlb9JcHkQAfHRarZZ//vmHL7/8kqioKGbPns3MmTOrdJsgQajsxBSwIFRBMTExvPPOO9SqVYs9e/bw559/cubMGUaNGiXCn1DqFAoFo0eP5uzZs6xcuZJdu3bh6enJO++8Q2xsrKHLEwShCCIACkIVEhoaysyZM6lTpw6XLl1i165dHD58mH79+olNHUKZk8lk9O/fH39/f3bu3MnFixepXbs2M2fOJDQ01NDlCYJwDxEABaEKiIuL45VXXqFhw4akpKRw4sQJtm/fTocOHQxdmlBNdezYkR07dnDixAlSUlJo2LAhr7zyCnFxcYYuTRAERAAUhEotPT2djz76CC8vL+7cucOpU6dYu3YtTZs2NXRpggBA06ZNWbt2LadOnSI0NBQvLy8++ugj0tPTDV2aIFRrIgAKQiWkUqlYtGgRXl5e7N+/n127drF161YaN25s6NIEoUiNGzdm27Zt/Pfff+zbtw8vLy8WLVqESqUydGmCUC2JACgIlYhWq2XVqlU0aNCApUuX8scff+Dv70/Hjh0NXZogPJJOnTpx5MgRli1bxm+//UaDBg1YvXo1Op3O0KUJQrUi2sAIQiVx7NgxZs2aRWJiIp9++iljx44VO3rLkGgDU/a0Wi2rV6/mgw8+wMHBgSVLltC+fXtDlyUI1YIYARSECi4uLo6JEyfSq1cvRo4cSUhICC+88IIIf0Klp1AomDBhAiEhIYwcOZJevXoxadIksVFEEMqBCICCUEFpNBoWL16Mj48PqampXL58mffeew9TU1NDlyYIpcrU1JT33nuPy5cvk5KSQv369QtOFxEEoWyIACgIFdDRo0dp3bo1Cxcu5K+//mLTpk14enoauixBKFOenp5s2rSJdevWsWDBAlq3bk1gYKChyxKEKkkEQEGoQOLj45k4cSJ9+vRh1KhRXLx4kX79+hm6LEEoV/369ePixYs888wz9O7dm4kTJxIfH2/osgShShEBUBAqiA0bNuDr60tKSgqXL1/m3XffxcTExNBlCYJBmJiYFEwLJycn4+vry4YNGwxdliBUGSIACoKBxcfH8+yzzzJjxgwWL14spnsF4R6enp5s3ryZH3/8kRkzZjBq1CgxGigIpUAEQEEwoPxRP51Ox6VLlxg9erQ4s1cQ7iOTyRgzZgyXLl1Co9HQqFEj/vnnH0OXJQiVmgiAgmAA8fHxjB49munTp/Pjjz/yzz//4OLiYuiyBKFCc3FxYePGjSxcuJBp06YxevRoEhISDF2WIFRKIgAKQjnbtGkTjRo1Ijc3l8uXLzNmzBgx6icIj0gmk/Hcc89x6dIl1Go1vr6+bNq0ydBlCUKlIwKgIJST7Oxspk2bxpQpU1i4cCEbN24Uo36C8IRcXV3ZtGkTCxcuZMqUKUybNo3s7GxDlyUIlYYIgEKF5u/vz+DBg3F3d0cmk7Fly5ZC93/00Uc0aNAACwsL7Ozs6NWrFydOnCj0mG7duiGTyQq9jRkzptBjjh07RvPmzfH09GTp0qWl/nFcuXKFtm3bcuHCBYKDg3nuuefEqJ8gPKX80cCzZ89y4cIF2rVrx5UrV8q1hi+//BKZTMbs2bMLbnvxxRcf+J7j5+dX6HkhISF07NgRDw8PPvnkk3KtWRBABEChgsvMzKRZs2YsXry4yPt9fHxYvHgxFy5cICAggNq1a9OnT58HdglOnTqV6Ojogrdff/210P2TJk1i3rx5rFu3jq+++oqwsLBS+xhWrlxJ27ZtGTRoEIcPH6ZWrVqldm1BEPQ7hQ8fPsyAAQNo27YtK1euLJfXPXXqFL/99htNmzZ94L5+/foV+p6zc+fOQvfPmjWL8ePHs3XrVrZv387Ro0fLpWZByKc0dAGCUJL+/fvTv3//Yu9//vnnC73//fffs2zZMs6fP0/Pnj0Lbjc3N8fV1bXY62RlZdGyZUucnZ2xs7MjIyPjqWvPyMhg5syZ7Nq1i3/++Ye+ffs+9TUFQSiakZER8+fPp1u3brzwwgscOHCAJUuWYGlpWSavl5GRwdixY1m6dCmfffbZA/ebmJiU+D0nJSWFFi1a0LRpU9zd3UlNTS2TOgWhOGIEUKgy1Go1v/32GzY2NjRr1qzQfWvWrMHR0ZFGjRoxZ84c0tPTC93/wQcf0LBhQ2xsbPDz88PX1/epajl37hytW7cmIiKC4OBgEf4EoZz069eP4OBgwsLCaN26NefPny+T15k1axYDBw6kV69eRd5/6NAhnJ2d8fHxYerUqcTFxRW6/5NPPqF3796Ym5sjl8vF9wih3IkRQKHS27FjB2PGjCErKws3Nzf27t2Lo6Njwf1jx46lTp06uLq6cvHiRebOncu5c+fYu3dvwWMmT57MmDFjUKvV2NnZPVU9f/75JzNmzODtt9/mvffeQ6FQPNX1BEF4PO7u7uzbt4/PPvuM9u3b8/PPP/PCCy+U2vX/+usvzpw5w6lTp4q8v3///jz77LN4enpy+/Zt5s2bR48ePQgKCio43WfAgAHEx8eTlpaGk5NTqdUmCI9MEoRKApA2b978wO0ZGRnS9evXpWPHjkmTJk2SateuLcXGxhZ7ndOnT0uAFBQUVKr1aTQa6Y033pDs7OykvXv3luq1hfKnVqulLVu2SGq12tClCE9hz549kp2dnTRnzhxJo9E89fXCwsIkZ2dnKTg4uOC2rl27Sq+++mqxz4mKipKMjIykjRs3PvXrC0JpEVPAQqVnYWGBt7c3fn5+LFu2DKVSybJly4p9fMuWLTEyMuL69eulVkNKSgqDBg1i586dnDx5sthpIUEQylfv3r05ceIE//77L4MGDSIlJeWprhcUFERcXBytWrVCqVSiVCo5fPgwixYtQqlUotVqH3iOm5sbnp6epfo9RxCelgiAQpUjSRIqlarY+y9dukRubi5ubm6l8nohISG0a9cOhULB8ePH8fb2LpXrCoJQOurVq8exY8dQKBT4+flx7dq1J75Wz549C9o55b+1bt2asWPHEhwcXOSSj8TERMLDw0vte44glAYRAIUKLSMjo+CbLMDt27cLFnhnZmby7rvvcvz4ce7cucOZM2eYMmUKERERPPvsswDcvHmTTz75hNOnTxMaGsrOnTt59tlnadGiBR07dnzq+nbv3o2fnx8jRoxg69atWFtbP/U1BUEofTY2NmzdupVhw4bRrl07du/e/UTXsbKyonHjxoXeLCwscHBwoHHjxmRkZDBnzhyOHTtGaGgohw4dYvDgwTg6OjJ8+PBS/qgE4cmJTSBChXb69Gm6d+9e8P7rr78OwIQJE/jll1+4evUqK1euJCEhAQcHB9q0acORI0do1KgRAMbGxuzfv5+FCxeSkZFBzZo1GThwIB9++OFTbc6QJIkffviBDz74gN9+++2BdjSCIFQ8CoWC+fPn06RJE0aOHMmnn37K7NmzS7Upu0Kh4MKFC/z555+kpKTg5uZG9+7dWb9+PVZWVqX2OoLwtGSSJEmGLkIQKhOtVsv//vc/tm3bxpYtW2jTpo2hSxLKQG5uLjt37mTAgAEYGRkZuhyhlJ06dYphw4YxdOhQfvzxR7FbX6h2xBSwIDyGnJwcRo0axeHDhzl27JgIf4JQSbVp04Zjx45x8OBBRo8eTU5OjqFLEoRyJQKgIDyi1NRU+vXrR1RUFEeOHBFHuglCJVerVi0CAgKIiIigf//+4jQOoVoRAVAQHkF0dDRdu3bF0tKSffv24eDgYOiSBEEoBQ4ODuzfvx9zc3O6du1KdHS0oUsShHIhAqAgPMT169fp0KEDzZs3Z/PmzVhYWBi6JEEQSpGFhQVbtmyhWbNmdOzYUfTrE6oFEQAFoQSnT5+mY8eOjB49muXLl4vNAIJQRRkZGbFixQqeffZZOnbsyOnTpw1dkiCUKdEGRhCKceTIEQYOHMjHH3/Ma6+9ZuhyBEEoYzKZjK+++goXFxd69OjBv//+S+fOnQ1dliCUCREABaEIBw8eZMiQISxYsIDJkycbuhxBEMrR66+/jrW1NQMGDGD79u1069bN0CUJQqkTAVAQ7rNv3z6GDRvG4sWLefHFFw1djiAIBjBlyhQUCgWDBg1i69at9OzZ09AlCUKpEgFQEO6xd+9eEf4EQQBg4sSJSJLEkCFD2LJlC7179zZ0SYJQasQmEEHIc+DAAYYPH85bb71F7dq1UalUhi5JEAQDUqlU1KlTh7feeovhw4dz8OBBQ5ckCKVGBEBBAA4fPszQoUNZsmQJ8+bNw8LCgsDAQBECBaGaUqlUBAYGYmFhwbx581iyZAlDhgzB39/f0KUJQqkQAVCo9gIDAxk8eDALFy5kwoQJyOVyWrduLUKgIFRT94a/1q1bI5fLmTBhAgsWLGDQoEEEBgYaukRBeGoiAArV2qVLlxg0aBBfffUVkyZNKrhdhEBBqJ6KCn/5Jk+ezPz58xk0aBCXLl0yYJWC8PREABSqrbCwMPr27curr77KjBkzHrhfhEBBqF5KCn/5Zs6cySuvvEK/fv0IDw83QJWCUDpEABSqpcTERPr27cvgwYP54IMPin2cCIGCUD08SvjL9+GHHzJw4ED69u1LYmJiOVYpCKVHBECh2snMzGTgwIH4+vqyePFiZDJZiY8XIVAQqrbHCX+gPzFkyZIlNGjQgEGDBpGZmVlOlQpC6REBUKhWcnNzGTVqFCYmJqxZswaFQvFIzxMhUBCqpscNf/kUCgVr167F2NiY0aNHk5ubW8aVCkLpEgFQqDYkSWLKlClERESwdetWTE1NH+v5IgQKQtXypOEvn6mpKVu3biUsLIypU6ciSVIZVSoIpU8EQKHamDdvHv7+/vz333/Y2to+0TVECBSEquFpw18+W1tbdu3axaFDh5g3b14pVykIZUcEQKFaWLduHT/++CM7d+7E3d39qa4lQqAgVG6lFf7yubu7s3PnTn788UfWr19fSlUKQtkSAVCo8oKCgpg6dSrr1q2jYcOGpXJNEQIFoXIq7fCXz9fXl7Vr1zJ58mSCgoJK5ZqCUJZEABSqtJiYGIYOHcqHH37IgAEDSvXaIgQKQuVSVuEv38CBA/nggw8YNmwYMTExpXptQShtIgAKVZZKpWL48OF0796dOXPmlMlriBAoCJVDWYe/fG+++SZdu3ZlxIgR4vuBUKGJAChUSZIkMX36dHQ6HUuXLn1or7+nIUKgIFRs5RX+QN8jcOnSpWg0GqZPny52BgsVlgiAQpW0YMECdu/ezebNmx+73cuTECFQECqm8gx/+czMzNi8eTO7d+9m4cKFZf56gvAkRAAUqpz9+/czb948tmzZ8tQ7fh+HCIGCULEYIvzlq1GjBps3b+a9995j//795fa6gvCoRAAUqpTY2FjGjh3LDz/8QNu2bcv99UUIFISKwZDhL1+7du1YsGABY8eOJTY2ttxfXxBKIgKgUGXodDrGjRtHjx49mDJlisHqECFQEAyrIoS/fFOmTKF79+6MHz8enU5nsDoE4X4iAApVxvz58wkNDeWXX34p000fj0KEQEEwjIoU/kC/KeTXX3/l1q1bfPXVVwatRRDuJQKgUCUcOXKEzz//nPXr12NtbW3ocgARAgWhvFW08JfP2tqav//+m88++4yAgABDlyMIgAiAQhWQkJDAc889x1dffUXLli0NXU4hIgQKQvmoqOEvX8uWLZk/fz7PPfcciYmJhi5HEJBJokmRUIlJksSQIUMwMjJi48aNBp/6LY5Op+P06dNkZmbSoUMHTExMDF2S8BC5ubns3LmTAQMGYGRkZOhyykV4UhYmSjnO1mXfOqk0VfTwl0+SJEaMGIFGo2Hbtm0V9vuVUD1UzK8SQXhECxcu5MKFCyxbtqxCfzMVI4FCRRcSk07Xbw7S7dtD/HToBiqN1tAlPZLKEv5Avx7wjz/+4MKFC6I/oGBwFfcrRRAe4sqVK7z33nusWbMGOzs7Q5fzUCIEChWVJEl89u9latmbM6ZNLb7bc40+P/iz73JshT7JojKFv3x2dnasWbOG9957j6tXrxq6HKEaq/hfLYJQBK1Wy8SJE5kxYwYdO3Y0dDmPTIRAoSI6GBLHkesJvDugIR8M9mXXq52paWfOlD9PM/XP08Sl5Ri6xAdUxvCXr2PHjkyfPp2JEyei1VaOkVah6qk8XzGCcI/vvvuOlJQUPv30U0OX8thECBQqklytjs/+vUL7ug709nUBoJ6LFasmt+XnsS0JDk+hzwJ/tp2LqjCjgZU5/OX77LPPSEpK4vvvvzd0KUI1Vfm+aoRq78qVK3z88ccsX74cMzMzQ5fzREQIFCqKNcfvcDshk/cHNSy0jlYmk9G/iRt7XutKR29HXll3lllrz5CYYdj/q1Uh/IH+vODly5fz0UcfceXKFUOXI1RDlfMrR6i2NBoNL774IrNmzaJ9+/aGLuepiBAoGFpKlpof9l1nVKuaNHK3KfIx9hbGLHm+JYufb8Gxm4n0+cGfXRdjyrlSvaoS/vJ16NCBmTNniqlgwSAq91ePUO189913pKWl8cknnxi6lFIhQqBgSAv3X0ej1fFGX5+HPnZQU3d2v9aFFrXsmL46iNfWB5OalVsOVepVtfCX75NPPiElJYXvvvvO0KUI1UzV+AoSqoXLly/zySefsGLFCkxNK1efspKIECgYws34DFYdu8PM7t44Wz3a15OzlSlLX2jFd882Y9+VWPosOIz/tfgyrrTqhj/QTwWvWLGCjz/+WEwFC+Wq6nwVCVWaTqdjypQpzJo1i3bt2hm6nFInQqBQ3r7ceQUXa1Mmd6rzWM+TyWSMbOXBnte64ONixYTlJ1mw7xo6XdlsEKnK4S+fn58fs2bNYvLkyeh0OkOXI1QTVe8rSaiSVq5cSWRkJB999JGhSykzIgQK5SXgegL7rsTxTv8GmBopnugabjZmrJzYltd6+bBw/3UmrTxFSpa6VOusDuEv34cffkhkZCR//vmnoUsRqomq+9UkVBnJycm89dZbLFiwAHNzc0OXU6ZECBTKmlanb/rcytOOQU3dnupacrmMV3rWY8XEtgSHpzBwUQAXI1NLpc7qFP4ALCws+OGHH3jrrbdITk42dDlCNVC1v6KEKmHevHm0bt2aYcOGGbqUciFCoFCW1p8K52pMOh8M8i214xO7+jix4+VO2FsY88wvgew4H/VU16tu4S/f8OHDadmyJR988IGhSxGqgerxVSVUWmfPnuWPP/5g0aJFFfqs39ImQqBQFtJzcvl+bwjDW9SgWU3bUr22h505G6a3p28jV/639izf7Ql5onWB1TX8gX595aJFi1i2bBnBwcGGLkeo4qrPV5ZQ6eh0OmbNmsVrr71GvXr1DF1OuRMhUChtSw7eJEOl4a1+9cvk+qZGChaMbs7b/Rqw+OANpq0OIlOleeTnV+fwl8/Hx4fZs2cza9YssSFEKFPV76tLqDTyN368++67hi7FYEQINAxJktBoq9YP37DELP4IuM20Ll642ZTdCToymYwZ3bz4/YXWBN5IYNyyE4/UL1CEv7vee+89wsPDxYYQoUzJpIpyuKMg3CM5OZn69evzyy+/MGLECEOXY3A6nY7Tp0+TmZlJhw4dMDExMXRJlUpqVi7RadnEpamIS1cRn64iLj1H//c0FfEZKhLSVag0OjQ6HToJTBQSX7fVMmDAAIyMjAz9ITy1mWuCCLqTzME53TA3VpbLa54LT2HC8pO4Wpvy5+S2xfYbFOHvQRs3bmTGjBlcu3YNW1tbQ5cjVEEiAAoV0pw5czh//jy7d++uVmv/SiJC4MNJksTthEwuRKZyJTqdqzFpXI1OJyYtp9DjrE2VOFub4mxlon+zNsXR0hhTIwUKuQylXMauC5EMc4irEgHw5O0kRv16jO+ebcbIVh7l+trXYtMZ9/sJzI0VrJ7SDg+7wjv5RfgrmiRJ9OnTh+bNm/PNN98YuhyhChIBUKhwwsLCaNCgAUePHqVFixaGLqdCESGwMJVGy4lbSZwOTeJseArnI1JJzdZPN7rbmNLAzZoGrlbUd7XCw84cZysTnKxMHqn33RfbL9BId6vSB0CdTmLokqPIZLBlZkfk8vL/hSosMYtxy06Qq9WxanI7vJ0tARH+Hubs2bN07NiRkJAQatasaehyhCpGBEChwpk8eTLZ2dmsXbvW0KVUSNU9BCZmqDgYEs/+K7H4X4snU63F3sKY5jVtC96aethga278VK/z+fYLNK4CAfCfoAjmbDjH39Pa07aOvcHqiEvLYdyyEyRkqPlzUlvqOZqK8PcInnvuOSwsLPj9998NXYpQxYgAKFQoly9fplWrVly8eBEvLy9Dl1NhVacQKEkS1+My2Hcllv1X4jgTpm+S28zDll4NnenZ0IUGrlalvlSgKgTALLWG7t8eorWnPUvGtjR0OSRnqnlxxSliEtP5oJ0SJztrEf4e4saNGzRp0oQzZ87QsGFDQ5cjVCEiAAoVyvDhw6lRowaLFy82dCkVXlUPgeFJWfx9OpytwVGEJWVhZqSgcz1HejV0oXsDZ5ysyvbjrQoB8Pu91/jl0E32v9GVmvYV4xSdpPQstu0+SES6lm6d/OhUz9nQJVV4s2bNIjo6mk2bNhm6FKEKKZ+tYILwCI4dO8bevXu5efOmoUupFPJbxJw+fZrAwMAqEQLVGh17Lsfw18lwAm4kYGWiZFAzNz72bUR7L4cnPrf2SVT2X42jUrL5zf8mkzrVqTDhT6VSce70CRrUdOTQJVi76gyrp7SjZS07Q5dWoc2bNw9vb2+OHz+On5+focsRqggx7i5UCJIk8c477/D666/j4uJi6HIqjarWJ/CvU2H8b+1ZcnK1fPtsM06815MvRzSlewPncg1/VcHXu65iaaJkVveKsZTi3g0fbdu04edxrWnkbs3E5ae4GpNm6PIqNFdXV1577TXeeecdxKSdUFpEABQqhP/++49Lly4xZ84cQ5dS6VSlEJjfoPjDwY14ppVHufWrK0pl/jEbHJ7CluAo3uhTHytTw09fF7Xb18xYwbIX2+BhZ8b4ZScJTcg0dJkV2pw5c7h48SK7du0ydClCFSECoGBwkiTx4YcfMnfuXKytrQ1dTqVUVUJgjwbOuNuYsvr4HUOXUmlJksSnOy7TwNWKUa0N3zqkpFYv1qZGvDugIfHpKnacjzJglRWfjY0Nc+fO5cMPPxSjgEKpEAFQMLj9+/dz+/Ztpk+fbuhSKrWqEAIVchnPt6vF1nORj3R8mPCgHeejCbqTzLxBvigM0PPvXg/r83fiViLTVwfRyN2a0W1qGajKymPatGncvHmTAwcOGLoUoQoQAVAwuC+++IJXXnkFCwsLQ5dS6VWFEDiqTU00WomNZyIMWkdlHGTJydUy/7+r9GroTEdvR4PW8rDwt+dSDOP/OEmTGjb89ZJfme/qrgosLS155ZVX+OKLLwxdilAFiAAoGNSJEyc4deoU//vf/wxdSpVR2UOgs5Up/Rq7svrEHTHV9ZiWBdwmNi2HdwcYtl/cw8Lf36fCmb46iF4NnVk+sU2FWKdYWbz88sucOHGCkydPGroUoZITAVAwqC+//JJp06Zhb2+4EwqqosoeAsf5eXIrPpNjNxMNXUqlEZeew08Hb/BC+9rUdbI0WB0lhT9Jkvjp0A3e2nie59rW4sfnWmKiFLu7H4e9vT3Tpk3jyy+/NHQpQiUnAqBgMJcuXWLXrl28/vrrhi6lSqqMIVCl0XIhIpU2nnbUc7Zk9QmxGeRRfbf7GkZKOa/2rGewGkoKfzqdxKc7rvD1rhBe7VmPz4Y1Nvgaxcrq9ddf57///uPy5cuGLkWoxEQAFAzmq6++4oUXXsDd3d3QpVRZlSUEpuXk8svhm3T+6iCDFwfwe8Btxvl5svtSLLFpOQapSapEjWAuRaXyd1A4s3vWw8bcMNOpJYU/tUbH638HszzwNp8ObcRrvX1K/ei+6qRGjRqMHz+er776ytClCJWYCICCQYSGhrJ+/XreeustQ5dS5VXkEJil1rBg3zU6fnmA7/dco0cDZ3o1dGFFYCiDm7lhrJDz18lwQ5dZ6rLUGoYtOcrQJUf59fBNwpOynvha+W1f6jpaMNbPsxSrfHQlhb8stYYpf57m3wvR/PhcC8a3r22QGquat956i/Xr13PnjhglF56MCICCQfzwww8MHz4cb29vQ5dSLVS0EKjVSfx9Kpxu3xzip0M3GdO2Jkfe7s78kU15o48P0ak5HLmewLAWNVh3MgyNVmfQekub/7UEgsNTsDc34vu91+j89UGG/3SUjUER5ORqH+taey7HcvxWEu8P9MVIUf7f0ksKf8mZap5feoKg0CRWTGzLoKZitL+01KtXj6FDh/LDDz8YuhShkhIBUCh36enpLF++nNmzZ5f4uPCkLE7eThI7QUtJRQmBAdcTGPRjAG9tPE+7ug7sf70r7w30xcXaFICGbtZ08nZk6ZFbjGtXi5i0HPZdiSv3Osvyf92eyzH4uFiyfGJbzszrzY/PtcDSRMkbG87R/sv9fLnzCmGJDx8VVGt0fLnzCp3rOdKtvlMZVly0ksJfZEo2z/wSSHhSFn+91N7gbWmqotmzZ7N8+XIyMjIMXYpQCYkAKJS7VatW4ePjQ7t27Yp9TE6ulqFLjjLq12MMXhzAtnNRVW4UyBAMGQJvxKUzacUpxi07gbmxgs0zO/Djcy2oaW/+wGOndK7Dxcg0MlQaWtayrVIng2i0OvZfiaOPrysAFiZKBjdzZ9Xkdhyc040RLT1YdzKMrt8eZOLykxy4GotOV3Qc/fNYKGFJWbw/0Lfc19SVFP6ux6bzzM+BqDQ6/pnRgSYeNuVaW3Xh5+eHt7c3q1atMnQpQiUkAqBQriRJYvHixbz88ssl/sDaGhxJcpaar59piq2ZMa+sO0u3bw+x/OhtstSacqy46invEKjSaPlm91X6LjjCjbgMfhrbkn+mt6dFLbtin9PVx4l6zpYFm0ECbiRwu5zPii2rgeeToUmkZufSp5HLA/fVcbRg3iBfTrzbi69GNCU+Q8WkFafpv/AI/12ILhQEkzLVLNx/nefa1qK+q1XZFFuMksJf0J1knvnlGDZmRmyc0YE6jqLBe1mRyWS8/PLLLF68WMyUCI9NBEChXB04cID4+HhGjx5d7GMkSeKPgFB6NnBhVOuarJ7Sjh0vd6KVpx2f/XuF9l8e4NvdIcSnV5zNDJVNeYXAc+EpDP4xgN/8b/Fqz3rsfb0LA5q4PXS0SiaTMblTHfZdiaWRuzV25kasqSKjgHsuxeJqbUqTGsWPipkZKxjVpibb/9eJf6a3x9nahBlrzjDwxwD2XY5FkiR+2HsNJHi9t085Vl9y+DsYEsfY349T38WK9dPaF0zrC2Vn9OjRxMbGcvDgQUOXIlQyIgAK5eqXX35h0qRJmJoW/4Ph6I1EQmLTmdSpdsFtjWvYsHBMCw6/2Y2RLT344+htOn51gLmbznMzXqx/eRJlGQJztTq+2xPC8J+OYqJUsP3lTrzSs95jNf0d1qIG9ubGrD4exqjWNdnwBBskKhpJkth7OZY+jVweacpWJpPRurY9qya3Y8P09tiYKZny52mGLA5gzYk7vNzTGwfL8jtCraTwt/lsBFNXnqaTtxN/Tm6LjZk43aM8mJmZMWnSJH755RdDlyJUMiIACuUmJiaGbdu28dJLL5X4uD+O3qaBqxXt6zo8cJ+HnTkfDPbl2Ds9ebVnPfZdiaPX94eZ+udpTocmlVXpVda9IXDvwSP8djCE3Kdca3krPoNnfg7kp0M3md3Lh80zO9DA1fqxr2NqpGCcnycbgsIZ1NSN1Oxctp+LeqraHkdZ9AG8FJVGZEp2wfq/x9Gmtj3rpvqxYmIbbsVnopPgfEQqCRnlMxJeUvj7/cgtXlt/jhEta/DLuJaYGonTPcrTSy+9xNatW4mNjTV0KUIlIgKgUG7++OMPunbtipeXV7GPuRWfwYGrcUzuVKfEERIbcyNmdfcm4O3uzB/RRB86fjnGiJ+OsutiDNpiFs0LD5LL5aRZ1uRsdBa50Vd546/TTxwCN5+NYOCiAFKzc9k4owOv9KyH8ilak4xv74lOAv/rCXT1car0m0H2XI7FylRJu7pPdvShTCZDAjLVWl5o78nRGwn0+v4wm85ElOkasOLCnyRJfPnfFT779wozunnx1cimT/X5Fp6Mt7c3Xbp04Y8//jB0KUIlIr5ShXKh0+lYunQp06dPL/Fxy4+G4mhpzOBmj9YvzESpYHSbWux9rSu/v9AapVyuP2T++8OsOXGn0k8ZlodDIXHMXBNMlNKdWs52NJBFM+cxQ6BWJzH/v6u8tv4c/Ru78u8rnWle0/apa3O0NGFEixqsDAxlTJuanItI5XxEylNf91GURZ7acymGng2cn7hfX65Wx+f/XqFdHXs+HtKIfa93pUs9J17/+xwvLj9FRPKTN5QuTnHhT6PV8dY/5/n18C3mDfLl7X4NxOkeBjR9+nR+++03dDrRLUF4NCIACuXiyJEjZGRkMHjw4GIfk6nSsPFMBGPbeT72FJJcLqOXrwt/T2+fN+VoxftbLtJx/gEW7b9Ocqb6aT+EKinwZgIvrQqii48jC59rycAenajpbEd9WTRvrg96pNY76Tm5vPTnaX7zv8l7Axry3ahmWJgoS63GSZ3qEJeuIlOloYatWaUdBQxLzOJqTDp9Gj3+9G++dSfDuBmfwbxB+rYvDpYmLHquBX+82Jprsen0+cGflYGhxbaNeVzFhb9stZbpq4PYfDaSBaObM7lTnVJ5PeHJDRkyhIyMDAICAgxdilBJiAAolIvVq1czevRojIyKXxi+70osWWotz7TyeKrXalHLjp/HteLgG93o38SVJQdv0GH+AT7cevGpjtyqam7EZTBtVRDt6tizZGxLjJVy5HJ5QQj0IYq3/j5TYggMS8xi5M+BnLydxLIX2zC1S91SHwXycbGiq48TfxwNZUzbmmw7F0VqVm6pvkZ52HM5BmOlnC4+T9awOTUrlx/2XuOZlh40vm8HcY8GLux5rQsjWtbgw22XGLP0+FOfoVxc+EvNyuWFP05w9EYiv09ozbAWNZ7qdYTSYWRkxKhRo1i9erWhSxEqCREAhTKXk5PDhg0bGDduXImP2xocRStPuyIbAz+J2o4WfDasCYHv9OClLnXZdi6Krt8cZNbaM+U2jVhRJWeqmbzyFK7WpiwZ27LQ7tz8EOjhbIe3FMk7G84Uuaby2M1Ehi4JQKXRsXlWB7rXdy6zeqd0rsPl6DS8HC3Q6iQ2nokos9cqK3sux9LJ2xHLJxwd/fHAdVQaHW/2rV/k/VamRnw2rAl/veRHWGIWAxYeIeB6whO9VnHhLzYth1G/HuN6XAZrp7ajWxl+zoXHN27cODZs2GDwox6FykEEQKHM7dy5E0dHxxJP/kjKVON/LZ6hzUv/rFAHSxNe6+1D4Ds9+XhIIy5EpDJk8VHG/HaMg1fjql0DVbVGx/TVQaTnaPjjxTZYmz44KiuXyxnUoxMeTnbU1UUy974QuOVsJOOXncDX3Zqtszri7Vy2jYg7eTvSwNWKf85E0reRK6tP3KlUn7fEDBWnQ5Po4/tg8+dHcTshk5XHQpnR1Qvnh/TW86vrwL+vdMLX3Zrxf5zgyPX4x3qt4sLfrfgMRvwUSFpO7kMbeQuG4efnh729PTt37jR0KUIlIAKgUObWrFnD2LFjS5wa3HkhGgkY0MStzOowM1Ywvn1tDs7pxk9jW5Kdq2PiilP0XeDPhtPhqDVVf/G0JEm8v+UCZ8NS+G18qxJHW+VyOYN6dqKGkx21tRHM/UcfAv86GcZrfwczrEUNVkxsi625cZnXnd8Y+sDVOLrXd+ZWfCbHbiaW6WuWZr7cfzUOCej1hAHwi51XcLI0YWqXuo/0eAdLE3o1dEGSQKN99A+kuPB3PiKFZ345hpmxgo0zOpR54BeejEwmY+zYsaxZs8bQpQiVgEyqTL9GC5VOcnIyrq6uXLhwAR+f4k8sGPXLMcxNFKyY2LbcapMkiZO3k/jN/xb7r8bhYm3CxI51eL5drSJHxaqC3/xv8sXOq3w/qhkjWj7aWkudTsf2/QFExidzONWeE3fSeKG9Jx8NboRcXn67PlUaLR3nH6S3rzOnQ5Pxdrbk53Gtyuz13t90jjaKUBaEWIJcgYlSjq25Ee42Zrjb5r+Z4m5rRi178xI3Lk1ZeZrUbDUbpnd47DoCbybw/NITLBzTnKHNH229XdCdJEb/epzx7T35cHCjR3pOceEv4HoC01adxsfVij8mtMHOouwDv/DkQkJCaNasGTExMdja2hq6HKECK72teoJQhI0bN9KsWbMSw19EchYnQ5P4YXSzcqxM/9tyu7oOtKvrwPXYdJYeucX3e66x+MANnmtbk4kd6+Bua1auNZWlvZdj+fK/q8zq7vXI4Q/0I4GDe3Zi+/4AupDEHQsT5g30LdfwB/qWPxPae7L44A1e7VWP7/ZcIzYtp1SPG4tNyyEyJZtstZbo1Gywhyy1ho4+Dmi1EhlqDbcTMzl2K5HYtBzyZ8UVchk+LlY0qWFNi1p2tKlth5eTJTKZjCy1hiPX45nTp+i1eyXR6iQ+3XGFFrVsGfKIrZHi0nOYueYMLWrZ8u6Aho/0nOLC3/ZzUbz+dzAdvR35aWxLzI3Fj4yKrn79+jRp0oSNGzcyefJkQ5cjVGDiq1koU6tXr37o5o/t56IxNZLT+wlORygt9Vys+PqZZszpU5/lgaGsPn6H5UdDGdLMnald6tLQ7fFPsqhIbsRl8OpfZ+nXyJU3ej9+EMkPgSu3HWC8VyZDFx1i2yvdUCrLdxXJWD9Plhy6QWaOBhOlnHUnw5jdq3TOwk3NzqXfAn+S83YYmygkhrSFlOxcNp2JLPRYBwtjGrpZ4WJthrWpEmOlgkyVhouRafwTFIFOAjtzI7r6OOFibYpKo6P3E0z//hMUzpXoNDbN7PBIu6tztTr+t/YsOgmWPN/ykfoNFhf+VgaG8tH2SwxrXoOvn2n6xL0LhfI3btw4Vq9eLQKgUCIxBSyUmaioKDw9PYmIiMDFpfgffv0W+OPtbMni51uWY3Uly1Bp+OtkGH8E3CYqNYcuPk5M61KXDl4Ola7ZrUqjZfiSQFQaLdtf7vRUozg6nY4VW/eTnZ3Fzlhrtr7ctdxD4HubL7D7Ugw9Gjjjfy2BgLe7l8rpE0mZalp+upd5g3zp3dCFH/ZcoZt5BMvD7PhkeFNUGh1Zai1xaTnEpOpHCu8kZnEnMZOoVH3LFUdLYxq5WeNsbYJWpz/6LSQ2HRnQt5Er/Rq70qOh8yMtMchQaej2zSE6ejuwcEyLR/oYPttxmRWBoax7yY82tR9+2khR4U+SJH7Ye41FB24wpVMd3h3QsNxHe4WnExMTg4eHB+Hh4bi5ld26aqFyEyOAQpnZsWMHfn5+JYa/kJh0rsak88YTTI+VJUsTJVM612VCh9r8ez6aX/1vMfb3EzRyt+alLnUZ2MSt0hx59dV/IdyIy2DLrI5PPYUnl8t5cWhPlm/dzwCXNIYvPszWV7oWOhe2rE3qVIc1J8JwtzUjJi2HfVfi6Nf46UePrUz1/zbWpkpqOZhjbqwouL2ph22Jz41Py+GPo6HEpuvD4a5LsaTnaLAxM0Iph7a17YlOy2H2+mCMlXIGN3VnnF8tmte0LfYXip8O3iA9J5e3+jV4pPq/3xPC7wG3eXdAgycOf1qdxLytF1l7Iox3+jdgWhn0dRTKnqurK35+fuzYsYOpU6cauhyhgqocP8GESmnbtm0lnvwBsO1cJDZm+qmyishIIWdYixrsfKUTqya3xd7CmFf/CqbrN4f4I+A2mSqNoUss0cGQOP44ept3+jfA1710prHlcjkTh/bE1Mycfs5pDP/xcLkeP+XlZEnPBs78dyGGlrVsS+1kECOFHFMjOek5hT+nSsXDA9DRm4n8fPgmm85Ecio0CS8nC4Y1d8fDzgyNDsb51WbrrI4EvtOD2b3qceJ2IsN/CuRX/1tFXi88KYvfA27zUpe61HiEdah7LsWw6MANADafiXxow/Oiwl9Orpb/rT3D+lPhfP1MU6Z39RLhrxIbPHgw27ZtM3QZQgUmAqBQJjIzM9m/fz9Dhgwp9jGSJLE1OIoBTVwxLudpxMclk8noXM+JVZPb8e8rnWhT247Pd16hw/wDfLP7KnHpT3fqQllIzlTz1j/n6erjxMSOtUv12vkh0MTUnD5OaYxc7F+uIXBy5zqExKbTprY9ATcSuBWfUSrXtTI1KgiA+YtjjB5hdPNcRAqeDubseLkT7w/0paa9BcdvJXEpKg2A47cSCLqTjJuNKTO7ebPj5U4YK+RkqYs+q/qrXVexNTNielevh752dEo2s9aewVgpZ82UdmSoNQxdcpSgO0lFPr6o8Jeek8uLy09y4Gocv4xrxajWNR/6ukLFNmTIEPbt20dWljj9SChaxf6pK1Ra+/bto2bNmtSvX/zU7pmwFCKSsxnSrHIdJdXI3YYFY1rg/1Z3nmnlwYqjoXSaf5B3Np7nRlzpBJHS8OG2S6g1Or5+pmmZjOTI5XImDeuJsak5vRxTeWZJ+YXA9nUd8HWz5nJUGnbmRqw5EVYq17UyVZKeU/iYOcUjrH+7EJFKUw9bGtewYUKH2vz4XAuOvt0NuUy/GWTXpVhG/hxI128O8fOhm6wIDEVCYpxfrQeudTo0iR3no5nTt/5Dz1TW6XQMXXKUXK3Esgmt6ejtyLZZnfB2tmTc7yfxv1a4CXRR4S8+XcWY345zKSqNVZPbPdFmFaHiadCgAR4eHuzbt8/QpQgVlAiAQpnIn/4tKXhsC47E1dqUtnUevl6pIqpha8a8Qb4Ezu3J7N712H81jl7fH2bKytOcCk0y6EkV/12IZtu5KD4e0qhU26TcTy6XM3lYT4xNzOjpkMozPx0plxAok8mY2qUOR24k0KuhC/8ERZBdzGja47AyNSJD9XhTwBqtjktRaTS973ze7edj0EkwvasXx+b2ZN1UP1p72vH93hAW7LuOs5UpoQmFR2d0OolPd1ymkbs1zzxCq56JK04Tl65iVndvOtfTL6OwszDmz0ltae/lwJSVp9l1MRooOvyFJWbxzC+BxKer2DC9faX9WhQeJJPJxDSwUCIRAIVSp9Pp2LFjR4nTvxqtjh3noxnczO2RRlgqMhszI2Z28ybg7e58PbIpoYmZPPvLMUb8HMiui9FFnqNblpIz1by/5SJ9G7mUydF695PL5Uwe3gsjEzN62qcw6ufyCYEDm7jjYm1ClkpLWk4u289HPfU1rU2Vd6eA0X/elA+ZAr4Zn0l2rpYmHoUD4NoT+rWJ49t7opDLaO/lwPejm/PVyKb660sSo349xvhlJ7gQkQrA1nORnItI5YNBD++z+Ovhmxy+Fk9rT7sHzgc2NVLw6/hW9G3sysw1Z/jnZOgD4e9SVCojfg5ELpOxcUYHGrhW7lZHwoOGDBnCjh07ynV5hlB5iAAolLqTJ0+Sm5tLx44di33MidtJJGaqK930b0lMlApGtanJntld+OPF1hgr5ExffYae3x1i9fE75OQ+/QjVo1i4/zoqjY5PhzUut0X8crmcKcN7oTQxo7tdCmN+CSjzHzrGSjkTOtRm79VY/Oo4sKYUNoNYmSpJu28K+GEjgOcjUpDJoNF9m2zORaRS087sgZ3XG05H0LKWLUff6cGv41sRnZrD4MUBTF8dxOc7rtCvkSvt6jqU+JpBd5KZ/99VbM2NWDvVr8jHGCnkLBjdnLFt3Im9cY6EHFlB+Dt2M5Exvx7HzcaUDdPbl3gkoFB5dezYEbVazalTpwxdilABiQAolLpt27YxYMAAlMri1y/5X4/HycqExjWq3qiDXC6jRwMX1k9rz5ZZHfF1t+aDrRfpOP8AC/ddJylTXWavfSMunVXH7/ByD2+crcpu6rcocrmcqcN7oTA2pattMs//drTMQ+DzbWuhkMlwtDTmXEQq5yNSnup6ViYPbgJRPmQk7kJkKnUdLbC6p7df4I0EVBrdA+1prkSncexWIhM71kEmk9G3kSu7Xu3M18805VBIHImZauYOKLntS2qWmnG/n0Auk7F5RocSN1BpctX0sEvBytKSt/0zWHsynF0Xo5mw/CTNatqy7iU/HC1NSnw9ofIyMjKif//+YhpYKJIIgEKp27NnDwMGDCjxMQHXE+jk7Vjl20w0r2nLT2NbcXBONwY0cePnwzfoMH8/H2y9SFhi6e/O++zfK9SwNePFUt71+6jkcjkvjeiNwsiUztZJjFtatiHQ1tyYZ1t7cPRGAu42pk/dEqaoTSAP6/d4Pm8DyL3+OHobgKmd6xa6fcXRUFytTQsFQ6VCTgNXK3JydTT1sMHTwaLE1xvx8zGyc7V882xT6jhZFvu4e9f8jR3YjRfa12HelovMWH2GPr4uLHuxNZYP2WQiVH4DBgxgz549hi5DqIBEABRKVUpKCmfPnqVbt27FPiYxQ8WlqDQ6ejuWX2EG5ulgwafDGhP4Tk+md/Vix/loun17kFlrznAuPKVUXuNgSByHQuJ5d0BDTJSKUrnmk5DL5bw0sjdyI1M6WiXxwtLAMg2BkzrWITk7l8Y1bNh2LorUrNyHPwn9/8PD1+L4bk8Ib/9znrmbLnAoJI6wpCz6/HCYfVdiAUjOUBV7jVytjsvRaTS5bwPIiVtJOFoY43zPBpykTDVbgiMZ397zgWPV/rf2DDLgp3Eln4bz5oZz3IzP4JlWNUo8z1mlUnEk4CghiWp2x1oAMhwsjJAAmUw/cmrI/yNC+enWrRtnzpwhNTXV0KUIFYz49U8oVQEBAXh7e+PuXvzmg6M3EwHoVMUD4IbT4fzqf4uBTdx4vl0tXKxNsbcwZnYvH6Z18WLjmQh+P3KLoUuO0raOPdO71qWbj/MTHbuVq9Xx2Y7L+NW1p28jw7fxkMvlTBvZm1827qW9VSIv/n6MP18qfk3o06jtaEHvhi5ci01Hq5P450wEkzvVKfQYSZIIiUnn79Ph+F9LICw5C7WmcCj1ctKPvOl00MHLkZM34wEVESnF93i8FpuOWqMfubv3tnSVhj6NCq9vXXdS36rmubaFW79sDAonLCmbIc3cqWFb/Fq8zWci2RAUgZeTBd8+27zYx+WHv/OxOay8JidNFUrgzUSuxKTzas96nL6TxPTVQWya2RFv5+JHEIWqoUaNGnh5eREQEMDAgQMNXY5QgYgRQKFUHTp0qMTRP4CA6/HUc7bE1aZ816iVJ41Wx/d7ryFJEkuP3KLD/APMXBPEsZuJSJKEmbGCcX6e7H+jG7+Ma0muVsekFafpu8Cfv0+Ho9I83oaRNcfvcCshk3mDfCvMtLpcLmf6yN7IlKa0s0xgwtLAMnutF9p7EpqYhVIh57vdIeh0OnK1OracjWTMb8do+MEu+i08wh9HQ7mVkIGLtQl9G7nwRh8fVk1uC8C0rl5M6+qFVpJ4b2DDgl29JfUovxCRilxGoVNWluad7jHtnibOuVodq47dYVjzGthbGBfcrtPp+HDbZYyVcr4e2aTY17kdn8GcDecwM1KwaUaHYh+nUqnwDzjKuZgc/rqlZM3U9jSpYcOVmHS61Xfitd4+/DS2FS7WpkxccZLEEkY3haqjW7duHDp0yNBlCBWMGAEUStWhQ4d44403ir1fkiQCrifQtxTObq3IDl+LJzo1h+3/60RtR3M2nYnkz2OhPLf0OD4uloz382R4Sw8sTZT0a+xG30aunL6TzK+Hb/HWP+f5dncIEzvW4fl2tbAxMyrxtVKy1Pyw7zpj2tSkkbtNiY8tb3K5nOnP9Obnf/bQ1iKeib8HsnxK8QHmcak1OtafCmPh/usAyICsXC0jfjrGpehUcrX6nRxOlsYMaOzEM608aFPH/oEpWCcrE6JSsmngagVARo7m7iaQEnYBn49MpZ6zVaGdvgdD4rA0UeLjYlVw266LMcSk5TywNvPznVfJUGl4q199TIs5p1mt0TH850B0ksTqKe2wMTcu8nH54e98TDYbQo1Z9mIbvtp1lavR6Qxr7s6W4Ci2nYtiSDN3lk9sw7AlR5m9PpiVE9s+0aizUHl069aNH374wdBlCBWMCIBCqclf/9e1a9diH3MrIZOo1Bw616va07/rTobRuIZ1wSjShA61eaG9J8duJvLnsTt8tP0yX+0KYUTLGoz386SeixVtatvTprY9N+Iy+P3ILX7Ye43FB67zXNtaTOpUB/dizoT95fAtNFodr/cu/tQVQ5LL5cx4pg8/bdhDa/N4Jv9xjGWT2j/VNXU6ie3no/huzzXCk7MY0cKD+i6WfPHfVQCCI1IwNZIzvasX49t7PnRHtLuNKdEpObSprW+EfO95wIoS+gBeiEgt1P8vLi2HhAw1PRs4F3rcisBQ/Ora09Dt7khhapaaFYGhOFgYM7Obd7GvMfb346Rk5fJOvwa08rQr8jEqlYrDR/Thb3O4CT+Pb8X7Wy5yMz6TFZPa0L6uAzKZjLf+OYeXkwWN3G34YXRzxi87ya/+t5jR7eFHzgmVV9euXRk/fjypqanY2FSsXxIFwxFTwEKpOXLkyEPX/x27mYhCLqNdnZL7nFVm0anZHLga98BaL5lMRgdvR34Z34qAt7szsWNtdl6IofcP/jz323H+uxCNRqvD29mS+SObEvBOd17sWJu/T4fT5euDvLY+mMt5Z8vmS83KZfXxO4xvXxsnq4rbzkMulzPz2T5IChNamsYxdfnxJ77W2bBkBv0YwKt/BVPf1Ypdr3bhu1HNqO2kXz9nZqT/tqbR6pjSqe4jtcNxsTblTFgyuy7GAPDhtoucCUsGICwpi8//vcySgzdYffwOey/HEpaYRbZaw9WYtELr/5YF6Kd/7z17+XxECkF3kpnYsfC6xFf+Ckark/jm2WbF1vXN7hBOhSbTxceR6cWENH34C+BcTDZbI0z5YUwL3vj7HJEp2fz1kh8dvPS77b8c0QRvZ0umrQoiOVNN53pOzOjmxbd7Qgi6k/zQfyOh8spfB3jkyBFDlyJUICIACqXmUdb/nQpNorG79UPPOK3M/j4VgamRgiHNig/CbjZmvNGnPoHv9GDRcy3Q6HTMWHOGTl8dZNH+68Sl5+BsZcqbfRtwbG5P3h3QkJO3kxiw6Ajjl50g4HoCkiTx57FQ1FodkzrVLr8P8Anlh0CdwoTmJrFMW/F4ITBbreWT7ZcZ8XMgCrmMjTPas/SF1tTPm7Zt7emAUi4jO1e/uUOjgx8PXH+kaydmqrkel8HW4EgAolNyyMw7Ei5LpWXflTiWBdzmg60Xmfrnabp8c5CWn+4lVyvR+J71f/9diMFYKadT3rFsAMuPhlLT3oxeDe9uzrkancbha/E0dLOix32jhfmOXI9nycEbOFuZsOLFNkU+RqVScehIAMHR2fwbZcYXI5ry8rqzaHQS/0zvQON7diebGin4ZVwrstRa/rfuTN6osQ/NPGx4Zd3ZR949LVROYh2gcD8RAIVS8ygB8HRocsE0W1W19VwkA5q4FWoMXBxjpZwhzdzZML0DO1/pTPcGzvx86CYdvjzA/9ae4eTtJMyNFUzqVIfDb3Zj4ZjmJGWqGbfsBP0XHuEX/5s829Kj3Js+Pym5XM6Mkb3Qyo1pahzLzD8fLQQGh6cwcNER1py4w7v9G7J5ZgdaeRb+f2RrZoTffWfZrgy8/UgtaOzN9Z+rfa93AeD1Pj50ylum0Ka2HQfndOPMvN7c+HwAx+f2ZMXENtR21O8arpvXiy9LrSE8OZtm900J7zgfxYT2tQsdeTgrr+3Lz2NbFVlPQkYOk1eexkghY/OsDsiLmIZWqVQc8g8gOCqbPbEWzB3QkFlrz2BvYcI/M9oX1HcvDztzFj/fguO3kvhq11WMFHIWPdeC9Jxc3t543qDnVwtlSwRA4X4iAAqlIjs7m3PnztGhQ/EL/CNTsolMyaZNFT5w/mZ8BrfiM+nb6PE3ufi6W/PliCYcf1c/4nc5Ko1Rvx6j/0J98FFpdAxtXoMdL3dizZR22Jkbk6nS8tepMKauPEVsWvHtSioSpVLJzGd6o5Ub00gZyzNLDvPt7hASitiRmj/KOfLnQKxMlfz7SmemdqlbqDmzJEnsuRTDoB8DCMhrMZS/byNXB1uDox9aU35YSs7Uj4Kl52igYBPI3deSy2W42pjSrb4zObk6TJVybPM2Zaw5fgcJeL6tZ8Hj15wIw0gh59nWNQtu23k+mpvxmfTxdSkypOl0OoYtCUSt0bHk+ZZFtoZRqVQc9A/gbHQ2BxIsmdWjHq+uD6ahmzXrp/mV+AtBBy9H3h3QkKVHbnMoJA4PO3O+fqYZuy7FsPFM5EP/rYTKqUOHDpw7d46cnMrxfUIoeyIACqXi/Pnz2NraUqtWrWIfc+p2EgCti1nIXhXsuxyLqZH8qXoc2pgZMalTHfa93pVVk9tS096ceVsu4vfFfj7adolbCZl09HZk3Ut+/PR8S2rYmrH3ShztvtjP8J+Ocjmq4jd8VSqV+DRqSkKOjO52KSw/cp1xv58gJevuMXlqjY53N1/gg62XmNC+Nv/M6PBA37pLUamM/DmQl1YFYWNmxN/T2tO9vhNaCYzzgttPh248tJ78HbtXY9MxVsoLnQZS3EkgUSnZhTbmbDoTiVwGQ5u7AaDSaFlz4g4jW3oU7OTW6XTM3XwBI4WMH8Y0L/K6M9ecISI5mxc71KZPEb9IFIS/qGz8k6zoUt+ZORvO09XHiZWT2mL9CCPPkzrWpnM9R97ZeIHU7Fz6NXZlaHN3Pv/3cpkeVSgYjqenJ9bW1pw/f97QpQgVhAiAQqkICgqiVatWJfagOxWahJeTBQ5V+OzRfVdi6eTthJnx05+yIJfL6FzPiaUvtObI2z0Y396T7eei6PndYcb9foLdl2Lo08gF/7d7sHlmB5rUsOZsWAoDFgXQ/duD7M87yaIiOhQSx//WnWPtLQWJOTJm+mqJSkpjwvJTZKg0JGSoGPv7cTYGRfL1M035YLBvodYtOblavth5hcE/BpCh0rB2SjvWveRH2zr2Bbuh82dNr8dlPLTfXaO8M6mvxWZgbaokPUeDLm861KiIFikpWWpUGl3BDmCdTse12HR8XKwKpmt3nIsmIUNdqPXL93uvk5qdy/SuXoVax+T781gouy7F0sjdmo+GNHrgfpVKxYHDRzgTlUVgmjX2liYsPXIbpULG3P4NMTV6tP93MpmMr0Y2JVOl4ZPtlwGYN8gXnQRf7LzySNcoDVlqDX+dDGPaqtNsPhPB3E0XGLI4gJCY9HKrobqQyWS0atWKoKAgQ5ciVBBVdyW+UK6CgoJo2bLkY6xOhSbRtgpP/yZmqAi6k8z8EU1L/do1bM14q18DXu1Vj/8uxPDnsVCmrQrC3caUsX6ejG5Tk+0vdyY8OYt5Wy7ify2eyStP42hpzP+6e/NCe88i15EZwrXYdGauOYNSLsPTwYJpI1qzbMsBpjXQ8suVZJ5fepzEDDVqrY51L/k90PrkXHgKs9cHE5mSzZy+9ZnauW6hcNjEw4YmNay5EHl3x/Q3u0OYP7L4z4uPk34E8HZCBlamRqSrNGjzA2ARnaD/y9st3M1Hv4Fj27lotBIMb6E//UOSJJYH3qarjxNeeWsEM3I0/HL4JjZmRrzWq94D17wclcpH2y5hZapkw/QH2+SoVCr2Hz7C2ahsTmXYopMg4EYizWvakJihZsqfp9k4o8ND+0bmc7c1Y94gX97aeJ4BTVw5F55CtlpLanbZbwa5GZ/B6uN3+CcogowcDTIZ7L4Ui6u1KSqNlhWBoXw5ovjG2MKTadmypQiAQoGK8RNBqPTyRwCLk5Kl5lpsRpXeAHLgahwS0L2YXZ2lwUSpYFiLGmya2ZEdL3eicz0nfjxwnfZf7ufVv84Sl5bD8hfbcP7Dvoxq7UFatoaPtl+m8Ud7+Ozfyw8cf1bekjPVTF5xCp0kYWWmZPnEtrjYWjB7TF9S1HKmN9RyMyaFpEw1f097MPytOxnGs78cw9rMiP9e7czMbt4PNHUGmNO3AQCmeS1htgeXvLZNqZSjlMuITM7GylRJek4u+XtHirp+wPV4AHr56j/Xa0/cAWB8e/36v6A7yVyMTCs0+vf638FodBJfjmjyQBjPUmsY/at+Q8z6aX4PjA6qVCr2H9KHv6BMOxIy1VyKSqN/Y1e2zOrEikltiU9XMX1V0GN9jp9t7UF9VyteWhXEz4duMq1rXRaNafHIz38cGq2OXRejGfv7cXp+d5i1J8JQ5WqRAG9nS2TA39P8GO+nH+nOVj/eaTjCw4kRQOFeIgAKTy0nJ4dLly6VGACv5k3p3NszrarZezmWlrXsyq0fX+MaNnz1TFNOzO3F2/0aEByewsifjzFwUQA7zkfx8ZDGXPmkL7N7eaOQy/j9yG18P9jF/9aeISmj/Nd55Wp1TF8dREzeZpXlL7YtWENnbmrMa2P6kqzSTwfLJQ3z/7uKRqsPMzm5Wt7+5zxzN11gVBsP/p7mVzCyVpQu9RxxtzUlJ68lTGaujkMhccU+XpIkzIzkRKVmo5MkkrNy0eQlwKKmgC9GpWFmpCjY6X0uIpWadmYFwW350VDqOlrQNa8dzO34DPZcjsXLyZIBTdweuN6zPx8jXaXhk6GN8XUr/DWiUqnYd+gIZ6KzOZtlT2hiFhHJOUxo78nP4/Rfc15Olvw6vhWn7yQ98hRuRHIWL60KIiQmHZ0kMapNTd7oU79Uli/cKzYthwX7rtFh/gGmrz5DcFgKAFamSl7q4sWRt7qzeWZHzI0VbDwTybOta5Kh0rDzwsM37wiPp1WrVly8eFFsBBEAEQCFUnD+/HmsrKyoXbt2sY+5EZdRMOVXFeXkajlyPaFQr7fyYmNuxJTOdTn4RjdWTGyDm40pczdfoN0X+/jiv6sMbe7BhY/68s0zTTBRytlxPpqWn+1l9K/HuBFbfmutPtp2iVOhSWi0Ej+NbVmoRx3oQ+D/nu1DYl4IDAiJYc6GcyRkqBjz23G2BEfy7bPN+GxYE0yUJYcUmUzGG3lrAZV5Ae6HvdcK7s9SazgYEse3u0MY9/sJmn68h3SVlvh0NRcj0wi6k4xOlzcFXMRRcNEpOXjY6cNr4I0EVBod/fKON4xKyWbXpRhe7Fi74Ii1mWvOALDk+QdH1z7YepFL0frRvHF+noXuU6lU7D14hLNRWQRn23M5Oo2krFze6lufj4c2LvRYv7oOvDugISsCQ/G/Fl/sv41Ko2XJwRv0+v4wFyJSWfJ8S2Z09WLjmQjiSmknuSRJBN5MYOaaINp/uZ/FB26QnLfBp6WnHb+Ma8mxuT2Z07c+Ne3NsTBRMqS5OxtOh+Nua0YHLwf+Ph1eKrUId9WpUwcrKysuXLhg6FKECkCsARSe2qNsALkRl0EtB/Mip9OqgqM3EsjO1dLbt/wDYD65XEa3+s50q+9MeFIWq0/c4e9T4SwLuE0XHyf86tiTqdZibqwgS63lxO0kev3gTz1nCz4c3KhQ8+LStv1cFGtOhAHw7oAG9GhQ9L+TraUpLz/bmx//3stMXy0/XYzkwNU4lHIZ/0zvUOjYtYcZ0tydj7dfIi3vWLdzEan8fuQWB0PiOHU7GbVWh6OlMc1r2vJS57psPhvJ7YRM3GxNSc3KRaMreg1gfHoOaq2uYDT7j6O3AZjauS4Ab/1zHp0kkZSpJi0nl1O3k7gSk043Hyca3HMUHMDuizH8eewOHnZmD4RDlUrFnoP+BEdnE5xtz/mIVDQ6iW+eaVqorcy9JrSvzf4rcbz5zzl2z+5S0KIm39EbCczbepE7iVlM7lSHV3rWw9JESad6jqw+fofFB2/wyX3B8nGk5eSyKSiCVcfvcDM+E1OlHJ0EtuZKRrepxXNtalHL4cG2NgCjWtdk3clwTtxO5JlWHrz+9zli03Jwsa4cPS4rA5lMVrAOsE2bopuLC9WHCIDCUztz5kyJ07+gX/TtXcKUXWW370osdRwt8HKqGCOcNe3Nmdu/Ia/18mHH+WhWHQvl690hKOUypnf1wtJUyapjd7idkMn1uEzGLTuJi5Uxr/epz+g2xbfyeRIxqTm8t/kCxgo57b3smdKpbomPt7M04+VR94TAy+DqYEUjd6vHel0jhf4s4K93hxTc9vm/V+ji48Q7/RvQxccJLyeLgl9cbsZncishExtTIxLSVXd3Ad/3S0v+cXHd6+vX/524lYSjhTHO1qYkZag5eiMBGzMjfjp4k2UBt8nV6pDLYNFzhQNeZEoWs9aewUQpZ+usjoXWBapUKnYf8OdcTDZnsuw5F56KTCZj+cQ2dKtf/BpTuVzGN882pe8P/ry/5SKLn9dvzIpNy+HTHZfZcT6atrXt+Xlsq4ITVEDfemhaVy8W7LvG1M51qWlfdEgrzqWoVFYfD2PzmQhUWl3BqGtLT1vGtqtNb18XjIvYTHOv5jVtcbE2Yf+VOF7u4Y1cBgevxjGmben+f6zuxDpAIV/VHI4RytWVK1do3LjkUYObcRkP9HCrKnQ6iX1X4ujt61LiKKghmBopeKaVBz+Pa4VcBk1q2LD44A3m/3eV5jVt+XCwLx3q6jfmxKareXvjBRp/sIvv9oSgKYUNI5Ik8c7G8+RodFiaKvhuVPOCadGS2FmaMeuZ3gUtYiIT0xmz9MRjv/6EDrW5N79ZmSpYOaktkzrV0W88uOfzVTcvvMtkoNFJaPNGAE3uCy5HricA0KOhM9di00lXaehaXz96+um/l5GAX8a14sjb3anvakVOrg4LEyXnI+72Z9Ro9M2eNTqJZRNaF2qNlB/+gmOyOZlhy9nwVJQKOZtndSgx/OVzszHj02GN2XE+ml0XY/j9yC16fneY47cS+X5UM9ZP8ysU/vJN7FgbGzMjFu1/tOPzVBotW85GMvynowxcFMA/QeHkaHTYmBoxqWMdDs7pxtqp7RnY1O2h4Q/0o1M9G7qw70osNmZGtKxlx4Grxa/bFJ5M48aNuXr1qqHLECoAEQCFp3bt2jV8fHyKvT9TpSEqNafERfuV2aWoNOLTVfQsw92/T2v9qXDMjZWsntKOE3N78kZvH07fSeLj7ZdJV2l5o48Pw1vUQCGTkaHW8uOBGzT44D/e+Du4UFPkx7UlOJJD1+JRa3TMH9EUx8foAelgbcaskXdD4KXwRF5cfvKxXt/CRMnQ5jUK3k/L0XIuPLnIxzZ004cirSShk7jbBua+EcAr0WmYGyswN1ay1P8WANO7eqHT6fj3fDROlib4eTlgY6rkfHgqFkYKGrlZM27ZCd765xyZKg0TV54iPl3FKz28C029q1Qqdu0/THBMNsdTbbgQmY6FiYK9r3ehqYftI3/cQ5q507ymLf9be4Yvdl5hRMsa7H+jGyNaehT7S4q5sZJZ3b3ZeCaCm/EZxV47PCmLr3Zdpe3n+5m9PpgLecG2eU1bFo5pzon3ejJ3QEPqFHHKycP0bujCncQsbsRl0L2BMwE3ElBpxG7g0uTj48O1a9ce/kChyhMBUHgqycnJxMfHU6/eg33N8uX/MKmqI4BBd5IwVshpXsvW0KUUSZIk/r0QTZ9GLliYKLGzMGZaVy8OzenOHy+2xsHSmO/3XuNgSBzPtavFhPaemBsr0Ohg45lImn60h3G/Hyc8MeuxXjclS81H2y5jrJAzvEWNIk+1eBgHGzNmjuxVEAJP3Yzjf2vPPNY15vZvWOj9+cXskm2StyklV6MPflpt0SOAMWk51MqbIj0YEoeliZJ6Llb8fuQ2aq2Ol7rUAeCtjRdQa3V8Orwx617yY/6IJuw4H02nrw5w5HoCbWvb8Xqf+gXXValU/Lf/MOdicvBPtOJyTAYOFsYcebPHY22eSshQ8eY/5wkOT0Grkxja3J1PhjZ+pP6Az7erhau1KQv3FR4F1OokDl6N48XlJ+ny9UF+879FanYuVqZKJnSozb7Xu7JhegeGNq/x0A06JWnv5YCZkYJ9V+Lo0cCZLLWWk3knCAmlo169esTFxZGSkmLoUgQDEwFQeCrXr1/HyckJO7vij3fLD4BeVTQAng1PoVEN66f6wVeWrsVmcCMug0FNC7cfUchl9GjgwoqJbTk0pxvPtvJg+7ko/jx+h9aedrzY3hM3axMk9A2HO39zkAEL/Dl959F+IP906CZZag0KOczt3+CJ63e0MS8UAg9ejuLtjY9+nJWTlQnt7mlAfvx2cpHT2642+l29+X308lvIGN8zAhidkk2uVqJZTVvi0nJIyFDjlzeF/tuR2xgr5UzuVIfw5Cy2n4uilr15wajbmLa1mD+iCclZ+hHVIfeMTKpUKnbu04e/fXHm3EjIwtPenCNvd8fesvBGjuJodRKrjt+hx7eH2Hs5li+GN+GNPj5sOxfNlei0h18AfZ/Jl7rUZeeFaGJSc0jKVPPL4Zt0+uoAE1ec4sj1BCSgmYcNP4xuxqn3ejFvkG+p/XJnaqSgcz1H9l2JpYGrFW42puy/IqaBS5O9vT2Ojo5cv/5oU/1C1SUCoPBUHjb9C/odwG42pliaVM09R2fDUmhZq+Keb/zvhWisTJV08i5+l6+ngwXvDfTl+NyefDWiKUlZalYcu4NSIWdUaw+auOt3r16OSeeZn4/R4cv9bDtXfHPlyJRslh+9jVYnMau7N85PuZPT0cac6SN7kZAXAnecDePTHZcf+fn3niohAb8H3C7ycSZKOdm5+l3DqrwgaGR099vkzov63nQ9GzizLEA//TuxY20CbySQkKFiUBM35HI5s9acQQKWPH/3dJzULP0aS7kMhjRz4/0tF1nqfwuVSsW/+w5xPjaHnVGmhKWoaOZhw8E5XYs8Lq4o5yNSGP7TUeZtuUj/xm4cnNON59vV4qUuXtSyNy/UAudhRrSsgVIuY8IfJ2n7+T6+2nWV6NQczI0VjGtXiz2vdWHTzI4Mb+HxyEfPPY5evi6cCUsmKVNN9wbOHAyJQ8qbjhdKh5gGFkDsAhae0qMGwKq6/i8hQ0VYUhYtKvL07/moR9qFCWBmrGBUm5o829qD4PAUVh27w5azUchk+vVZ2bkajt5MJCo1h1fWBfPepotM7+bFjK51C+1iXZAXOFysTZnSueRdv4/K2cacaSN68eumffrdwcdvYWGiKDj7tyR1nSyp7WBOaN409u8Bt5jezeuBx1maKMnJW3OmzmtCfe8UcOCNRAC61Xfmsx2XMVHK6ejtxMCFR5ChP0838EYC5yNSaV/XoVDbmuE/BZKdq2XB6OYMbe5OTXtzFuy5jHH8FUJTtWwOMyYlJ1cfLl98tBYdqVm5fL37KmtPhtHQ1ZqNMzoUOj3FWClnRjcv3vrnPCEx6UVu/siXpdawLTiKX/1vkqPREZLXI7JpDWte6FCHgU3cSr1JdFF65K2lPXA1jh71nVl7IoxbCZlV9nuIIYgAKIAYARSe0qMGwKq6/i//VIMWFXQE8FpsBjfjMx+Y/n0YmUxGi1p2fD+6Ocfm9uDVXvW4HJ1GwI1EfN2s6e7jhLFCRrpKwze7Q6g/bxfvbb5AllpDSEw6/5yJIFcrMXdAw1IdJXK11YfA/JHAZYev85v/zUd67r1nASdkqLldxEYHB0tjVLn6AJir1f9pcs8U8JWYNCxNlGh0OsKTs2nqYUNsWg6XotNoXssWOwtjXlsfjFxWePTv9fXB3ErIZFRrD4a1qIFMJuOVbnWY3UQiNFXL36FKUnK0PNem5iOFP51OYsPpcHp8d4htwVF8MMiXbf/r+MDReaA/n7iGrRlLDt4o8lo34zP4YMsFmn+8l3c2XeB2gj4kt6hpw3+vdmbby515ppVHuYQ/AEdLE1rUtGXflVg6ejtiopRzUOwGLlUiAAogAqDwlK5fv15iAMzV6riTmFVl1/+di0jB0dIEd5uK2az23/NRD53+fRgHSxNmdvPG/63uLH2hNfYWxhy8Fo+5iZJO3g7YmBmRq5VYcyKMxh/sZtyy4xgr5NR3sWTwYwbPR+Fqa87UYT0KQuDCPVdYffzOQ5/nV9cBO/O7GyE++/fBKWRXa1PylweqNfmbQO4Gn7g0FZ725qw+fgcJGNvOk4+3XwLgg0G+LAu4RWy6iufb1ipYu/fP6XA2nY3E29mSr59pBujX/K3bvo+oTIlVN+RkqiVe7enNl/eE1OJciU5j1K/HePOf83Su58j+N7oysWMdlMU0WTdSyHm+XS12nI8iLG8ENP9c3iGLA+j53WH+PB6GWqvDVCnnmVY1OP1+TzbP6kTD+xpXl5eeDV04cj0BI4WM9l4OHAop/mQT4fH5+PiINYCCmAIWnpwkSVy7dq3EHcB3ErPQ6KQq2wT6clQajdytK1z/P7i7+/dRp38fRiGX0dvXhd6+LtyKz2D18TA2BIWTodLQzMOGhAwVkSk5xKfrj/zKUGu4FJX2wJFvpcHd3pLJQ3uwbOsBZvpq+XLHBSxNlAxrUaPE570/oCFv/KPfQHIwJB6dTldo6rrWPQ2QC/oA5q0BDM/7v9yili2bzkQil8GARi7M2XAONxtTGrnb8NzS45gbK/hocCNAP7r29sYLmBsr2DyzAwDZ2dn89e9+wtJ0/HlDjk4n4/PhjRnbrvAxcPdLz8llwb7rrAgMpY6jBWuntqODl2OJzwm6k8xS/1vsvhyDvbkxKo2W7/eEsCzgNpnqu+1VvJwseKVnvUItcwypbR17vtmtJSQ2nbZ17Pnp4E10OumRekgKD5c/AihJUoX83iWUDxEAhSeWlpZGRkYGtWoV36n/Rlz+DuCKcUJGabsSncbQh4QOQ4lIzuZmfCZv9XvyHbjFqetkyQeDfZnT14etwVH8eewOkSk5WJooyVDpN1FEJucw6McAXK1N+GxYY3r5Pn4bmJJ4OBQOge9tPIu5saLEdjPDW3rw7paLqDQ6dBL8ExTJqDZ3j1Wr53J3jZxWl7cLOC88528A6dHAibUnw/BxseIn/1to8ja6vLflAjm5Oj4f3hilUo5ao2PkT4HoJIk1U9phZWpEdnY263bsJzxdx8rrckDGr+NblVizJElsPx/NZzsuk56j4c2+9ZnUsU6xoV6rk9h7OYbf/G9xJiyFOg7mTOpYh0tRqfT5wZ/87RTGShkDGrszd0CDCnfcWmN3GxRyGWfDUmjmYUuGSsOthAy8nR/vNBihaDVr1iQ9PZ309HSsrQ0zyisYnpgCFp5YVFQUZmZmJX4DuRmfgbWpEqfHaABcWaRkqYlKzTHYNNnDHL+ViExGoRYopc3cWMlzbWux85VObJzRvtAmA2OFfmQhJk3FlD+DaPTBLv4IuI1O9/QnjOTzcLBk0tC708GvrTtNwPXipwvlchlTO9cpeP/7vSGF7ve953N59yQQ/RRw4E39BpDkzFx0EoxoUYOVgaGYGSno1cCJjUERuNuYFozkjfntGCnZubw7oAEtatmRnZ3N2nvCn0IuZ8P09iWGv5vxGYxbdoJX1p2lZS079r3RleldvYoMf1lqDSsDQ+nx3SGmrz6DTAajW3mQmq1hWcBtjt9KQgJq25vz3bNNufbZABaMaV7hwh/oNyM1cLUiODylYAT5XHjqQ54lPCobGxtMTU2JiooydCmCAYkAKDyx6Oho3N3dS5xCuBWfidd9R25VFZfzeqv5ulXMUYkTt5Oo72KFrfmj9ZF7GjKZjFae9myc0YFdr3amk7cDmrwApcibtstUa/lkx2V83t/Fh9suFmy2eFo1HSyZOKR7QQictvIEQXeKPu0D4OWed5csxKSpiEvLKXi/UQ19AJQBeX2gMc2bAg6JScPaVMlfp8ORATXtzUjOymVYC3f+ty4YnXT3vN+v/rvKmbAUutV3YmoXL7Kyslm7fR8ReeHPxEjJrtldaOVZdDjPVmv5etdV+i3wJyI5mxUT2/DL+FbUsDV74LFxaTl8s/sq7b88wCc7LuPpYEH7uvacDUthfVAESVlqjOQyBjV15dg7PTj0VndGtqpZxKtWLC1q2RIcnoKNmRF1HS04H5Fi6JKqDJlMhru7O9HR0YYuRTAgEQCFJxYdHY2bW8mL/OMzVLhYVbwRhtJwOSoNUyM5dRwr5vrGE7cT8avrUO6v28DNmtVT/Lj8cV+mdan7QP9HjU5iZeAd6s/bxeQVJ0jKUD/1a9ZytGLCoLsh8IWlR7kcVfSIkYlSUWhX9Kf/Xir4u7mxErkMkIFOKjwCGJ+hprajBeciUqlpZ8YP+64jk8GAJm6cvpNMy1q2tK5tz+GQOH4+fBNnKxP+mNBaH/527CMiQ2LldTk2ZsYcntOtyLYmkiSx51IMvb4/zO8Bt5nV3Zvds7sUeQZwSEw6b244R6evDrI84DbNPKxxtDTG/1o8x24loZPAw86U+SObEPJZPxY/3wq3IgJkRdXMw5YbcRlkqjQ09bDhfKQYASxNbm5uIgBWcyIACk8sKirqoQEwKVP1yCcZVDa3EjKp62hZMMJVkcSl5xCelE3r2oZrT2NqrGTugIac+7APf7zYhob3TA/n/4vtv5pAy8/2MmDhEW7k9Z17UrWdC4fAUT8dKbLVC8AX9zSG3nkhptB9ZnltayTp7lFwN+My0OokXK1NUWt0dKznwLXYDNrWtuedjReQyeDnca2IS8th6p9BGClkbJ3VkawcFWu27yMyL/y52Zhz5K0eRTbGDkvMYvLK07y0KggfF0v2vtaF2b18CrXRkSSJgOsJvPDHSfou8OdgSBwN3axQayX8rycSm6ZCKZfRt5ELR97uTsDbPRnTplahjS6VRf7Siqsx6TRws+ZaTDo6nWgIXVrc3NzEFHA1JzaBCE/sUUYAkzLUOFhUzQAYl5aDWwVt/3I+b71U85q2hi0kT48GzvRo4ExcWg6f7bzC7osxBSdtgH46vdcP/rhYmfDdqGZ0qvdkbWtqO1sxfmBXVv17mBm+WoYsPMSuOT2oYWte6HHWpka0qGXL2bAUtDrYdzmmYJOKtZkRWWot+VnDzEjOzosRACSkqwD9BhuAdnXtObH/BiNb1sDJ0phOXx1ErdXx+wutsFBKrN2+n+hMffir72rN9lmdUN63fi8nV8uvh2/x06EbOFgY88u4VvRt5FJo2YRao2P7uSiWHrnF1Zh0PGxNcbE2ITZNRULeCKqbtQmzunvzfLvKGfju5+2s/+Xqakwa9V2syFRriUzJpqa9+cOfLDyUGAEUKv93CcFgHhYAJUkiIVONfRUNgLFpqqc+4qys6PsTGhe5ZsyQnK1NWTSmBVc+6cvHQxo90D8xNl3FuGUn8f3gP1YdD32i16jrYsP4gV1JyJEx3VdL/+8OkJCR88Djfsxbrwfw4da708BOlvrzj/PHmuRyOcdv6TeAXIvLwN5cSeDNJGramfH7kduYKuV8OaIp01efISo1h8md6tC6ljV/7bgb/jp6O/Hvyw+Gv0MhcfRb4M/ig9eZ1KkO+97oSr/GrgXhLzU7l58P3aTz1wd4Y8M5MlUajBVyIlJyiE1ToZDpw/XhN7tx7N1ejGtfu0qEP9CfC+zlZMGV6LSCzUXXnnKUWLhLBEChanynEAwifxNIcTLVWtQaXRUOgDm4WFfM3c3B4Sk0r2lbYTffyOVyJnSoTeDcnux8pRPt6zpw70x6llrHvC2X8H53Jx9vv4RG83g7h+u62PB8/y4k5MiY1lBLz6/3kZpVeK2hh5057jb6z19kag4ZOfr2Ne52D4bm67EZWJooyFBpcLIyRauTqGVvTpZayxt9fVh3Mow9l2NpUsOamV08Wb9jH9FZ+vA3rLkHqya3KxTMolKymbE6iBeXn8LNxoz/Xu3M2/0aFJz9G56UxcfbL+H3xT6+3XUVdd7HH56cjVqrw8nKhA8GNeT65/3548U2eDpUzTZLDd2suRKdjpuNKVYmyoLj6YSnJzaBCCIACk/sYSOA+Yv7HSwqZkh6GhqtjoQMVYVsoQFwMy6jxHNfKxJfdxvWveTHxY/7MrVzHaxN765M0egklh8Nxfv9/5i4/OQDIa4k9dxsea6fPgS+1EBL16/2kqXWFHrMgjF3RwE/2aEfBaxTRJhKyFAVtF6JSM7G3FjB8VuJOFuZ0KGuIx9tv4SVqZJfxjRhw879xGTByutypnXx5vvRzQuuk6vV8evhm/T6/jCn7ySzcExz1k5tV9DfLjg8hVlrz9Dl64OsPXEHrQ60QHJWLnIZdPZ2YP8bXTn1Xi8mdapbZUb7ilPbwYLwpCxkMhlezpbcjMs0dElVhlgDKIg1gMITS0lJwc6u+E0GiZn69VJGChlanVQhN0s8qYQMNTqJCjkCqNboiE7LoaZd5VorZW6s5L2Bvrw30Je9l2L4dk8IIbF3N3EcDImn2Sd7qe9iydIXWlPrEUa9fNxtGdOvC3/t8mdqfQ2dvtjD8ff7FYS5tnUcsDCRk6nSselMJF8/0wwfl8LB+Y2/9S1eMlUaTBQyMtVa3GxMiFZr+WJYI0b9dgwZ8NtzTdm+z5/YbH34e39gIyZ1uttz8PitROZtucjN+AwmdKjNa719sDY1QpfXuHnpkVucCk3GJK82lUY/EW1nbsT0rnWZ2rnqB777uVibkpChQquTcLE2IT5DZeiSqgw7OztSU8XO6upMBEDhiaWnp2NpWXwLFGOlHLkMRv92HAArUyU2ZkbYmBlha25U8HdrMyNszYwL3r/3fmszI6xMlBXuCKjYvN5xzhWwxU1USjaSpJ/irKx6N3KldyNXYlJz+Ozfy+y+FENuXmO+kNgMunxzCEdLY358rgXtH3IcWn13W57t04UNe/yZ7JNLx893c+y9vgXr8T4Y2Ii3N11Ao5M4eSuBJh6FG3ufCtX3FFRpJPI6xBCdqqKxuzXf7b1OpkrLu329CT5ziri88LdwTEsGN9Mvj4hLz+HLnVfZfDaSVp527Hi5M77u1mSrtaw+foffj9wiNDELZd7/cZVGhwz9cWifDWv8QCCtTpytTNBJ+l8mHS1NOBOWYuiSqgxLS0vS08WUenUmAqDwRLRaLdnZ2VhZFf/DqZG7DVtndSIyJYvU7FxSs3NJycot+Htqdi4RydmF3peK6PIgl+l3ZtoU83ZvmLTJD5J5t1kYK8pkHVx+AHStgLuA83eo1rSvWBtAnoSrjSmLn2+JTqdj+dFQfjtyi9g0/ShQQoaa55aewMxIwbxBDXm+hLN0fT3uhsAX66np/OUejr7XB7lczqg2NZm76QI64PUN5/B/s3uh53o5WxCdngLoN4YYKWRotBL1XKzYfDaS/g0d0MaEEJcNq67LWTulPX5eDmi0OlYfv8N3e65hpJTz9cimPNPKg8RMNd/vCWH50Vukq3QFLXE0OglrMyVTOtdhZhfvBzaMVEfOeSPscWkqnKxMSBAjgKXGysqKrKwstFotCoXi4U8QqhwRAIUnkpGhn5orKQACNPGwoYmHzSNdU6eTSFdpSCsmLKZkqwvuS8pUczshs+C+9BxNkddUymWFRxrNSwqShUchTY3kxYbH2HR9vzX7cjhl43GFJ2chl4GbTeUPgPnkcjmTO9dlcue6nI9I4dMdlzkdmowEZOdqeXfzRd7bfJEX2tfiw8GNipwq9fWwZUTvTmzaG8A4LxWd5+/l6Lt9kclkTOxYi2VHw4hIzkGjo9CGlFtxmchlFLSFydVKtKxly+azkXjZGdPEKJa4bBlrbsrZ8UoXGrhZcyYsmfc3X+RKTBrPta3FW33rk5ChYu6m82wIiuD+dnYtatny+bDG+Lo/2tdKdZE/wh6XnoOjpQlJmWp0OqnCzQhURvnfuzMzM8V5wNWUCIDCE8kPgBYWpbf7UH5PWHvcg6o0Wh3pOZq8oFg4OKZmqQu9H5OaQ0hMOml5j81SF30kmbFSXjgg3hMkL0enYW6sYEtw5ANT1jZmRgWnRxhCeFIWrtamRZ4XWxU09bBlw/QOZKo0fLsnhL9OhpGdq0MCVh4LY+WxMDp7O/DrC60LdtXma1LTHql3JzbvDeD52jl0/XIvh+f25t2BjVl2NAyAj7ddxFgpR9Lp/18kZqnRSXcDh1IG5yNSsTGWGFkzi/gcGetvKzn8ZndMjRS8s/E8f50Kp3ENazbN6EB2rpZX1p3F/3pCoVosTZRMaO/J7F4+GFXRz9XTcrQ0RibTjwA6Wpqg1UkkZ6lxqIJni5e3/O/dGRkZIgBWUyIACk8kPT0dc3PzCjN1oFTIsbMwxu4JWs6oNTrScu6OOt4dgVSTmq25JzyqCU/OIjUql7CkLFS5Ol7/+1yR1zQzUtwNj/eNOtrec5v1PcEy/02peLowEJ6cjUc1aJZrYaLkw8GN+HBwI/67GM38/65yJzELgCM3EvH9YDe17U1ZM8WPGvZ3f1FpWtMeqVcntuwLYJRnFr2/2cfeN3vhV8eO47eTWXcqHAcLY9Kyi/nFwEiBTKdhWgMt8TkytoQZEzi3O7suxjJ/11W0OomPBvtiY2bE7L/Ocicpu9Dzfd2s+XJEY5rVNNwpLZWFUiHHwcKEuHQV9Vz0643jM1QiAJYCpVKJmZmZWAdYjYkAKDyRjIyMEjeAVCbGSjmOliY4PsYPlQl/nMTUSM7CMS0KRhL1o425hUYh0wqCZC634jMKjUTmb2q4n6WJsuhwWMT09b1T2lamRijkMiKSs6hbQc8nLiv9G7vRv7EbkSlZfLj1EvuvxCEBoUk5dPz6EDamCn4Z14b23vqzkZvVskfTvT07Dh5jWI1M+n+/jw0zutL44z3oJLA0UZCW/eDrKOUyZDoNM3314W93jBnLJ7Vm4orTnA1LYXAzN2ram/P1rqtk5d7tXWhurGBMm5q8079hlR2ZLSvOVibEpuXgZKmfDk5IV4OrgYuqIiwtLQtmc4TqRwTASsjf359vvvmGoKAgoqOj2bx5M8OGDSu4PyMjg3feeYctW7aQmJhI7dq1eeWVV5gxY0bBY1QqFXPmzGHdunVkZ2fTs2dPfvrpJzw8PAoec+zYMWbMmEFycjLvv/8+U6dOLbgvPT39oev/qrK0nFxcrC0xNVJgaqR47BNBJEkiO1f74FrHB9Y96v+MTsspNJVd1JGoMhlYmSjJUmsJT8pi3O8nCk1LF7v+0Vy/07qiNo1+HDVszfl9Qht0On2/vUUHbur/nXO0PPf7cZRyeH+QLy92qEOrOk7oJD92HjrOINdMnv8tAGcrY+LS1USm5FDUv4aJXMdMXy0JOTKOpljRu5ETI34OpLajBR29HNhxLpp7PzXezpZ8Mbwxbes4lNc/QZXjbK0fAXS00o/ui40gpcfKyuqJRwB/+uknvvnmG6Kjo2nUqBELFiygc+fOAMTExDBx4kTOnTvHsGHDWLx4cbVrYVQZiABYCWVmZtKsWTMmTpzIyJEjH7j/tdde4+DBg6xevZratWuzZ88eZs6cibu7O0OHDgVg9uzZbN++nb/++gsHBwfeeOMNBg0aRFBQUMG07qRJk/jss89wc3PjhRdeoG/fvtSqVQuoWiOAT0KjlZ5qqlYmk2FurMTcWPnYmzUkSSJDpSkIjmn3hcVF+6/jZmOGjZkRqdn66eqUbDWpWbmkqzRF7rRWyGVY39Omx6ZgQ4wyb9rauNiNNOZltNP6acjlcmZ0r8eM7vU4G5bM6+uDuZ2YhUYHH227zEfbLjOypTvfPNMMTVc/9hw+Tl+nNHZL1sSlq1FrJUzuW91goZQKwl9AkiXJOVrWnwrHzsKYW/GZ3IrXNyk2VsoZ2aIGHw72xdRYfIt9Wk6WJtyIz8j7elGIAFiKnjQArl+/ntmzZ/PTTz/RsWNHfv31V/r378/ly5epVasW77//Pm3atGH+/PnMnTuXdevWMXbs2DL4CISnIb47VUL9+/enf//+xd5/7NgxJkyYQLdu3QB46aWX+PXXXzl9+jRDhw4lNTWVZcuWsWrVKnr16gXA6tWrqVmzJvv27aNv374AZGVl0bJlS5ydnbGzsys0VaBWqzExqb7rcHK1OowMtBNRJpNhZaqf8i1qs8ziAzcY2tydKZ3rPnCfVieRnnPfKOM9o45p97yfkK7iRlxGQcDMUBW909pIISs80lhodLHo/o53d1qX/RrSFrXsOPhmdzJycnl74wV2XtCP0m08E8XGM1E0crPkjT5tOHLsFH2d07iZoCBTU/hze2/42xZhQmJWNgoZaCXIyTvxpqadGZ8Pb0wXH+cy/5iqExMjecFRePm/1Ailw9jYmNzcx//3/P7775k8eTJTpkwBYMGCBezevZuff/6ZL7/8kpSUFHr37k2TJk2oU6eOaDhdQYkAWAV16tSJbdu2MWnSJNzd3Tl06BDXrl1j4cKFAAQFBZGbm0ufPn0KnuPu7k7jxo0JDAwsCIAffPABDRs2RKPRMGPGDHx9fQser9PpqvWQfq5W99SbNcqCJElkqTWsPxXOydtJGCvlmCgVeX/KMTGSY6KQY2KkwFiR975SjoWJAnsL44LbjPMeY6KUFzxXLpOh1mjJydWRqdYU7LrOn7q+d/d1VGoOV6LTC97Pzi16Q4XJPTut799JrR91VN6z9rFwmHzctXSWpkYsGdsSgPUn7zBv6yXUWolL0RlMWnkGC2Mlo2rr1/f9dFmBJm+k1EIhMbmBjoQcGSuvy9FJ+iCslfRrAgc0ceXLEU2wMDF68k+cUCylXI42b82DXCZDV9QQtvBE5HI5Ot3jnbOtVqsJCgrinXfeKXR7nz59CAwMBOCdd95h4MCBjBs3jjZt2vDVV1+VWs1C6REBsApatGgRU6dOxcPDA6VSiVwu5/fff6dTp06Afn2GsbHxA8e4ubi4EBMTU/D+5MmTGTNmDGq1+oHHVvcAqNFJKBUVa9oT9KODHw1pROCNRFQaLZlqDapcHWqtDlWuDpVGi1qjQ6XR3f1T+3g/APIZK+6Gw7tB8W7YdLQyxt3WFBOlAqVCpl9TJwNJ0vd81OgktDqJXJ2+FrVGR3RKDrcSMslWa8lSa8lUadAUteARMDOSF9m/scgwec9jrE2VjG7ryei2noQlZPDsb8eJTVORqZZYeV3OhHr6dX6/h+j/f09poCO+IPzpP+cOlsZ8MawxfRsXfxa2UDoUclnB/wGFXFbk+lfhyTxJAExISECr1eLi4lLo9nt/frRu3ZrIyEgSEhJwdRU7dioqEQCroEWLFnH8+HG2bduGp6cn/v7+zJw5Ezc3t4Ip36JIkvTAWi4LC4sie/1ptVpkMtkTTR9UBXJJx8HL0dyJSwNk5P+zydBvxpAhA9k9f8+7U3+/7J7H5d0luxuQZHnXu3vfPbflPejeT5OsiOe4WRsBxsiQyL81//67t+hvkyR9k2MtEjqthFbSodOBVpLQ6SS0kj6o6e/Tv+nybst/0+kkNJKkf55OS7ZKQ2b23ecWvOVfM+9Nc8/1i/q5rpBBcZ2GdDotyZlaUjJzKLRjQyr0R5Fk6MOEQiZDIZfhaCYnM1eLToK/bsl43ktiVgP9D8Zklf42IzmYG8nxdbfCWCFn/clQ/j51B/l9n/f8JsXyvBvlgEx+93NsY26Ek6UJcpn+sXJALgc5cpDp65LLZMhl5D2Ge96XI0PfM1Ne8Nh7/o+VEUNmrpjkDBToyM3NxVQhgU5Tbb/vlLbw8HCSk5Of6Ln3/6y4/+eHUqkU4a+CEwGwisnOzubdd99l8+bNDBw4EICmTZsSHBzMt99+S69evXB1dUWtVpOcnFxoZC8uLo4OHTo80utIkkR6ejo7d+4sk4+joptdP/9vlaiHVlE/xe+/rWK0daxQGtvDfPv8URItkPj0F33Kzhu6vLeiV2VWLX2s9W87d+5kljeQm87OnTcNXVaVEBERwX///ce0adMe+TmOjo4oFIpCs0Wg//lx/6igULGJAFjF5Obmkpub+8D0rEKhKBjqb9WqFUZGRuzdu5dRo0YBEB0dzcWLF/n6668f6XXkcjlWVlYMGDCgdD+AKkSSJJp8vIce9Z1pXMO64Lfje0fsoPDo0d3b7h0R5L7n6v9y//PufT8hI4dfD98i5wmndx8mf3RKIcsfiZIXjEbJ80bW5PeMsOWPdOWPbikUsrwROAruz3+sIu+6CkXe7QX3yQs9XpIkcrV509i5OnI0WnI0WrLVOrLVGrJydeSoNWSoNAXr+fLJ0LfMsTJTYm1qRLZaQ2hew2ZzpcRL9XUkq6CRPURnwa9X5WTdszHERA7udua42ZjibmOGi40J5iZKdDqQdFLeiKpO/6dOgryRz9sJWey9GseL7T0xNVbcfaxOP6qaPxqrKxhpBfLul/Le16G/1t3H62+XpLzH5I2m6iRJHxTz7ssrI+95+udK5P2Zf23p7uNBP1Uv5b2m/qa8a0Pe8/JeF+655t3X4YHb827j7vO4t4573ifvOgV/5v3zu1jrlxXoCv597vl4Cz6+ez+mvMdx998p/+OS0DeC1yER+E6PB06Oqeo6dOjAmDFjHus5xsbGtGrVir179zJ8+PCC2/fu3VvQZUKoHKrX//YqIiMjgxs3bhS8f/v2bYKDg7G3t6dWrVp07dqVN998EzMzMzw9PTl8+DB//vkn33//PQA2NjZMnjyZN954AwcHB+zt7ZkzZw5NmjQpcYr4XnK5HEmSMDISC99LopXkdPBxYbyfZ7m+7uFr8aSqb/L58CY4W5mizAtSBX8q9IHq/tsVBe/L796uuOd5crl+yrGM2r5otDoSM9XEp6uIz1Dp/8x7S8h/P+/P+89/lsnAwcIEJysTnGwtcbQ01v/d0qTwn1Ym2JgZIUkSM1afYffl2PwrYKGUmFJfR2yOjPW3ZMy31xGfA1Pq6/jp8t3dwWotJGXriMvI4OB1/RSam40pzTxsaVbTlmY1bWhSwwYr08JfH5vORLDjUjyz+/hiZiyGWyuCrcGRvPpXMMZGxhiVw670ikSSpCday/36668zfvx4WrduTfv27fntt98ICwtj+vTpZVClUFZEAKyETp8+Tffu3Qvef/311wGYMGECK1as4K+//mLu3LmMHTuWpKQkPD09+fzzzwt9cf7www8olUpGjRpV0Ah6xYoVj3y025MsHq6OlAoZmjIahSuJSd4O2Q5ejtRxLL3zmp+ELu/81oSM/GCXkxfo1A8EvKQs9QN9Cm3z1sw5WprgYm1K4xo2OFnp37832NlbGKN4hNY8MclZ9P7+MPF57Vvy2RhLvJR3vNuf1+UY5f1cXHtTzpi6UsHu4EyNfmVlXLq+H52btSmTOtUmIVPNufAUFh+4TqZai0wG3k6WeYHQluYetlyPzcDV2lSEvwokv8WMUQXc1FXWnnQz3+jRo0lMTOSTTz4hOjqaxo0bs3PnTjw9y/cXXeHpiABYCXXr1q1gKqUorq6uLF++vMRrmJqa8uOPP/Ljjz8+UQ1yuRyttujWHsJdRnI5mmKOfCtL+QFQpSmbz5EkSaSrNEWP0OWN0uW/n5ChLmjjkc/SRHl3hM7KBC8ni7uBLu/N0dIEB0tjTJSlE5bWnbzDvC2XCu0qVsplzB/ZiPk7LjOxnrog/Ol3++ZNg0oyVl6XFewOXnvblMj0u6OP0Wk5fL7zKmZGcj4e2og1U/y4GZ9BcHgK58JTOBeRwpazkWh0EjKZ/mP/aNslmucFw9oO5hWukXZ1kqvVf14e5ZeHqkar1T5xN4eZM2cyc+bMUq5IKE8iAApPxNTUlJycHEOXUeEpFTJyDTBSmj/ClKV+vACYrdYWGqWLv2eU7v6Alz9yks9YKS80zdqkhu3dQGdpgpOVMU6WpjhaGZfbWiu1RseUlSfxv15444aTpTHrX2qHQqFgyMKDBSN/q+9p9XIvfQjUt4h5vk4Od+Q12HU1kbS8aWiZDLJzdbz1zwXe3XSRPo1c+WZkE0a11rfqzsnVcjEylRf+OImbjSmHQuJYERgK6JsbN/WwoXlNW5rXtKWph/7fTSgfuVodRgp5tQzhOTk5mJo+3jGWQtUhAqDwRCwtLZ/4DMnqxNxYSZaq/EdKnSz1ASIuLQe1RnfPaFzRo3T5b5n3BUaFXFYwUudoaUI9Z0s6eDkUnoLNe6tI5wlfjUxh7B8nScy82y5ELtNvcJjdqx6ze/lwOjSJCb/7M9NXH/6C0m3QSHe35+Z/KEZyUGnB3EjByuswoZ4OT9NIxrf1wszUhO/2XCuYtq7jYE5oUhY7L0Sz80I0dRzM+erZprSt7YClqf6c5vcG+tLVx4nkTDXnI1P1o4ThKaw9EcaPB/Rre2vYmuWNENrQzMOWxjVssDAR367LQq5Wh3EFbOpeHtLT06v1kZ7VnfiOIjwRKyurQkfDCUVzsjIhLr38RkpXHb/DqdtJxKXlIANeWx9Mdm7hkTqZDOzN74Y6DztzWtSy06+zyxulyw91tmZGBX3tKoMlB67x/b4bhaacbc2U/D29PT4u1nyy/TI/H7qJubGChXuuFIQ/M5e6XLx2p9C1lHkJsJadGZfjcshQ63ijlw8/7L/GhHo6HFNukmnjhV9dB4LuJKPW6ridmIWjhRF9fF3Zei6K24lZjPrlOObGCuo5W2JnbkT7ug4A2FkY09XHia4+ToB+Wj0yJZtz4amci0ghODyFH/ZeJztXi1wGPi5WhTaZ+LhYYVRNg0tpylRpq+2azIyMDKysrAxdhmAgIgAKT+RJDxGvblz+3959x1Vdt38cf53BkC0bFBBBEXGAuPfempYztaF5l6uyYetOy+7Wz/ayMi3L2XDmXuAeIE4UXIjKUvaGM35/oCSJggoc4FzPx4NHeviecy4w+b79jOtjY0ZiRtUcXp+eU8jba07RyNkKP1drrMzV+LlaM6q1xx2bJWpTcEjLKeCZxUcIu5xW4vE2DexYOrEdprdNN7/az4+1x66VCH/2nn5sOp1Y3BLRwkRJTqEO5c0AaG5qAhSF+L0XbtClkROLz10vCoFc4GSsip+fbo+rjRmP/3SIxIx8lh25QlvvurzQsxGz153mwvVsjl9Nx0Sl4IONZ3ilrx9W5iV//CoUCurXtaB+XQsGtSg6YUSj1XEuKat4LeGxK+n8efQqWp0ecxMlzdxtS2wy8bCvU21GYWuKhIw8XGyMc8o9MzNTAqARkwAoHoiVlRX5+fkUFhZKK5h7cLEx5/CllCp5L2tzNSYqBePbe/FkxwaM/fEg9lamxevQapuD528wY0VEid28KgW83LcxU3s0KvU576w/TV5+fnH4s6nXiMauNny2/TzmJkryCnWoVQrqmpig1RSt78su0NLAsQ4xN3I5dCmVix8MoMNHO1l8Lo8nG+mY0lTLhYQ0Ovn6cujN3qw8Est/15zi8KVUxi88zH+6NmTN1Ib8b+NZNp6I55f9Mfx6IIbWDex5e1BTmte3vevXqFYp8Xezwd/NhjFtPQHIKdBwOi6D41eKRgm3RiawcO8lAOpamBQFwvq31hPa4mBlnOGmvBIz8nC1Mb51cAUFBRQUFMgUsBGTACgeyK1/NWZlZd1xTrD4h4uNOYkZVTMFrFQqcLY2J+Hm+7nZmRNzI7tK3ruqaDQ65m09y8K9MXecEfzBI814vEPpbSh0Oh0TFh7m2OUbxeHPraE/k7v6EDh3G0ogr1CHlZmazDwNbb1tOXOtqL9fem4ho9s24Msd5wCYH3Ke9dM70+njncVrAok9za974YnOvoxu48mwoHq8/tdJVkdc44fdF/nt4GW+HN2Sjx9ryZbTCXy6NYrDl1IY8s1eXG3NebZrQ57s4FWuHZkWpmraNLCnTQP74seSs/I5cTW9aOfx1TR+PRDDlzuK1j962NcpDoQtPexo5m5rtFOepUlIzyPI087QZVS5W0t4ZATQeEkAFA/EwsICKJpCkAB4d87WZqTmFJKv0VZYO5N7qWdXh6upRSdauNvW4cCFCji2rBq4nJzNiysiiLiSXvyYAugb4MLnI1sw4odDrDsZx9j2nndMgeYVaBj09T4SUjOLw1/9hgE8092H9/6OJCNPQ2MXK6ITs+jj78zqY3F0buRYHABz8jX0b+ZaHAA/23aOaT0b8/NTbRi/8HDx7mBiT/PbPpjQyRcztYrPRwfycp9GPPnzES5cz2byb0fxdrTg16fbsXVmN+LTcnlvQyTbIhN5d30kH246S/8AV/47yB/n+xyRcrAyo0cTZ3o0cQaK1hNeScnl2NW04k0m8yKjyNfoUCkVNHaxJvDmBpOWHnY0crZCXYuWBdyPxIw8XIxwBDAzMxOFQlH8s1wYHwmA4oEolUqsrKxkI0gZbt1YkjLy8bCv/B+0vi5WHL1882QKu6LRR41WV2Nv7quPXuXd9ZGk5f6zm9dcreS1/o15urNP8WOv9vPj6V+OsObYNYYH1S9+/EZWHv0+31Ni2tfF259nuvuQklXAL/su4WhlxqXr2SgUYH6z+/OwlvX4KaQo8BVodTRxtcbLwYLLyTlo9RB+OZXOjZx4oZcvX+44/08IvHya3ygKgQD17S3Z8XJ3tp5O4MWVx7h0I4cu83bRP8CFL0YH8t24YHQ6HQv2XGLh3kusOx7HuuNx+LtZM6tfk+JAd78UCgWeDhZ4OlgwtKU7ULTbNToxs2iTyZU0ImLTWHnkCjo91DFR0byebdGu45tTyPXr1v71hPkaLcnZBUY5BZyVlYWVlVWt/zMWdycBUDwwaQVTNlfbmwEwM69KAqCfizV/hF2hUKujfl0LdHq4lpaLl4NhTwO5H5l5hby7LpJVEVe5fZbXo24dvh/fioB6dnc8p0cTZwa3cGPu+kg6+TribG1OdGImj3yzD6VeUxz+HLyaMOXm+sDnloSh1cOY1vX4JuQiwV51CY9Nw0SlwMPhnz8rPUX9FPsHuPLTnoto9fDM4iNEzO7LzD5+HL6UyoGLySVC4BJg/M0QCNA3wJVjs/vy0eYz/Lw3hs2nEwl4Zyuv9WvMf7r58mw3H57t5kP45VQ+2BjJ0ctpPP3LEezqmDC2nScv9mqE2UMeU2aiUhLgbkuAuy2PtytaT5idr+HUtaJdx8evpLPxZAIL9hStJ3SwNC0Og7fa0dS1NH2oGqqb6zdPc3GxNb4AKC1ghARA8cDs7e1JTq4dU4yVxcW66MZSVTuBG7tYU6jVE3Mjm6ZuNgCcjsuoEQEw/HIqb/x1guik23rxAT39nfhydBBW5vfebPTO0AAGfLmHl1YeZ3JXbyb9EoaZUlcc/uzqN2ZGr8YAHLqYzOGYVIK97Pg9/BoAX44OpPfnobjb1bnjtaMTM+nXzJUfdl8EIDWnkKSMPJxtzPltYlvaf7STG1n59wyBpmolswcH8J8uPjy3JIxjV9L5YFMU80MvMn9cMO19HAj2qstfUzqRmVfIR5vOsjriGvNDLvBj6EU6+jowZ3BTfF0qbs2WpZmadg0daHezNQ0UhaITN6eOj11NZ9G+S6TfHIH1crAonjYO9LAjwN0G8xp8fu6t9bnGOAKYnJyMvb192ReKWksCoHhg7u7uxMfHG7qMas2mjhoztbLKNoL4uRaFg6jETAa3cMfVxpyT19IZ2NytSt7/fmk0On7cc4Fvd10o0YTa3ETJi70b8Vw333s8uyRHKzM+HxXIhIWH2Hv+BlZqPVNuhj9L90a82LdJ8bUzlkegVMAHw5vR74u92FuYYGGqJq9QR6CHXdFFt82MRSdmMjLYAxcbM1KyCyjU6pm2LJw/nuuEWq1k7fSOdJ8XglZHiRC4VAHjOpb8GlxtzVkzrTP7zl1n6rIIUnMKGbPgIC3q27DgiTa42JhjbW7C+8Ob8/7w5qw+eo0vd0Sz59wNen++G8+6dZjW05eRwfUf+Bive3GyNqOXvwu9/F2AovWEl5NzinsTHr+SxubTCRRodKiVCpq4WZcIhT5OVjXmWLWE9KJ/mBljAIyPj8fd3d3QZQgDkgAoHpibmxtxcXGGLqNaUygUN3cCV80IoL1lUYPn6IRMaAHN6tlw6lp62U+sYldSc5iz5hS7oq5z+15ej7rmfDEmiGCvBxuZ2H/hBnrA8rbwZ+biw6v9/Yuv+W7XeZIy83myYwPe+/sMADP7+LH+RNH/y31uBp/bXbqRjVKpoF+AK+uPxZGaW8iRmDQKNDpM1Urq2Vkwf1wwz/wahqlK+c/u4JjTLNGXHAm8pVMjJ8L+25tvd53nqx3nOHE1g/Yf7GBk6/p8MKw56pvnOQ9vVY/hrepx6XoW722IJDT6Bq/9dZJ31kUypKUbbw70x86i8qZmFQoFDRwtaeBoySOB9YCiI/aiEzOLA+GRmBSWHY5FrwdLUxXN69sW9yZs6WGHm615tVxrlpCRh7mJEps6xncrjIuLw82tev7DUFQN4/u/XlQYNzc3GQEsh/p161RpOxY/F2vOJhStzWxez45F+y6h0+mrxYkeG07E8cHGs1xLyy3xeLdGDnw5Jgg7ywfvWTdj2VHWn4jH3UrFuIb5XM9ToHJsyBuDAoqvySnQ8Pn2aKzN1cwZ7I/vW5tQKRWMb+/JxF+OANDb/86NF7d2VvcPcOXXA5dRULQ28JPNkbw5uFnR85q68GxXb37YfQkLUzWLz2n+GQkExpUSAk1USl7s3ZjH23ry8h/H2XPuBr+HXWXtsTjeGRrA2Ju9/wC8naxY9FRbCjQ6vt11jt8OxvJ72FX+CLtKi/q2vDnQv8RUbmUyVStpVs+WZvVsGd++qPVOZl4hJ6+lF28yWXcsjh9Ci6bMnazNbraiKQqGLerZYWth+P6ht3oAVsdwWtni4+MlABo5CYDigbm7uxMSEmLoMqo9fzcbtp9JrLL3a17flj/Dr6LX6wn2qsvn26O5cD2LRhW4dux+ZOVpmLflLMsPX6FA+8+xdOZqBVO6+zKjp+9DTWXqdHr+b0sU60/E42apYnzDfJLyFHg3bsaTnRuWuPb55REUavV8Pqo5i/bFoNND98aOKBQKTsdlYGOuxvzmySGKm3PAKkVRrziAtt722FmY4GRlyrmkbH7ad7k4AAK8MbApR2JSORqbhmU5QyBQtJZwUjsOXUzm+eURJGbm88aqk3y94xzfTwimRX274mtN1Upm9vFjZh8/9p67zkebznL8ajqjfzyIo6UpT3RswNRuPsUjiFXF2tyEjj6OdPRxLH4sMSOv+BST41fS+WH3RTLzihpsN3S0vLnJpCgU+rtV/XrChPS8+265U1vEx8fj7+9f9oWi1pIAKB6YjACWT1M3GxbuvURmXiHWZWxkqAhtve2ZH3KBmOQcAj3tUCog7HJqlQfA41dSeXd9JEdj00o87m5rxryRLenk6/TQ71Gg0THrz+OsORZHG08rutulkZSnwMM34I7wFxmfzvYzSfi5WDO4pTuB724F4LNRgeh0Om5k5dPy1vq/25ipVdzIKprCV6uU9PZ34cjF6wDo9LAm4hrDguoVX7/iPx1o98F20nIKMTNR/TMdfJc1gbdr19CBfa/35Od9MXy8+Sxx6XkM/WYfHRva89344Dumejs3cuLvRk6kZBXwvw2RbDwZz2fbovlqxzl6+Dkxe3BAiR3NVc3Fxpy+Aa70DXAFisL6peTs4t6Ex66ms+FEPAVaHSYqBf5uNretJ7SloaNVpY5cxyRn09hA/zAyNBkBFBIAxQOTAFg+/jd340YlZNK6QeXvugv2qotSUbTTdUxbT5q623AkJqXEdGJl0el0LNx7ie9DL5KcXVDic518HPhiTEucrO/cZfsgMvIKee63cMJiUnmplzfq6+dIylPw6zklz7gW3DHtPWXJURTAj08Ec/F6Fmm5hbjZFp2NHH45FZ0eOpQyhWpppi7eBQtF08B/hl/FxdqMxMx85qw9VSIAmqqVrJnWiZ6fhqLXgxLFPxtDYk6zFAXjOvrc8T63qFVKJndtyCNB7sxee5rNpxLYfzGFVnO3MbGLN28OaHLHiKm9lSmfjQ7kk5EtWHb4CvNDLrDtTBLbziTh42TJzN6NGdzS8Av+lUoFPk5W+DhZ8Wiron6N+RotZ+MzizeZ7L9wg98OXgbA2kzNy30b81Qn7wqvRaPVcTYhk2GB9cq+uBaSAChqZndYUS3cCoB6vb7si42Yr7MVJioFkfEZVfJ+NuYmNKtny4GLRS16OjR0YM+5G+h0lffnFJ+Wy9Sl4TT672be33i2OPyZqWBKNx8ufjCApZPbV1j4i0/PZdT3Bzh1LZ23B/oWhz8Xb3/+OyiABXsu8syvYaTnFAW3lUdiuZycw5CW7ng5WDJz5TEA3r65PnDDzQ0gg1veeUO0rWNCzm07lDs3csTCVEX/ZkWbRdLzNJz+10YbLwdLvhwdSL5Gh72VGTq9gqXnldzIU5AWc4ql+y+U+TU6W5vz/fhg/nyuA572ddABP+25RPN3t7Lu+LVSn6NUKhnf3ot9r/dk4wud6eTjwKUb2UxfHkGzOZuZs+40WTenYKsLM7WKlh52PNGhAZ+NCmTHy9058U5flj7TDkdrM3ZFXa+U971wPZsCjY6m7jaV8vrVmU6nkwAoJACKB+fm5kZhYaH0AiyDqVqJr7M1p69VTQAE6OTryL7zRaGvX4Ar1zPzibiSWuHvs/V0Ar0+DaHDRzvZeDIB7c2Q6WJtwsIng4l6fxCvlTJi9TCiEjJ59Lv9ZOQWMnewH5mXI0nKU+Dg6ceUHo2Y2NmbRU+1IfxyKoO+3sOuqCTeWReJuVrJJyNbotPpOHE1HROVgoEtim6Ahy6loFIqaOpmW/w+t/YFOFmbUqC5be2iiYoeTZwJj03D9OYJK7NWHb+jzsEt3Rnb1oOkzHw6+ThQoFPwe4yqOAQu23+xXF9v6wb27Hy5O+8ODcBMrSQ7X8vzy4/R85MQzifevRF7Uzdblk5uz+l3+zG5izdKhYLF+2No/u4WRn2/nxNX08r1/oZgY25Ch4YOpGQXEOxVOUdNRsYXhfZbI/TGJDk5GY1GIwHQyEkAFA/M0tISBwcHYmJiDF1KtRfoYcexK2lV9n5dfB25kVXA2YRMWnnWxdHKjM2nEirktXMKNLz3dyQBszfzn9/CuXD9nx3ObRrUZf9rPTj0Vl96+btWyPvdbv+FG4z4fj92FqbMHeJHXPRxkvIU2NZvzIzefsXX9fBz5u8ZnfGoa8HTPx8ht1DLm4P8MVUr+b8tUeiBQbf1Roy5kX3X82BdbeughxIjZ/0DXDl1LYMJ7Yum1U9fyyQlq+SU95n4DA5dSkGtVHDgYjITOzUguwDWXTXjRp6C1JiT/Hn4Urm+brVKyZMdG7Dv9Z482qpoyvLijWz6frGbn/ZcLBFQ/62OqZq3BjXlxDv9+HFCMI2crTgck8rQb/bR/oPtLNxzEZ3u7s83lIs3skjPLaSVZyUFwLgMPOzrYFvH8LuRq1pMTAyOjo5yDrCRkwAoHkrjxo2Jjo42dBnVXpCnHdFJmWTkFZZ9cQUIblAXC1MVO88molQq6NPUhS2nEx9quj4yLp0xPxwgYPYWFu69VNy42UQJT3f04vz/BvDHcx1xr1s5N5W1x67x5KLDtKxvx1v9fIg+EU5SngLreo2YeVuT51s87C34fnwrrMzUtGlQlyc6NADg1wNF68s+GF60ezczr5DsAi3N7zIVWL9u0bR11G2jbT2aOGOqUpb4Wt/9+zQA6TmFzF0fyZCv92KmVrHphS609bZn3fE4xrXzJDlHw1+X1dzIU5B0/gRbT1wt9/fA0cqMz0YFsvCp1igVRZtQ/rfhDH0+D2VXVFKZz+8b4MrWmd048HpPBjZ3JTm7gPc2nKHJ21uYsfwoSVXUsLw8wmJSUSigpYdt2Rc/gNNxGcWn5Rib6OhoGjdubOgyhIFJABQPRQJg+bTytEOvhxNXqqYps5laRS9/F/4+UbRJp38zV2JTcjgTf39nN+t0On7ed4n2H+xg4Fd7OXgppbhxs7O1Gd+ODeTcB4OYM7RZpbUd0ev1/BB6gRdWHGNIC3de6NGAE0ePkJSnoI6rLy/3u3sriy93nEen1/P12FYAHL2cQk6BFm8HSyzMikZ+Nt0cGe1VSgNoAG+HovNSo28LgFZmaro0cmTLqQRa1i8KKGuPxfHNjnN0/2QXK4/EMrNPY1ZP7UgjF2u+fbwVpiolJ66l425rTka+ntBkS5LzFZw/FX5fIRBg/bE4bOuY8ObAJliZqbmamsvTPx/hqUWHuHA9q8znu9nV4btxwUS915+3BjbBzsKE9cfjafvBDvp/sZudZ8sOk5UtJOo6QR52lbJzXqfTc/JqOs3rVU64rO4kAAqQACgekgTA8mnoaIWNuZqI2Ipfh3c3Q1q4cTYhk3OJmXRo6IC1uZotp8s3DZyUkcfzyyPwe3sz766PJOG2kaFAD1t2v9Kdw2/1ZlDLyt1BqdXpeWfdaT7cdJbpPXyZ0NadI4cOkpSnwNTZh9cGNr3rc88lZrL4QAwzejbC1bZoenfWXycB+PCxf3r37bzZo3Fg89KnrBu5FAXAfzfz7tfMlSOXU5hy23F1n22PZmBzN3a90p1pPXyL+9o5WJkxe0hTTl1NJyEjDx8nSy4m55Fg6nZbCLxSru/Jrqgk1hyL442B/vynqw+7Z/VgZHB9FMC+C8n0/SyU9/6OLLFz+W6USiWTu/pw+K3erJ7akdZedYlKyGTiL0do+e5WPtp0hryCqt80UqDRsefc9buG8od1/noWmfmaSpteru4kAAqQACgekgTA8lEqFQR61iW8CgNgNz8nrM3UrD8Rj6laSc8mzmUGwJ1nk+j/xW7afrCDdcfjKNQWjfepFDC2TX3Ozu3Hmmmd8XS0rPT68wq1TF0azm8HL/P+8Gb09bPnwIEDJOUpUDp68+bggLs+V6/X887603jUrcPEzg0AyC3QcD4pizomSto3/KdZ8clrGViaqrD610jTrQYyXvZFU8BXU3NKfL63vwtKhYLnloYXX2uugveHNy/RXFiv1/P7kSu89Ptx7K1M0elhYqcGeDtasuFkElp775sh8GiZIfBaWi4zVx6ju58TI262UbG3NOWjx1qwelonmrjaoNXDL/tj6DZvF8sOxRZvzClLkGdd/pzSkRPv9GV8O080Wh3fh14kYM4WJiw8VGIEtLIdvpRCdoGWHn53nspSEY5eTkWpgBal9H00BhIABUgAFA/pVgCUVjBl6+TjwMGLyeTe1lKkMpmpVfQNcOXv43Ho9Xr6B7hyNiGT80klb+R5BRo+3HiGFu9uZeIvR4qPkQNo6Fi0xm3NtM58+FjL4lMyKltKdgGPLzhIaPR1fpzQmhauFuzdv5+kPAV6hwbMHtr8ns/fcjqBfeeTmT2kKWbqolG4n/fF3PysgnfWnSYiNhWNVkdCRh4N7hFolUolKoWixCgoFAWvP57rwM9PteHL0YEA5Ghgy22bbS5ez2L8wkPM+usEA5u7sfvVHkxo78U76yP5cHgzHC1N+eVALA6efmWGwAKNjqlLj2JpqubzUYF3NEgO9LBj7bROfPhoc6zM1GTlaXhz9UkGfbWHgxfLv1Pf2tyE/w1vzum5/flidCCeDhbsOXeDvp/vpsvHO1l+OLbSN43sPJuEm605/m6V06T5aGwqjV2ssTIzvla4er1eAqAAJACKh+Tr60tmZiaJiVV31FlN1aepC3mFOvaev1Fl7zm4pRsXb2QTGZ9BT39nHCxNWXooFoCz8RmM/+kgTeds4YfdF8m4OWWoVsLI4PqEvdWLbS91x9Pegh/3lK9lSUWITc5hxPz9XE7OYcV/OuBqpWLPvqLwV2jnxbuPtLjn8/MKtbz39xl6NnGmZ5N/phB/O3gZlQIeb+fJ3yfiGf7dfpq9swWtTo9KoWB1xFVOXUsnJbuA7PyS055mJkpu/GuXL0Arz7r0aOLM0KB63Mpj//v7FMlZ+czbcpb+X+4hNiWHX55uwycjW2JppubtwU1pWd+OF1YeY9nk9liYqpi37TyNA1reNQTeGtE8E5fBd+NaUdfS9I5aoGikeWxbT0Je6c7oNh4oKDrtYsyPB5m6NJwrKTmlPu9uhgXVY9crPQh5pTs9mzgRn57HG6tO0nTOFl798zhpOXd+TyrCzrOJ9GjiXGln9EbEptGqktrLVHcJCQlkZWXh63v3E2mEcZAAKB6KhYUFHh4eMg1cDg2drGjoZMm2yIppx1IenX0dqWthwpqIa5ipVTzWqh7LDsXS8aMd9P9yD3vPJ3NrhtDJ2oy3B/sTOXcA80a2xNHaHJVSweSuDdlwIq5KpgBPXE3j0fn70On1/DWlI2q9ht1795GUpyDPxpP3H21Z5mt8H3qB65n5vD34n/WBkXEZxKfn0d3PmbcHN+XgGz35a0oHgm6uAbualsvMlccZ/PVeWr23jYA5W8gu/Gek1tpMXRyQ76bfzePOrqTl0+HDnSzaG8Mznb3Z+mI3ut82lWmqVvLduFbo9fDWmpOsmtoRtUrBW2tO07Z16+IQuOW2EPjTnkssOxTL/4Y1K/W4un+ra2nK+8Obs256Z5q4Fu103Xk2iZ6fhvDp1ihy7nNdXwNHSxY91Zazc/vzYu9GWJiq+SPsKkFztzH0m70cuo8RxrJcvJ5FTHIOvZpUzvRvWk4B55KyjHr9n6enJ3XqVExTdlFzSQAUD61x48ZERUUZuowaoU9TF3acSSr3uqyHZaJS8lir+qw8EssLKyJYfOAy+RodcWn/TGe2rG/L8sntOPJWbyZ1bojpv3bzjm7tQb26dfhkS+X+Ge86m8SYHw9Sr64Ff03pSFZObnH4y7b25KMRgWW+xtXUHOaHXGBSF2+8b5vW/XDTGQBeH1DULkatUhLsZU9+obborOS3enHynb6smdaJHyYE8/XYIBwtzYqfb2dpWuI0kNJ8PeafcOpiY8aBN3oyq38T6piq7rjW2cac+eNbcexKGssPxbL0mXbo9Hpe+P04vbu2JzlfwYVTR9l68gqbTyXwwaYzTO3uw6g2HmV+D27XvL4tq6Z05P8ea0GdmxtSvgu5QI95IayJuHbfSzfUaiUv9m7M0bf7sPSZdjSrZ8OJq+mM/vEgwe9t46sd0Wju0ZOwPHaeTcJMraSjj2PZFz+AkJsni3T2rZzXr+5k+lfcIgFQPLSAgABOnjxp6DJqhD7+LiRnF3CsEk7lKM2ec9cJib5ORp6Wtcfi0N284asVMDzQnYNv9GTt9M50uMfN1lSt5KU+jdkamVhpu5hXHonlmV/D6OjjwIrJ7UlMyyoOf2kW9Zk3MrBcr/P+hjPYWZgwvcc/01u5BVr2X0jGo24dGrmUXFN2PikLRyszlEol1uYmBHrY0S/AlSEt3bE2/2d9mLO12T2bLQOo1Wpa3GwrciU1F5Xy3tOXwV72zB4SwOIDl7mSkstXY4LIK9QxZekxBvfsVDQSePIor/0exsBmbrzS1++er3c3SqWCUW08CHmlB2PbeqLX68ku0PLiymM8On//Azco7+TryPoZXTj63z481qoe2fkaPtt2jiazN/PM4iNcSb6/6eZbNp6Mp7OvY6nBuSJsi0ykRX3b4p3hxubEiRM0bXr33fPCeEgAFA+tVatWhIeHG7qMGiHIsy4OlqZsjay8NZMFGh2fbIkiaO5WJiw8zIWkrOIw08jZmnkjWnBqbn8+HxOEq235poGGtqxHE1dr/m9zVIVu+NHr9Xy2LZrX/jrJmDYefD8+mMtJaYTs3ktSnoJks3p8PjqoXK+17/wNNp1K4M2B/ljetrj/+9ALaHV6nuvmU+L6Ao2OjDzNXc+CvT2+udmao6eoafS9fDU2sPjX7/0dWWbN49t5Mqp1fd5cfRIvB0veGtSEtJxCnl9xHKcG/lzPU/CfJloGNHW4Y9PH/bK1MGHuI81YP6Mzfq5FQfh8UhbDvt3Hy78ff+Am0PZWpnw6KpDIuf34YHgzXG3N2X4miS7zdvGfX8M4da38vS8vXs/iaGwaw1tVTnuhfI2WkKgk+lRSe5maIDw8nODgYEOXIaoBCYDioQUHB3Ps2DG02qrZ3VqTqZQKevk7s70SAuCFpCyeXHQY/7c3882u8+QV6hjdxoOI2X0I+29vNr3QhQ3Pd2Zka4/i/nT3U/crff04cDGZ0OjrFVJvoVbHrD9P8NWOc8zq78f/hjXjfHwqO2+Gv0RTN756vFW5NgIUanW8s+40rb3qMrSle4nP/XbwMqYqJaP/NX16ay1mt8ZOZb6+l0PRdHJUwr3XQTZwtMLOoqidzKrwq2XullUoFMx9pBlNXK15bkk4jwbVZ2KnBlxJzeWjLdFcUbqQkq8g9swxtp26v2bRdxPgbssfz3bgk5EtMVUpMVUr2Xgyju7zdvFdyHnyCh/s77FSqeTxdl7sfa0nn4wo2qgTdjmVwV/v5bH5+1l77FqZo6irI65hba6mdyUFtAMXksku0NInwDgDoEaj4dixYxIABSABUFSAJk2aoNfrOXv2rKFLqRF6+7tw4Xo2F8txYkN5/B52ha7/t5Nen4USGn2d+nXr8MmIFpx5rz8fP9YCOwtTzNQq/N1sHmpXZS9/Zzo0dGDOutMPHBJuycrXMGlxGGuOXePz0S2Z2t2X6NvCX5zKle/GtS53vb8duMz561m8MzSgxHMOXkwmJbuA/s1cUKtK/ri7NQo7pKUbpfvndRo6FQXA6MSy/8xe6t0IAI0eFu4t+6xfcxMV88cHk1eoZcbyCN4c6M+I4KIef+19nGgRGMT1vKI1gTHXK+YkGaVSwYjg+ux8pTuPt/UkX6PDRK3iky1R9P18N5tPJTzUSO/2M0n4OFly8PWefD++FWZqJS+sOEbHj3by6dYo4tNz73iOTqdn1dFrDG7hdt//QCmvbZGJeNjXwc+lctrLVHdnz55FoVDQpMmdRycK4yMBUDw0tVpNYGCgTAOXU5dGTpiplWx7iFHAtJwCZv15HP+3NzPrzxNcS8uju58TO17uRuisHoxofX+bBcpDoVDw3rBmxKXl8t2u8w/8OkkZeYz+4QBHL6fyy9NtGR5Un6i4FHaE7CEpT8EVpQs/PNGm3OHvRlY+n2+P5vG2njT719Fe/7e56B8lr/W/87i441fSMDdR4mh1l7Vgt719k5uB4dKNsgPgEx29i9f//RBavvY57nZ1+ObxVhy6lML/bYnik5EtebZbQ/634QyvrTpFeLYdGYVKtu3czeUKCoEAtnVMeGdoABue74KfizU6fdGayeeWhDPup0OcTci479e8kpLD1sgEJnb2xtRERf9mbiyb3J5tM7sysLkri/ZeovPHu5iyJJz9F24UB829529wLS23OPxWNJ1Oz/YzifTxd6209jLVXXh4OIGBgahUlROwRc0iAVBUiODgYAmA5VTHVEWXRo5sP3P/AfDQxWSGfrOXoLnb+D3sKuYmSp7v6cuZuf355em2+DhZVULF//B1tmJKNx/mh14oczq0NOeTMhn+3X5uZOXz+7Md6OTryLnbwt8lvRM/Pdn2vm7Q8zZHoVQo7tgkkZZTQERsGr5OltSre+dax2tpuXjaW9z1dW+vwMvBovg55dH95rTyjewCQqPKd65uBx8H3hjQhB93X2T98Tg87CxQAPmFOl7o5cfYgd1JLVCytYJDIIC/mw0rn23PF6MDQVG08edsfAYDvtjD22tOkZJd/n5/C/dewtrchEeDSga5Ri7WzH2kGQff7MWcIU05l5TF4wsO0ffz3fx2IIbfDsTg52Jdae1ZTl5LJzEjnz5NjXP6F2T9nyhJAqCoEBIA70+/AFfCLqeWqzGvRqPji+3RtHpvG6N/PMiJq+kEuNuwZFJbImb35aW+fne0bqlM03r64uVgyaw/j6PRlr/lx5GYFB6bfwALUxWrpnaiqbsN5+JS2B5aNO278qKKDx8LvK/wd/xKGr+HX+GVvo3vaI785Y5z6IEZvRrd8bwrKTkUavUE3yNs3F6FUqlEpVSQkF6+jRKfjf6nJcz7G8+U6zkAkzp7M6SlGy+uPMZ/155ifHsvOjVy5IWVx8jI1zJmQLdKC4EKhYJhQfXY+XI3nmjvRXqehrqWpvwZfoXu83bx875LFJbx530lJYelhy4zuYv3XXfxWpub8ESHBmyb2ZVlk9vh62zFO+si2XYmCZs6ai5U0NKIf9sWmYidhQltGhhn/z+QAChKkgAoKkRwcDARERGyEaScBrVww9JUze9hdz/79XJyNhN/OUyT2Zv5Yvs5cgo0PNaqHkf/24e/n+9C50Zlb16oDGZqFfNGtODktXS+2lm+qeBNJ+MZ99Mhmrha8+dzHalnV4cLCalF4S8XGvo1p66lOaN/PMClG9nlek2dTs+cdafxc7FmbFvPEp/T6/X8EXaVOqYqhrRwv+O5a49dA2BA87ut/6NkAgTM1UqSSzkNpDS2dUypf3PUMToxi8vJ5fuarmflk5SRj1anx97ClFf6+vHD+GAaOlny1M9HUCiVJUJgbAWHQCgKaP8d3JRNL3ShsYsVuYU6bOqY8O76SAZ8uYfd99gE9OnWKOpamDKxs3eZ76NQKOjo48j88cFM7NwAlQIuXM+m92e7eXzBQTafir+vf2CUZWtkAj39nO9YC2ostFqtbAARJRjn3wRR4fz9/dHr9dIQupwsTNUMC3Jn5ZErd9zkNp9MoPu8XXSbF8LOs9dxtTXng+HNiXy3H5+OCsTeqvRjwKpSkGddXuzdmK93nmPvuXsfbbdo7yWmLjtKvwBXfp3UFlsLEy4kpLJ11x6ScqFNm2Ce6OTNH1M6YqJSMvSbvewqx7TpqohrHLuSxjtDA+64qW+LTCQrX8PwwHqltk/Zez4ZBdDZ1+Ee71DyeVbmatLLaANzu/eHNSv+9ey1p8u8ftPJePp9vpsL17P4akwgWr2eF1ZGYG6iYtFTbbAwVfHkosNY1TEtDoFbKikEAjR2sWb55PZ8NTaIQq0OM7WSvEItTyw6zDOLj9wR1E9dS2fNsThe7N0Yi/s4MzqnQMOf4VcZ196LA2/05MsxgeRrdDy35Chd/m8X3+w8x/XM/If6Wi4nZxOdmGXU079nz55Fr9fLBhBRTAKgqBBqtZq2bduyd+9eQ5dSY4xt60lSZj47zyaRV6hl1dGrDPt2H88tDedycg5dGjmydWZX9r7Wk8fbeaJUVq+/rtN6+NLZ15EXV0aU2kNOp9Pz/oZI5v4dyeQuDflydCBmahWXEtKKw1/r4GAGNi/q+VbPrg5rpnWiTQN7Jv5yhO9Czt91J2pGXiEfbTrLkJbutG94Z4j7bFvR0YQz+9w5/QsQlZBBXUvTe35P/z0TbW9R9mkgUDT6eC4xk4OXUoofC42+ftfj125k5TN92VGmLD1KW297trzYlaGB9fhqbBCh0df5Yns0jlZm/DqxLRl5hUz85QiONuZVEgIVCgVDW7qz4+XuPNWxAQnpeThZmxERm0bfz0P5YOMZMm6G4v/bEkVDR0tGtb6/TRzLD18hM0/Df7o2xEyt4pHAevw1pSN/z+hM10ZOfLPrPB0/2sELKyIIv5z6QLuTt0UmYqpW0rUcLX9qq71799K2bVvU6vKHc1G7Va87iqjRunfvTkhIiKHLqDEC3G1pWd+W9zeeoeNHO3np9+NYmal5tFU91CoFn48OpHE1blehUhbVqFQoeH5FRImRzLxCLTNWRPDT3kvMGdKUNwf6o1QquJSYxuZdu0nKLWogPqhlyYa/NuYm/PREa6Z19+X/NkcxfXkE2fl3Bqevd5wjO1/DmwPvHM1ISM/lbEImzerZ4mR95w5fjUZHWk5hma1A/j1u6GRtRuFd+thptDoOXkzmvb8j6f5JCH0+383Sg5dp08C++JqPNpVsk5Sv0bJw7yV6fxbKvvM3+GJ0IN+PD8bBqugIum6NnXi1nx9f7zzPltMJeDlY8vNTbYlOzGT6sgjc61qUCIFXrt//jt3ysjJT88ZAfza/WDQtnJxdgKe9BYv3x9DzkxDe3xDJ7ujrzOrvd19TrPkaLQt2X+SRwHrUr1tyQ06zerZ8PKIFh97ozWv9mxARm8Zj8/cz+Ou9rDwSS245wvgta45do2sjpxINwo1NSEgIPXr0MHQZohqRACgqzK0AWJEnRdR2M3o2QgE3R1m6seSZdswe3BSVUsHSg7GGLq9MjlZmfDU2iMOXUpi3tWj6Pz2nkCcWHWZ7ZCLzx7Xi6U5F68EuJaWxeWdR+Atq1YohgaWPFCmVCl7p58d341qx62wSA7/aw5GYf0bTzidl8fO+GKb39MWtlJNM5m0pGv176S6jf3sv3EAPdGl8f2fButnVQQ/EJmdzJj6Dtceu8eGmM4z58QAt3t3KmB8P8veJODr5OvLzU204/FZvVv6nHaYqJQrgj7CixtBanZ5VR6/S85NQ3t8QSb+mrmx/qRvDgurdsQFmSjcfBjRz5eXfj3M+KYvm9W35fnwwu6Ov8+bqk3g4WBaHwM07Qys1BAL4OluzZFI7vn28FTkFWvSAg6UpC/Zcoo6JCnvL+1uesProNRIz85jSveFdr7G1MOGZLg0JeaU7Pz/dBhcbc15fdZL2H+7g/Q2RZa6vPHE1jVPXMhjbtuJbI9UUer2ekJAQunfvbuhSRDWi0MvdWlSQvLw87OzsOHHihBw2/pDeWn2SLacT2fd6D8zU1b9n1097LvK/DWd4pW9j1h6L43pWPj890ZrWN0fArqdn8+fGHSTlQmBQEI8Ele9mfOlGNq/8cZyjsak81bEBL/VpzNSlR7mcnMPWmV3vaBis0epo9s4WTFVKjs/pW+qO4tf+OsHKI1fY93oP6tndvQ3M0C9DmdQgjTXJzmTk6zmflEV6bsk1gPXs6tC8ni1Bnna0b+hA83q2d6w5nL7sKH+fiAdgTOv6HLuaztmETPoFuPBqPz98ne89EpmVr2H4t/vQ6vWsndYJa3MTVkdcZebK48zo6cvLff24fD2LlZtDsDfT069HNzycSj/eriJl52v4Ztd5fgy9gFYP9evW4WpqLoNbuPHGQH/q2d37mEGNVkevz0Jp6mbD/PH3tzEhNjmHJYcus/LIFTLyCune2IknOjSgW2OnO77/b6w6QUjUdfa+1rPM85lrq6ioKFq2bElaWhrm5sZ5BrK4k4wAigpjbm5O+/btZRq4AjzdqQE3svL5+3i8oUspl0mdvRnf3pNPtkaTW6jlz+c6Foe/GxnZrN+6i6Rc2JFkSQef8q/D8na05PdnO/DmAH+WH46l6//tYs+5G/x3kH+pp0WsOnqNvEIdY9p43rWdzNHLqZiqlPcMfwDN6xc1lbY2M6GBgyUdbq41HNvWg7+mdOD47L7se70n308I5tluPrT0sCt1w8lbA/9pQr0i7Cr2lqasmtqRHya0LjP8QdH06w8Tgrmekc/Lvx9Hp9MzPKg+bwxowtc7z/PbgRi8nKwY3b87KfkKtuwK5eqNyh0JBLA0U/NcNx+s6xQdfTepkzefjGzJoUsp9Po0hM+3Rd9zmnbjqQQuJ+cwtbvvfb+3p4MFbw705+Abvfj40RZcz8rn6V+O0P2TEBbsvkhaTtFu7cy8QtYei2N0Gw+jDX9QNP3boUMHCX+iBAmAokLJOsCK4etsTc8mzny763yZvdeqA4VCwTtDAvjpidasmtoRX+eihtQ3MrJZt2UX8Tl62rYJpkAHo388yNXUsvsf3qJSKpjctSF/z+hM7s0j6L4LucD+83fuPv425DwKijao3M2VlBzq1S37Ruh4c7f1p6Na8umolrxxc72hpZmaYC97bG+e+VsWN7s6dGnkwK388UKvRvfd7LihkxWfjQ5ka2Qi34UUtd75T9eGTOzkzex1p9l8Kh4vJytG9e9GSr6CzTurJgR+uPEMmXkaXKzNGNXGgxHB9dn1Snee7uTN/JAL9Pw0hHXH4+5YFqLR6vh6xzm6NHIsDtoPoo6pilFtPFg/vTOrpnaklacd87ZE0e6DHcz68zjf7Cw62/jf50AbG5n+FaWRACgqVI8ePWQdYAV5pa8fl5Kz79krsDpRq5T0buqC882NF8kZ2azfsov4bD1DenZmQPN6/PFcBzQ6HcO+3VdiXV95bDqZgFanZ96IFuiBx386xLifDnLsShoAF5KyuJycQ+sGde8azm5k5ZGn0RHoUY4A9q8RRI+bff2upZbvNJDb/XdQALqbfyXm/h15388H6NPUhRd6NeLTbdHsikpCoVDw30H+DGruxvMrjnH4UgoNnKwZ1b8byVUQAvefv8GKI1fQ6vS8N6xZ8QYLKzM1r/VvwraXutK8ni3PL49g5PcHOHn1n53Kv4dd5VxSFq/287vby98XhUJBK8+6fDEmiP1v9OT5Xo3Yc+4GP+y+SM8mzqWuFTUWt9b/yQYQ8W8SAEWFateuHSkpKZw7d87QpdR4Td1tGBZYr7gJdE2SfHPkLy5bz+BenWhxM3B52FuwZmonfJyseHzBQZYfLt9Gl2tpuXwbcp6JnbwZ2dqDNVM7Fk2LZuYz7Nt9jP3xIC//cRyAl/vePVSsO1Y0pd43oOx+cP+eMCw+DaSUljdl8XO1pq23PVZmKk7HZRBfziPl/u2FXo3o6efMC8sjiLmRjVKp4NNRLWntVZdnFh8hKiGTBk7WjL4tBF6rhBCYla/h1T9PYKJS0KuJE30DXO+4xsvBkh+faM2SSe3IyCtk6Ld7mfXncS7dyOazbVEMD6pHi/p2FV6bo5UZ03r4smdWj+I+hsYsOjqatLQ02rZta+hSRDUjAVBUKHNzczp06MDOnTsNXUqt8FKfxqTnFLJo7yVDl1JuKZk5rNtaFP4G9exESw/7Ep93sDJjyTPtGNPGkzdWnWT22lNlTnN/sPEM1uYmTO9ZNLWrUCjoF+DKphe68vXYIPIKtRy7koaDpSntvO3v+jqhN0+x6NWkHAGwlCVj5iZKkrMerCnxEx28yMovmsKes67sxtClUSoVfDY6EAcrM55bEk5OgQYztYofJgRTr64FTy46TFxabtFIYL9uJOcp2FQJIfC9vyNJSM/F0lTNh4+2uOe1nRs5svH5LswdGsDWyER6fhpCZp6mwkb/7katUtLBx+G+mlLXRjt37qR9+/ay/k/cQQKgqHADBgxgw4YNhi6jVvCwt2Bce09+CL1ISnb5jiEzpJTMHNZu2Ulclp6BPTsR6Fl6GDNRKXlvWDPeH96MZYdieWLhYZIySx9ZO3AhmQ0n4nljQBOszUtO7aqUCoa0dOfxdkVHwS2b3P6eZwmfic/Ato66XGcnK0t5HWszNRm5DzYa27epK07WZliaqdhxNomCu/QULIttHRN+mBBMbEoOs/48gV6vx9rchMVPt0GlVPDEosOk5RTg7XxzOriCQ+C2yERWHrmCVg+fjw7E2absYKFWKZnQoQEhr3Rneg9fvhobhHsZu4RFxdiwYQMDBw40dBmiGpIAKCrc0KFD2b59O9nZ5Tv/VNzb9B6+6IFvd5Xv3F1D+Xf4C7pL+LvduHZeLJvcnnNJWfT7fDebTpbc9azR6nh3/WlaedoxLLDeXV4FlhyKpVtjJ/xc776rVqfTcSMrv3iDSllKi5F1Lct3GkhpTNVKxrbxQKPVo9Xp+XTr2bKfdBeNXayZN6Ilf5+I56c9RaPDzjbm/DqpLbEpOby/4QzAnSEw+eFC4PXMfF754zgKYGKnBvRo4nxfz7ezMOXlvn70K2XKWFS87Oxstm/fzpAhQwxdiqiGJACKCufn50f9+vXZvn27oUupFRyszHi2a0N+O3CZKynl3z1blVJvhr9rWXoG9OhYrvB3S9HxZ11o5+3AlKVHeWFFRPFo59JDsUQlZvLu0GaltlgBOHk1neNX0hjf3uue7xMem4pODx0alq8BdGkDic7WZg+1K3tsO080Oj1maiVLDz3c5p5BLdx4rpsPH246w77zNyjU6vg+5AIFGh0tbttZ6+1szchbIXDHg4fAfI2Wyb+GkZWnobGLFa8NkDNlq7tt27bh6emJn1/lTreLmkkCoKhwCoWCoUOHsn79ekOXUmtM6uKNTR0TPr95xm11kpqZw5otu4rDXyuvO8/mLYuDlRnzx7fi89EtCYm6Tu/PQvntQAyfbDnLmDYe92wVsuTgZdxtzelZxmjUhhMJAAwNdC9XTaVNJbvbFp0GcqvP3P1ys61DH38XLExVZOVr+Cv84ULgq/386OTryNSlRxk5fz9rjl3j89EtmdChQYnrGj5kCNTr9fx39SlOXE1DrVIwf3xwjWhQbuzWr1/P0KFD77ksQhgvCYCiUtwKgDpd9e9hVxNYmKp5sXcjVh+7RmRc5fd3K6+0rFvhT0f/7h0JfoDwd4tCoWB4UH22v9SNTr6OvL32NDkF2ntu2EjPKWTt8Ws83s6zzEa/hy+loFYqHup8ZS8HSwCiEjIf+DWe6OBFak4hSgV8vv3hdsurlAomtPciM6+QU3EZLHqyDcODSj9ir6GzNSP6dS0OgXHJ5f8aFu69xB/hV9Hp4X/DmtHQqXzT6MJwtFptcQAUojQSAEWl6NSpE4WFhRw+fNjQpdQao9t44O1gyTvrTqPTGb7PYlpWDms23wp/HWjd4MHD3+2crM34T5eGN39tzjO/hjHxlyOcib8z+P519CoarZ5R5Wj0G5Ocjatt+XdCljZo4uNcFADPJT54AOzg44CPkyVO1mZcTc3l+JXUB3odnU7Pt7vO89yScJq526JSKlhz7M6my7fzcbFhRL+u3MhTsHFHSLlC4K6oJD7YeAalAkYE12dEcOkBU1Qvhw8fRqPR0LFjR0OXIqopCYCiUqjVagYOHCjTwBXIRKXkf8ObcTgmhaXl7J9XWdKzclmzeRdXs3T069aB1g3Kt66uPPR6PXPWnaKxixW7X+3O12ODuHg9i4Ff7eHFFRFcTs4uvm7Jocv0a+Za3Hz6bjLzCskp0NK8XvlPnVCUsg2kiWvRGbuXkh98LaZCUTRqdyOraBp5zrr7bwydlJHHpMVHmLcliindfVg1tSMfPdacv45e5beDl+/5XB8XG0aWMwSeT8pi+tKjqJQKgr3q8sHw5jKdWEOsX7+eQYMGoVYbdxsccXcSAEWlGTp0KOvWrTN0GbVKRx9Hxrb15KONZ7j2gM2EH1Z6Vi6rN+/kapaOvt060Ma74sIfwOqIaxyNTeOdoQGYmqgY0tKdbS91471HmrHvQjI9Pgnh2d/CWLDnIhevZzOhjM0fABtOFO0u7u1f/l2rpeWcenZFQfN+jrIrzaPB9TFTK3G2NuP4lTRuZJWvubRer2fV0av0/iyUk9cy+PmpNrzarwlqlZLhQfV5ulMD5q6P5PCle5+y8u+RwPiUO0Ngek4hE385QoFWh5uNOT9OaF2u9jmieli3bp1M/4p7kr/NotL069eP6OhooqOr38aFmuyNgU2wMlfz1uqTVX7k3u3hr0/XDrSt4PCXla/hw01nGdTcjY4+/7y2iUrJ+PZe7H61B+8Na8bF69l8sPEsvs5W92z8fMvOs0kA9AtwK3ctpY1zKZVK1EoFiRkP1gz6FhtzE4YF1aNQq0MPvFOOUcDY5Bye/PkIL/1+nJ5NnNk2s+sdbVjeHOhPsFddpi49SkL6vUOl720hcMP2kiEwt0DLpMVHuJaWSx0TFb9MbEtdS9MH+lpF1YuKiuLcuXP069fP0KWIakwCoKg0tra2DBo0iKVLlxq6lFrFxtyE94c1JyTqOquOXquy983IzmXNlqLw17tLe9qVs53K/fh65zky8wp5c5B/qZ+vY6piXDsvts7syp/PdeCPZzuUa0ryVFw6VmYqrMzLPx12t5c1N1GR8oCngdyuf4ALqTmFKICQqKS7ruvMytfwxfZo+n4RyoWkLBY91ZovxgSVGshMVEq+ebwVaqWCKUvDydfcu2fh7SFw480QmFeo5ZlfjxARm4ZKoWDxxLay6aOGWbp0KYMHD8bGxsbQpYhqTAKgqFTjx49n6dKlVT5SVdv1burC8KB6vLPu9ENPR5ZHRnbRyF9sho5eXdrT3sepwt/jwvUsFu29xNTuvtQr45QIhUJB6wb25R6VSszIx9vR8r7qKW0NIIC1uZr0vAc7DSQ9p5AVh2N5fMFBnvz5CEoF2FuakpWvZVdUUolrCzQ6fj0QQ/d5u/gu5AJPdmjA1pld6VnGMXZO1mZ8PyGY09cyeHd92SOLvi42PNa3K9fzFGzcHsr0JUc4cCEZPXp+eCKYIM+6D/S1CsPQ6/UsXbqU8ePHG7oUUc1JABSVauDAgdy4cYNDhw4ZupRa552hAVibq3n59+OVuiv43+GvQyWEP4ALSVkUavVExmVUaMPryLh0tDo97Rre3y7lu40A1rUwIfc+TgO5kZXP6oirTP41jNbvb+ON1SdRKODjR1vw4aPNSc4uwM/FioU3z3vW6fSsPx5Hn89DmbPuNN39nNn1SnfeGOiPpVn5RjADPex4b1gAyw7FsqIcG4Yaud4KgdDKLBFLtZ7PRwfSw+/+TvoQhnfw4EFSUlLk+DdRJtkeJCqVubk5I0eOZOnSpbRv397Q5dQqtnVM+GRUS8b9dIiFey8xuWvDCn+Pf8Kfll5dOtDRt3LCH0Bvfxc+GdmS/9t8ll6fhfJ4W0+e7dYQN9uHOzN2/fGiDSBDWpR//d+9OFubExl/952zqdkFRFxJ5eDFFPZfuMGpa0Xta1rWt+X1Af4MaeFWfH5uvkbLvC1RuNiYs/vcDb7cfo61x69x8Xo2vZo488OE4OKdx/drdBtPjl9NZ/ba0/i5Wpc5kufhYElkgSONtEm839GMfv4VP8UvKt/SpUsZOXIkZmZmhi5FVHMKvczNiUoWGhrKiBEjiIuLw8TExNDl1Drvb4hk8f7LrJ7WkQD38rc5Kcvt4a9n5/Z0alQ1o0HZ+RoW7r3Ewr2XyCnQMCLYg6ndffCwt3ig1xv27T5OXE3j4oeD7ut5i3afxyH1NAMHDizx/+2bq0+y7FAsO1/uRk6BlgvXszibkMmZ+AzOxmeSkFG0+cLVxpz2De3p0siJLo0d79qq5pMtUfyyPwZrczUJGXn0berCf7r6EOz18FOv+RotY348SHxaHutndMbJuvRQkJ2vYfKvYYRfTuWHCa2wSL9MdnY2HTt2lCBRgxQWFuLm5saqVavo2rWrocsR1ZwEQFHpdDodDRo0YP78+QwadH83YVG2vEItj83fT1pOIeumd8LB6uFv2LeHvx6d29O5isLf7bLyNfx24DI/7blIWm4hwwLrMamzN03d729ErPk7W7AwVXHozd739byfd5/HvpQAuHDvRd77+0yJa91szfF3s6GJqzVN3GxoUc8WLweLe25QuZKSw8ojV/g97ArJ2QVsndkVU5XygYPu3SRm5DHoq700dLJk6TPtMFGVXPmTnlvU7uVsfAYLn2pD+4YO6HQ6wsLCJATWMH///TdTp04lJiYGpVJWeIl7kwAoqsTrr79ObGwsy5YtM3QptdK1tFwe+WYvDR2tWPJMu4fq15aZk8vqTTu5bMDwd7vcAi3LDseyYPdFEjLyCPK04/G2ngxs7lbmmri8Ag1NZm+hZxMnFj3V9r7e95c956mbcmcAPJeYSZ/Pd/NK38Z0aeSEl4MFdhZlb0bR6/WcTchke2Qi288kcvxqOtZmah4JcmdsW88KHb39tyMxKYz98SATOngxZ0hA8ePJWfk8+fNhrqTksnhiWwI97Io/JyGw5hk7diwNGjTgww8/NHQpogaQNYCiSowbN4527dqRmZmJtfWDn8UqSlfPrg4/TAhm7I+HmL32FB8++mAnNtwe/rp3Mnz4g6LWL5M6e/NEBy92nEli6aHLzPrrBHPWnWZgczeGtHSnfUN7zNSqO5679UwiAN0fYDPD3b5/t9bvNXC0pOVtgak0BRodR2JS2HYz9F1NzcXSVEV3P2ee6tSAfgGuWJhW/o/hNg3smT2kKbPXnqZFfVuGB9UnMi6Dyb+Gka/RsuI/7fF3KzmyqlQqad26NWFhYezfv19CYDWXkZHB2rVr5fhNUW4SAEWVaN68OU2bNmXZsmU8++yzhi6nVgr2sueDR5vzyh/H8XO15ulO3vf1/FvhLyZDS7eO7ejS2PDh73YmKiX9m7nSv5krV1NzWHX0Gn8dvcqf4VexNFXRtbETvf1d6NHEGfub7WG2Rxa1VhnSwv2+3+9u+dnGXI25ifKOZtA6nZ7LKTlExmVw7EoqEbFpnLyWTr5Gh5utOb39XejT1IV2dwmrlW1Cey+OX0nn9b9OkpCez1c7ztHQyZIfn+hw17Y7EgJrjmXLltG0aVOaNWtm6FJEDSFTwKLKLFiwgPnz5xMeHi7niVai9zdEsnDvJX55ui1dG5dv125mTtGav5j0ovDXze/eveaqC71eT1RiJjvOJLEtMpFjV9JQKqClhx1tGtiz6uhVsvO1nHmv/32/9m/7LmBz4xR9+/VHoVJToNWRnFVAQnoeM5YfxdfZigB3WxIz8riamkt0YiY5N9vD1LOrQ5CnHUGedWnnbU+Au021+H8+r1DLiO/3c+paBoNauPHJiJbUMS07jMp0cPWm1+sJCgpi+vTpPPPMM4YuR9QQEgBFlcnKysLd3Z3t27fTtu39rccS5afV6Zm0+AhHL6eyZlqnMk9xyMrJZdXmXcSka+jasR3da0j4K01SZh47zySx70IyRy6lkJCRR0sPW9ZO63zfr/XXkcuo444x67CKfO2d4U2tVODlYIGLjTmutuY0cbXG380GfzcbHCtgI05lSc0uICoxk3be9vcVSiUEVl+HDh2ib9++XLt2DSsrObVFlI8EQFGlpk6dSl5eHosWLTJ0KbVaRl4hj363H51Oz+qpnbC1KL39zu3hr0uHtvRo4lrFlVaelKx8Wv1vO5+PbsnwoPr3/fz8/AI2b95EvltLTE1MMFEpsbc0xcXGjI83nyUzT8OyycbV21JCYPX09NNPY2FhwbfffmvoUkQNIvvERZV67rnnWLFiBSkpKYYupVazMTfhpydak5xdwPTlRynQ6O64Jjv3n/DXuX3tCn8Ax6+lAxDk8WD99JTKotGx4UH1GBZUj0Et3Ojg40BDJyvq2VmQeLPfnzG5tSbQ0tKS/fv3k5//8Gcii4eTnJzMihUreO655wxdiqhhJACKKtWiRQvatGnDwoULDV1KrdfA0ZL541px6GIKL6yIQKP9JwRm5+ayalNR+OvUvg09/WtX+AOIiE2jroUJXg4V21cPwNnGjKRM4ww/EgKrl4ULF9KuXTuaN29u6FJEDSMBUFS56dOn891336HVlv88VfFgOvo68t24VmyLTGTm78fR6vTF4e9SuoaO7drQy79ijkirbiJiUwnyrFspmy9cbMzIzNOQU6Cp8NeuCSQEVg9arZbvvvuO6dOnG7oUUQNJABRVbtiwYRQWFrJhwwZDl2IUejd14ZvHg9h4Mp43/jxaHP46tG1D76a1M/zpdHqOXUmjladdpby+y81j3ZIyjDf4SAg0vL///hutVsuwYcMMXYqogSQAiipnYmLC1KlT+eyzzwxditHo38yNz0YE0EBzlUvpGtq3bUOfgNoZ/gAu3sgiM09DkOfDn6dbmlvNoI11GvgWCYGG9dlnnzFlyhTUamnpK+6fBEBhEFOmTCE8PJwDBw4YuhSjkJ+fj036RXzdHXmkd2f61uLwB3A0Ng2FAlrUr5zj1Zxtina/GuNGkH+TEGgY+/fvJyIigqlTpxq6FFFDSQAUBlG3bl2mTJkiZ1ZWgfz8fPbv34+VlRW9u3agpYe9oUuqdBGxaTR2tsbavPT2Nw/L2kxNHROVBMCbJARWvQ8//JApU6ZgZ2dn6FJEDSUBUBjMzJkz2bZtG6dOnTJ0KbXW7eEvODgYpdI4/soXbQCxq7TXVygUuNiYcd3Ip4BvJyGw6pw8eZLt27czc+ZMQ5ciajDjuBuIasnNzY0nn3ySjz76yNCl1ErGGv6y8jVEJ2ZWagAEcLY2lxHAf5EQWDU++ugjnnrqKVxda1/7JlF1jOOOIKqtV199lT/++INLly4ZupRaxVjDH8CJq2no9FTaBpBbnG3MSDTiXcB3IyGwcl28eJE///yTV1991dCliBrOeO4Kolry8fFhxIgRzJs3z9Cl1BrGHP6gaP2ftZka3zLOQH5YLjbmJGbKCGBpJARWnnnz5jFy5EgaNmxo6FJEDWdcdwZRLb3++uv8/PPPJCQkGLqUGs/Ywx8UBcCWHnbFR7lVFhcbM67LCOBdSQiseAkJCfzyyy+8/vrrhi5F1ALGd3cQ1U7z5s3p06ePjAI+JAl/oNfrOXalcjeA3OJsbU5mvobsfOM8DaQ8JARWrHnz5tGnTx+aNWtm6FJELWB8dwhRLc2dO5f58+cTGxtr6FJqJAl/Ra6m5nIjq6BqAuDNXoDG3gy6LBICK0ZsbCzz58/nvffeM3QpopYwzruEqHYCAwMZPnw477zzjqFLqXEk/P3jaGwqAIEelbsBBIrWAAIkyU7gMkkIfHhz5szh0UcfpWXLloYuRdQSxnunENXO3LlzWb58OZGRkYYupcaQ8FdSRGwajlZmaHX6Sn8vZ+ubp4HICGC5SAh8cKdPn2bFihXMnTvX0KWIWkQOEBTVho+PD5MmTeKtt95i9erVhi6n2pPwdydHK1NuZOXT5v3tuNuaE1DPFm9HS7wcLPCyL/qvm605atXDf6+szNRYmKpkBPA+3AqBYWFh7N+/n44dO2JmZmbosqq9t956i2eeeUZ2/ooKpdDr9ZX/T2UhyikxMREfHx+2bdtGhw4dDF1OtSXhr3R6vZ6rqbmcuJrOiWtpRMZlcDk5h2tpucWjgmqlgvp16+Bhb0FdC1PsLEywq2OClbkaC9OiUGemVqHRFMKVCHJdWlCIkkKNDo1OR16hjpTsAq5n5bMtMpGnOzbgjYH+Bv7KaxadTkdYWBjZ2dkSAsuwf/9++vXrx/nz53FxcTF0OaIWkQAoqp3Zs2cTGhpKSEgICkXltvKoiST83b9CrY5rqblcTskhNjm7OBSm5RSSmlNAem4hWfkacgq0xUHRTKXn/9pqmXVYhVavxESlRK1SYKZW4WBpioOVKQ5WZszq54eHvYWBv8KaR0Jg2fR6Pd26daNHjx68++67hi5H1DISAEW1k5GRgY+PD4sXL2bgwIGGLqdakfBXufR6PfkaHfkaHQqdhl3btzJgwABMTU0NXVqtJCHw3jZs2MBTTz3FhQsXsLGxMXQ5opaRu4eodmxsbPjvf//LrFmzKCwsNHQ51YaEv8qnUCgwN1FhW8eEOqbq4sdE5ZCNIXdXWFjIa6+9xn//+18Jf6JSyB1EVEtTpkxBp9Px7bffGrqUakHCn6itJASW7ptvvkGv1zN16lRDlyJqKbmLiGrJ1NSUb775hjlz5hAfH2/ocgxKwp+o7SQElhQfH8+cOXP45ptvMDExMXQ5opaSO4motnr27MmAAQOYNWuWoUsxGAl/wlhICPzHq6++yqBBg+jRo4ehSxG1mNxNRLX2ySefsGbNGnbv3m3oUqqchD9hbCQEQmhoKGvXruWTTz4xdCmilpM7iqjW6tevz9tvv820adOMakOIhD9hrIw5BBYWFjJ9+nRmz55NvXr1DF2OqOXkriKqvRdffBGNRmM0G0Ik/AljZ6wh8JtvvkGr1fLCCy8YuhRhBOTOIqo9Y9oQIuFPiCLGFgJv3/ghfSdFVZC7i6gRevXqxYABA5gxYwa1tXe5hD8hSjKWEKjX65k+fTqDBg2iZ8+ehi5HGAm5w4ga46uvviI0NJTff//d0KVUOAl/QpTOGELgypUr2bNnD1999ZWhSxFGRO4yosZwdnbmu+++Y9q0aSQmJhq6nAoj4U+Ie6vNITAxMZHp06fz3Xff4eTkZOhyhBGRs4BFjTNq1Ci0Wi1//vlnjT+mS8Jf9VVYWMjGjRsZOHCgNOOtJmrb2cF6vZ7HHnsMExMTVq5caehyhJGRu42ocb799lv27NlT439gSvgT4v7UtpHAFStWsHfvXr755htDlyKMkNxxRI3j5OTE/PnzmT59eo2dCpbwJ8SDqS0hMCEhgenTpzN//nyZ+hUGIXcdUSM99thj9O7dmylTptS4XcES/oR4ODU9BOr1eqZMmULfvn157LHHDF2OMFJy5xE11jfffMO+fftYunSpoUspNwl/QlSMmhwCly5dyv79+/n6668NXYowYnL3ETWWo6MjCxcuZOrUqZw7d87Q5ZRJwp8QFasmhsDo6GimTp3KokWLcHR0NHQ5wojJHUjUaIMHD2by5MmMGjWKvLw8Q5dzVxL+hKgcNSkE5uXlMXr0aP7zn/8waNAgQ5cjjJzchUSN9+GHH2JiYsKrr75q6FJKJeFPiMpVU0LgK6+8gqmpKR988IGhSxFCAqCo+UxNTVmxYgW//fYbq1atMnQ5JUj4E6JqVPcQ+Ndff7FkyRJWrFghZ/2KakHuRqJWaNiwIQsWLGDSpEnExMQYuhxAwp8QVa26hsBLly7xzDPP8NNPP+Ht7W3ocoQAJACKWmTkyJGMHTuWMWPGUFhYaNBaJPwJYRjVLQQWFBQwZswYHn/8cUaMGGHQWoS4ndyVRK3y2WefkZuby5tvvmmwGiT8CWFY1SkEvvnmm+Tn5/Ppp58arAYhSiN3JlGrmJub8/vvv/Pjjz+yfPnyKn9/CX9CVA/VIQQuX76cBQsWsHLlSszNzav8/YW4F7k7iVrHz8+P5cuXM3nyZMLDw6vsfSX8CVG9GDIEhoWFMXnyZJYvX46fn1+Vva8Q5SV3KFErDRw4kDlz5vDII4+QkJBQ6e8n4U+I6skQITA+Pp5hw4bxzjvvMHDgwEp/PyEehNylRK31yiuv0KNHD4YPH16pP/Ql/AlRvVVlCMzLy2P48OH07NmTl19+udLeR4iHJXcqUWspFAoWLFiATqfjueeeQ6/XV/h7SPgTomaoihCo1+uLf9b8+OOPKBSKCn8PISqK3K1ErWZubs7q1avZsmULX3zxRYW+toQ/IWqWyg6Bn3/+Odu2bWP16tWy6UNUe3LHErWeu7s7a9as4e2332bz5s0V8poS/oSomSorBG7atInZs2ezZs0a3N3dK+Q1hahMctcSRqFt27b8+OOPjBo1irCwsId6LQl/QtRsFR0Cjxw5wujRo1mwYAFt2rSpoCqFqFxy5xJG4/HHHy/elXfu3LkHeg0Jf0LUDhUVAqOjoxk4cCDvvvsuY8eOreAqhag8cvcSRuWll17iqaeeol+/fsTHx9/XcyX8CVG7PGwIjI+Pp1+/fkycOJGZM2dWUpVCVA65gwmj89FHH9GlSxcGDBhAenp6uZ4j4U+I2ulBQ2B6ejr9+/enW7dufPTRR5VcpRAVT+5iwugolUp++ukn3N3dGTZsGHl5efe8XsKfELXb/YbAvLw8HnnkEerXr8+CBQuk3YuokeROJoySiYkJf/zxB7m5uUyYMAGtVlvqdRL+hDAO5Q2BWq2W8ePHk5+fz++//46JiUkVVypExZC7mTBalpaWbNiwgVOnTjFt2rQ7GkVL+BPCuJQVAvV6PVOnTiUyMpK///4bS0tLA1UqxMOTO5owag4ODmzdupUtW7bwwgsvFIdACX9CGKe7hUC9Xs/zzz/Ptm3b2LJlCw4ODgauVIiHI3c1YfQ8PDzYtWsXa9eu5aWXXiIvL0/CnxBG7N8hMC8vj5kzZ7J+/Xp27dqFh4eHoUsU4qHJnU0IoEGDBuzatYs///yTp556CktLSwl/QhixWyHQwsKCJ598kr/++oudO3fi5eVl6NKEqBBqQxcgRHXRsGFDdu3aRbdu3XB3d5eO/kIYOYVCwYoVK9i3bx8hISE0bNjQ0CUJUWEkAApxG19fX3bv3k2PHj3QarV88cUX0uJBCCOk1+t54YUXWLt2Lbt375bwJ2odCYBC/IuPjw+hoaH06NEDjUbD119/LVPBQhgRnU7HjBkz2LhxI6GhoTRo0MDQJQlR4eSuJkQpvL29CQ0NZfPmzTz55JMUFhYauiQhRBUoKCjgiSeeYMuWLYSEhEj4E7WWBEAh7sLLy4t9+/Zx6tQphgwZQlZWlqFLEkJUoqysLIYOHUpkZCT79u2TDR+iVpMAKMQ9uLq6EhoaSmFhIb169eLGjRuGLkkIUQmuX79Oz5490Wg0hISE4OLiYuiShKhUEgCFKIONjQ0bN27Ey8uLTp06cfnyZUOXJISoQDExMXTu3Blvb282bNiAjY2NoUsSotJJABSiHMzMzFi+fDl9+vShY8eOnDx50tAlCSEqwIkTJ+jYsSN9+/Zl+fLlmJmZGbokIaqEBEBRrX344Ye0adMGa2trnJ2dGTZsGFFRUcWfLyws5LXXXqN58+ZYWlri7u7OE088QVxcXInX6d69OwqFosTHmDFjSlxz4MABAgMD8fLyYsGCBXfUolKp+Prrr5k6dSpdu3Zl9+7dlfNFCyGqxO7du+nWrRvTp0/nq6++KnW3//z582nRogU2NjbY2NjQoUMHNm3aVPz5VatW0a9fPxwdHVEoFBw7duyO16iInz9CVDQJgKJaCw0NZdq0aRw8eJBt27ah0Wjo27cv2dnZAOTk5HD06FHefvttjh49yqpVq4iOjmbo0KF3vNbkyZOJj48v/vjhhx9KfH7ixIm8/fbbLF++nI8//pjY2Ng7XkOhUPDWW28xb948BgwYwOLFiyvnCxdCVKpffvmFAQMG8Mknn/Dmm2/etd9n/fr1+eijjwgLCyMsLIyePXvyyCOPcPr0aQCys7Pp1KkTH3300T3fryJ+/ghRkaQPoKjWNm/eXOL3P//8M87OzoSHh9O1a1dsbW3Ztm1biWu+/vpr2rZtS2xsLJ6ensWPW1hY4Orqetf3ysnJoVWrVjg7O1O3bt177vp95pln8Pb2ZtSoUZw4cYKPP/4YtVr+OglR3Wk0GmbNmsXixYtZv349PXv2vOf1Q4YMKfH7999/n/nz53Pw4EECAgKYMGECULSO8F4q8uePEBVBRgBFjZKeng6Avb39Pa9RKBTY2dmVeHzp0qU4OjoSEBDAK6+8QmZmZonPz549G39/f2xtbWnfvj1Nmza9Zy29evXi8OHDbN68mcGDB5OWlvZAX5MQomqkpqYyaNAgtmzZwuHDh8sMf/+m1WpZsWIF2dnZdOjQ4b6eW9E/f4R4WAq9Xq83dBFClIder+eRRx4hNTWVPXv2lHpNXl4enTt3pkmTJixZsqT48QULFuDt7Y2rqyunTp3ijTfewNfX947Rw+zsbAoKCqhbt26568rIyGDcuHFER0ezbt06/Pz8HuwLFNVKYWEhGzduZODAgZiYmBi6HPGQoqKiGDp0KH5+fixZsuS+dvqePHmSDh06kJeXh5WVFcuWLWPgwIElromJicHb25uIiAgCAwNLfK4yf/4I8cD0QtQQU6dO1Xt5eemvXLlS6ucLCgr0jzzyiD4oKEifnp5+z9cKCwvTA/rw8PAKqU2j0ejfeOMNva2trX7jxo0V8prCsAoKCvRr1qzRFxQUGLoU8ZA2btyot7W11b/55pt6rVZ738/Pz8/Xnzt3Tn/kyBH966+/rnd0dNSfPn26xDWXLl3SA/qIiIgyX6+if/4I8SBkCljUCDNmzGDdunXs2rWL+vXr3/H5wsJCRo0axaVLl9i2bVuZ/7pv1aoVJiYmnDt3rkLqU6lUfPDBB8yfP5+RI0cyb9489DK4LoRB6fV65s2bx8iRI5k/fz7vv//+A53rbWpqiq+vL61bt+bDDz+kZcuWfPnllw9cV0X//BHiQciqdVGt6fV6ZsyYwerVqwkJCcHb2/uOa26Fv3PnzrFr1y4cHBzKfN3Tp09TWFiIm5tbhdY7duxYGjVqxGOPPcbevXtZtGhRueoRQlSs5ORknn76aY4fP05ISAitW7eusNfW6/Xk5+c/8PMr6+ePEPdDRgBFtTZt2jSWLFnCsmXLsLa2JiEhgYSEBHJzc4GiHX0jRowgLCyMpUuXotVqi68pKCgA4MKFC8ydO5ewsDBiYmLYuHEjI0eOJCgoiE6dOlV4za1btyYiIgKFQkFgYCD79u2r8PcQQtzd3r17CQwMRKVSERER8VDh780332TPnj3ExMRw8uRJ3nrrLUJCQhg3bhwAKSkpHDt2jMjISKBoreGxY8dISEgAqv7njxDlZtgZaCHuDSj14+eff9br9f+suyntY9euXXq9Xq+PjY3Vd+3aVW9vb683NTXV+/j46J9//nl9cnJypdau0+n0X331ld7CwkL/wQcfPNDaI2E4sgaw5tFqtfoPPvhAb2Fhof/qq6/0Op3uoV9z4sSJei8vL72pqaneyclJ36tXL/3WrVuLP//zzz+X+vNnzpw5er3ecD9/hCiL7AIWopKFh4czevRofHx8+PXXX+WQ+RpCdgHXLImJiUyYMIGLFy+ycuVKgoODDV2SENWaTAELUcmCg4M5evQodevWJTAwkJ07dxq6JCFqlR07dhAYGIiDgwNHjx6V8CdEOUgAFKIK2NjYsHz5cubOncuQIUN4+eWXi9cxCiEeTE5ODi+//DJDhw5l7ty5LFu27L76+wlhzCQAClFFFAoFkydPJjw8nH379hEYGMj+/fsNXZYQNdL+/fuL/w6Fh4czefLku57nK4S4kwRAIapYkyZN2LdvH5MmTaJPnz688sorMhooRDnl5uby8ssv06dPHyZPnszevXtp0qSJocsSosaRACiEAahUKmbNmkVYWBh79uwhKCiIAwcOGLosIaq1AwcOFLdWCgsL49VXX0WlUhm6LCFqJAmAQhiQv78/+/btY+LEifTu3ZtXX31VRgOF+Jfc3FxeffVVevfuzaRJk9i3bx/+/v6GLkuIGk0CoBAGplarmTVrFkeOHGH37t20aNGCzZs3G7osIaqFzZs306JFC3bv3k1YWBizZs2SUT8hKoAEQCGqiaZNm7J//35efPFFxowZw6OPPsrly5cNXZYQBhETE8Pw4cMZO3YsL774Ivv375dRPyEqkARAIaoRlUrFtGnTiI6Oxs7OjqZNm/L+++8/1LmjQtQkeXl5/O9//yMgIAB7e3uioqKYNm2ajPoJUcEkAApRDTk7O7No0SK2b9/On3/+SbNmzWRaWNR6mzZtonnz5qxatYrt27ezcOFCnJ2dDV2WELWSBEAhqrEOHToQFhbGzJkzGTt2LMOHD+fixYuGLkuICnXx4kWGDx/O448/zsyZMzly5AgdOnQwdFlC1GoSAIWo5lQqFVOnTiUqKgp7e3sCAgJ4/vnnSUpKMnRpQjyUxMREZsyYQUBAAA4ODkRHRzN16lSZ7hWiCkgAFKKGcHZ2ZuHChRw5coTLly/j4+PDnDlzyMjIMHRpQtyXjIwM5syZg6+vL7GxsYSFhfHTTz/h5ORk6NKEMBoSAIWoYZo1a8batWvZvHkzO3fuxMfHhy+//FI2iohqLz8/ny+++AIfHx927tzJ5s2bWbt2LQEBAYYuTQijIwFQiBqqU6dO7N69m59//pmffvqJJk2a8Ntvv6HVag1dmhAlaLVafv31V/z8/Fi0aBG//PILu3fvplOnToYuTQijpdDr9XpDFyGEeDharZZly5bx9ttvY25uzmuvvca4ceMwNTU1dGk1VmFhIRs3bmTgwIGYmJgYupwaqaCggKVLl/Lxxx+Tl5fHe++9x+OPPy5r/ISoBmQEUIhaQKVSMWHCBKKjo3nttdf46KOP8PX15csvvyQ7O9vQ5Qkjk52dzZdffomPjw8ff/wxr732GtHR0UyYMEHCnxDVhARAIWoRU1NTnn76aSIjI/nss8/49ddfadCgAf/73/9ITU01dHmilktNTeW9997Dy8uL3377jS+++ILTp0/z9NNPy2i0ENWMBEAhaiGVSsWIESMICwtj6dKl7NixAy8vL2bNmkVcXJyhyxO1TFxcHLNmzcLT05OdO3eyfPlyjhw5wmOPPSYjfkJUUxIAhajFFAoFffv2ZdeuXWzdupWoqCi8vb15/PHH2b9/P7IEWDwovV7P/v37GTt2LN7e3kRFRbFt2zZ27dpFnz59UCgUhi5RCHEPEgCFMBLt27dn7dq1nD59GhcXFwYOHEjr1q1ZtGgROTk5hi5P1BA5OTksWrSI4OBgBg4ciJubG6dPn2bt2rW0b9/e0OUJIcpJdgELYaSysrJYunQp3377LbGxsTzxxBM8++yz0pPtJtkFXNLp06f54Ycf+PXXX/H09GTatGmMGzcOKysrQ5cmhHgAMgIohJGysrLi2Wef5fjx42zcuJH09HRat25Nly5dWLBggWwaEaSmprJgwQI6d+5M69atSU9PZ9OmTRw/fpxnn31Wwp8QNZgEQCGMnEKhoGPHjixevJhr164xcuRIFixYgKurK48++iirVq2SU0aMSF5eHqtWreLRRx/F1dWVBQsWMGrUKK5du8bixYvp0KGDrO8TohaQKWAhRKmio6NZunQpS5YsISUlhREjRjB+/Hi6dOmCUln7/+1oTFPAOp2O3bt3s3TpUv744w8cHR0ZN24c48aNo3HjxoYuTwhRCSQACiHuSa/Xc+jQIZYsWcLKlSupU6cOI0eOZOjQoXTq1Am1Wm3oEitFbQ+AGo2Gffv2sW7dOv744w9yc3MZM2YM48aNo127djLKJ0QtJwFQCFFuhYWFbN26lb/++ou///4bjUbDoEGDGDJkCP3798fGxsbQJVaY2hgA09PT2bJlC+vWrWPjxo2YmJgwePBgHn30Ufr27Vtrvk4hRNkkAAohHohWq+Xw4cOsX7+edevWER0dTbdu3Rg6dChDhgyhQYMGhi7xodSWABgTE1P8ZxQaGoqfnx9Dhgxh6NChtG3b1iim84UQd5IAKISoEBcvXmT9+vWsX7+e0NBQvL296d69e/GHu7u7oUu8LzU1AF67do3Q0FBCQkIICQnh0qVLdOvWjSFDhjBkyBAaNmxo6BKFENWABEAhRIVLT09n7969xSHk6NGj+Pj40L17d3r06EG3bt2qfSCsKQEwLi6u+PscEhLChQsXaNWqVXHw7ty5M7a2toYuUwhRzUgAFEJUurS0tBKBMCIiAh8fH9q0aUNwcDDBwcEEBQVVqzWE1TEAZmRkEBERQXh4OOHh4Rw5coQLFy4QFBRUHPi6dOkigU8IUSYJgEKIKpeWlsa+ffuKg0x4eDhxcXE0atSoOBAGBwcTGBiInZ2dQWo0dABMS0sjIiKCo0ePFn+Pzp07h7u7e4nvUadOnQz2PRJC1FwSAIUQ1UJiYmJx0LkVeq5cuYKrqyuNGze+46Nhw4aYmZlVWj1VEQDz8/O5cOEC0dHRnDt3jujo6OKPhIQEPDw8ioNeq1atCA4OxsXFpVJqEUIYFwmAQohqKyUlpUQouv0jPz8fLy8vfH19cXd3x83Nrfi/t3/UqVPngd77YQNgbm4u8fHxJT7i4uKK/3v+/HkuX76MmZlZqQG3cePG2NvbP1DtQghRFgmAQogaR6fTERcXR1RUFBcuXCgRrm59JCQkoNVqsbOzw8XFBRsbG6ysrLC2tsba2rr417f+a2lpiVqtRqlUolQq0el0HD9+nObNmxf/XqPRkJ2dTWZmJllZWSX+e+vXGRkZJCYmkpaWhkqlwtXVtUQgvRVSfX19ady4Me7u7tKKRQhR5SQACiFqJa1Wy40bN4iPjycxMfGOoPbvX2dnZ6PVatHpdMUfGo0GU1PT4lCoUqmwtLQsERxL+7WLiwtubm44OTlJuBNCVEsSAIUQQgghjIz801QIIYQQwshIABRCCCGEMDISAIUQQgghjIwEQCGEEEIIIyMBUAghhBDCyEgAFEIIIYQwMhIAhRBCCCGMjARAIYQQQggjIwFQCCGEEMLISAAUQgghhDAyEgCFEEIIIYyMBEAhhBBCCCMjAVAIUWt9+OGHtGnTBmtra5ydnRk2bBhRUVElrlEoFKV+zJs3r/ia/Px8ZsyYgaOjI5aWlgwdOpSrV6+WeJ0DBw4QGBiIl5cXCxYsqJKvTwghHpQEQCFErRUaGsq0adM4ePAg27ZtQ6PR0LdvX7Kzs4uviY+PL/GxaNEiFAoFjz32WPE1L774IqtXr2bFihXs3buXrKwsBg8ejFarLb5m4sSJvP322yxfvpyPP/6Y2NjYKv1ahRDifij0er3e0EUIIURVuH79Os7OzoSGhtK1a9dSrxk2bBiZmZns2LEDgPT0dJycnPjtt98YPXo0AHFxcXh4eLBx40b69esHgJeXFyEhITg7O9O9e3cWL15M06ZNq+YLE0KI+yQjgEIIo5Geng6Avb19qZ9PTExkw4YNTJo0qfix8PBwCgsL6du3b/Fj7u7uNGvWjP379xc/Nnv2bPz9/bG1taV9+/YS/oQQ1Zra0AUIIURV0Ov1vPTSS3Tu3JlmzZqVes3ixYuxtrbm0UcfLX4sISEBU1NT6tatW+JaFxcXEhISin8/adIkxowZQ0FBwR3XCiFEdSMBUAhhFKZPn86JEyfYu3fvXa9ZtGgR48aNw9zcvMzX0+v1KBSKEo9ZWlpiaWn50LUKIURlkylgIUStN2PGDNatW8euXbuoX79+qdfs2bOHqKgonnnmmRKPu7q6UlBQQGpqaonHk5KScHFxqbSahRCiMkkAFELUWnq9nunTp7Nq1Sp27tyJt7f3Xa9duHAhwcHBtGzZssTjwcHBmJiYsG3btuLH4uPjOXXqFB07dqy02oUQojLJFLAQotaaNm0ay5YtY+3atVhbWxev2bO1taVOnTrF12VkZPDHH3/w6aef3vEatra2TJo0iZdffhkHBwfs7e155ZVXaN68Ob17966yr0UIISqStIERQtRa/16jd8vPP//MU089Vfz7H3/8kRdffJH4+HhsbW3vuD4vL49XX32VZcuWkZubS69evfjuu+/w8PCorNKFEKJSSQAUQgghhDAysgZQCCGEEMLISAAUQgghhDAyEgCFEEIIIYyMBEAhhBBCCCMjAVAIIYQQwshIABRCCCGEMDISAIUQQgghjIwEQCGEEEIIIyMBUAghhBDCyEgAFEIIIYQwMhIAhRBCCCGMjARAIYQQQggjIwFQCCGEEMLISAAUQgghhDAyEgCFEEIIIYyMBEAhhBBCCCMjAVAIIYQQwshIABRCCCGEMDISAIUQQgghjIwEQCGEEEIIIyMBUAghhBDCyEgAFEIIIYQwMhIAhRBCCCGMjARAIYQQQggjIwFQCCGEEMLISAAUQgghhDAyEgCFEEIIIYyMBEAhhBBCCCPz/+MsnVJ4YrnnAAAAAElFTkSuQmCC' width=640.0/>\n",
       "            </div>\n",
       "        "
      ],
      "text/plain": [
       "Canvas(toolbar=Toolbar(toolitems=[('Home', 'Reset original view', 'home', 'home'), ('Back', 'Back to previous …"
      ]
     },
     "metadata": {},
     "output_type": "display_data"
    }
   ],
   "source": [
    "# iterate over valid neurons (shorter list) - get their DSIs, OSIs, pref dir, pref or\n",
    "# get all of these from morphology - as well as angular heterogeneity metric\n",
    "# save calculated stuff to dataframes\n",
    "import copy\n",
    "from tqdm import tqdm\n",
    "from meshparty import meshwork\n",
    "from angularUtils import *\n",
    "from meshparty.skeleton import resample\n",
    "from scipy import signal\n",
    "#coreg_df_DSIordered = pd.concat([highDSIdf, lowDSIdf])\n",
    "#coreg_df_DSIordered = coreg_df_DSIordered.sort_values(by=['DSI'],ascending=False)\n",
    "coreg_df_DSIordered = highDSIdf.sort_values(by=['dsi'],ascending=False)\n",
    "Ncells = len(coreg_df_DSIordered)\n",
    "pref_dir_morph = np.zeros((Ncells,1))\n",
    "pref_dir_morph[:] = np.nan\n",
    "pref_or_morph = np.zeros((Ncells,1))\n",
    "pref_or_morph[:] = np.nan\n",
    "DSI_act = np.zeros((Ncells,1))\n",
    "DSI_act[:] = np.nan\n",
    "OSI_act = np.zeros((Ncells,1))\n",
    "OSI_act[:] = np.nan\n",
    "nuc_id_list = np.zeros((Ncells,1))\n",
    "nuc_id_list[:] = np.nan\n",
    "mesh_files = []\n",
    "pref_dir_act = np.zeros((Ncells,1))\n",
    "pref_dir_act[:] = np.nan\n",
    "pref_or_act = np.zeros((Ncells,1))\n",
    "pref_or_act[:] = np.nan\n",
    "angularHet_basal = np.zeros((Ncells,1))\n",
    "angularHet_basal[:] = np.nan\n",
    "angularHet_apical = np.zeros((Ncells,1))\n",
    "angularHet_apical[:] = np.nan\n",
    "nuc_type = [None] * Ncells\n",
    "#nuc_type[:] = np.nan\n",
    "fig,ax = plt.subplots(subplot_kw={'projection': 'polar'})\n",
    "\n",
    "for i in tqdm(range(2)):\n",
    "    neuron_id = coreg_df_DSIordered.iloc[i].pt_root_id\n",
    "    #print(neuron_id)\n",
    "    \n",
    "    neuron_soma_df = client.materialize.query_table('aibs_soma_nuc_metamodel_preds_v117')\n",
    "    if (len(neuron_soma_df.query(f'pt_root_id=={neuron_id}').target_id.values) == 0):\n",
    "        continue\n",
    "        \n",
    "    nuc_id = neuron_soma_df.query(f'pt_root_id=={neuron_id}').target_id.values[0]\n",
    "    nuc_id_list[i] = nuc_id\n",
    "    mesh_filename = f\"{neuron_id}_{nuc_id}.h5\"\n",
    "    folder_name = f\"{neuron_id}_{nuc_id}\"\n",
    "    \n",
    "    #nrn = meshwork.load_meshwork(os.path.join(data_root,mesh_filename))\n",
    "    nrn = read_h5(os.path.join(data_root,folder_name,mesh_filename))\n",
    "    # if no h5 file is detected, continue without implementing rest of the loop\n",
    "    if (not(nrn)):\n",
    "        continue\n",
    "    \n",
    "    pref_dir_act[i] = coreg_df_DSIordered.iloc[i].pref_dir * (np.pi/180)\n",
    "    pref_or_act[i] = coreg_df_DSIordered.iloc[i].pref_ori * (np.pi/180)\n",
    "    DSI_act[i] = coreg_df_DSIordered.iloc[i].dsi\n",
    "    OSI_act[i] = coreg_df_DSIordered.iloc[i].osi\n",
    "    \n",
    "    #nuc_type.append(neuron_soma_df.query(f'pt_root_id=={neuron_id}').cell_type.values[0])\n",
    "    nuc_type[i] = neuron_soma_df.query(f'pt_root_id=={neuron_id}').cell_type.values[0]\n",
    "    #mesh_filename = f\"{neuron_id}_{nuc_id}.h5\"\n",
    "    mesh_files.append(mesh_filename)\n",
    "\n",
    "    \n",
    "    \n",
    "    # get basal dendrite mesh for pref dir\n",
    "    basal_dendrite_mesh = nrn.anno.basal_mesh_labels.mesh_index\n",
    "    basal_dendrite_skel = nrn.anno.basal_mesh_labels.skel_index\n",
    "    basal_dendrite_mask = nrn.anno.basal_mesh_labels.skel_index.to_mesh_mask\n",
    "    \n",
    "    \n",
    "    # get apical dendrite mesh\n",
    "    apical_dendrite_mesh = nrn.anno.apical_mesh_labels.mesh_index\n",
    "    apical_dendrite_skel = nrn.anno.apical_mesh_labels.skel_index\n",
    "    apical_dendrite_mask = nrn.anno.apical_mesh_labels.skel_index.to_mesh_mask\n",
    "    \n",
    "    #syndf_basal = nrn.anno.post_syn.filter_query(basal_dendrite_mask).df\n",
    "    #syndf_apical = nrn.anno.post_syn.filter_query(apical_dendrite_mask).df\n",
    "    #syndf_axon = nrn.anno.pre_syn.df\n",
    "\n",
    "    #syn_pos_apical = np.vstack(syndf_apical['ctr_pt_position'].values)\n",
    "    #syn_pos_basal = np.vstack(syndf_basal['ctr_pt_position'].values)\n",
    "    #syn_pos_basal_norm = np.column_stack((syn_pos_basal[:,0]*4, syn_pos_basal[:,1]*4, syn_pos_basal[:,2]*40))\n",
    "    #skeleton_vertices = syn_pos_basal_norm\n",
    "    \n",
    "    #\n",
    "    #syn_pos_axon = np.vstack(syndf_axon['ctr_pt_position'].values)\n",
    "    #syn_pos_axon_norm = np.column_stack((syn_pos_axon[:,0]*4, syn_pos_axon[:,1]*4, syn_pos_axon[:,2]*40))\n",
    "    #skeleton_vertices = syn_pos_axon_norm\n",
    "    \n",
    "    # get pref morph dir from basal part\n",
    "    skeleton_vertices = nrn.skeleton.vertices[(nrn.anno.basal_mesh_labels.skel_mask)]\n",
    "    nrn_somapos = nrn.skeleton.vertices[nrn.skeleton.root]\n",
    "    if (len(skeleton_vertices) == 0):\n",
    "        continue\n",
    "    #somapos = [nrn_somapos[0], nrn_somapos[1], nrn_somapos[2]]\n",
    "    \n",
    "    \n",
    "    skel_pos_radial, majorAxis,_, _ = getRadialCoord(skeleton_vertices, nrn_somapos)\n",
    "    #skel_pos_radial_farther = skel_pos_radial[skel_pos_radial[:,0] > 0.2*np.max(skel_pos_radial[:,0])]\n",
    "    x = skel_pos_radial[:,1]\n",
    "    #x = skel_pos_radial_farther[:,1]\n",
    "    x = (x+np.pi) % (2*np.pi) - np.pi\n",
    "    #bins = np.linspace(-np.pi, np.pi, num=17)\n",
    "    n, bins, patches = circular_hist(ax, x, weights=np.ones_like(x), bins=16, density=True, offset=0, gaps=True)\n",
    "    #n, bins = np.histogram(x, bins=bins)\n",
    "    #pref_dir_morph[i] = (bins[n.argmax()] + bins[n.argmax() + 1])/2 \n",
    "    pref_dir_morph[i] = bins[n.argmax()]\n",
    "    #theta[i] = np.arctan2(majorAxis[1],majorAxis[0]) + np.pi\n",
    "    #print(pref_dir_morph[i])\n",
    "    angularHet_basal[i] = np.max(n)/np.mean(n)\n",
    "    \n",
    "    # get pref morph or from apical part\n",
    "    skeleton_vertices = nrn.skeleton.vertices[(nrn.anno.apical_mesh_labels.skel_mask)]\n",
    "    nrn_somapos = nrn.skeleton.vertices[nrn.skeleton.root]\n",
    "    if (len(skeleton_vertices) == 0):\n",
    "        continue\n",
    "    #somapos = [nrn_somapos[0], nrn_somapos[1], nrn_somapos[2]]\n",
    "    \n",
    "    \n",
    "    skel_pos_radial, majorAxis,_, _ = getRadialCoord(skeleton_vertices, nrn_somapos)\n",
    "    #skel_pos_radial_farther = skel_pos_radial[skel_pos_radial[:,0] > 0.2*np.max(skel_pos_radial[:,0])]\n",
    "    x = skel_pos_radial[:,1]\n",
    "    #x = skel_pos_radial_farther[:,1]\n",
    "    x = (x+np.pi) % (2*np.pi) - np.pi\n",
    "    #bins = np.linspace(-np.pi, np.pi, num=17)\n",
    "    n, bins, patches = circular_hist(ax, x, weights=np.ones_like(x), bins=16, density=True, offset=0, gaps=True)\n",
    "    #n, bins = np.histogram(x, bins=bins)\n",
    "    #pref_dir_morph[i] = (bins[n.argmax()] + bins[n.argmax() + 1])/2 \n",
    "    pref_or_morph[i] = bins[n.argmax()]\n",
    "    #theta[i] = np.arctan2(majorAxis[1],majorAxis[0]) + np.pi\n",
    "    #print(pref_or_morph[i])\n",
    "    angularHet_apical[i] = np.max(n)/np.mean(n)\n",
    "    \n",
    "    \n",
    "\n",
    "\n",
    "    "
   ]
  },
  {
   "cell_type": "code",
   "execution_count": null,
   "id": "a3b48d6a",
   "metadata": {},
   "outputs": [],
   "source": []
  },
  {
   "cell_type": "code",
   "execution_count": 12,
   "id": "006d960a",
   "metadata": {},
   "outputs": [],
   "source": [
    "prf_df=client.materialize.query_table('proofreading_status_public_release')"
   ]
  },
  {
   "cell_type": "code",
   "execution_count": 13,
   "id": "9b80d62e",
   "metadata": {},
   "outputs": [],
   "source": [
    "ct_df = client.materialize.query_table('aibs_soma_nuc_metamodel_preds_v117', desired_resolution=[1000,1000,1000])"
   ]
  },
  {
   "cell_type": "code",
   "execution_count": 14,
   "id": "01941df5",
   "metadata": {},
   "outputs": [],
   "source": [
    "nuc_df = client.materialize.query_table('nucleus_detection_v0', split_positions=True, desired_resolution=[1000,1000,1000])"
   ]
  },
  {
   "cell_type": "code",
   "execution_count": 15,
   "id": "dea91951",
   "metadata": {},
   "outputs": [],
   "source": [
    "nuc_df=pd.merge(nuc_df, ct_df[['target_id', 'cell_type']], left_on='id', right_on='target_id', how='left')"
   ]
  },
  {
   "cell_type": "code",
   "execution_count": 16,
   "id": "159f4ea9",
   "metadata": {},
   "outputs": [],
   "source": [
    "prfct_df=pd.merge(prf_df, ct_df, on='pt_root_id', how='left')"
   ]
  },
  {
   "cell_type": "code",
   "execution_count": 17,
   "id": "411836ec",
   "metadata": {},
   "outputs": [],
   "source": [
    "coregDF=pd.read_feather('coregDF_withMorph2.feather')\n",
    "l23_ext_coreg=coregDF[coregDF.pt_root_id.isin(prfct_df.query('cell_type==\"4P\"').query('status_axon==\"extended\"').pt_root_id.values)]"
   ]
  },
  {
   "cell_type": "code",
   "execution_count": 18,
   "id": "e0903382",
   "metadata": {},
   "outputs": [],
   "source": [
    "dsi_osi_df = pd.read_feather('coreg_all_good_scans_dsi_osi.feather')\n",
    "coreg_df = client.materialize.query_table('functional_coreg')\n",
    "dsi_osi_df=pd.merge(coreg_df, dsi_osi_df[['pref_dir', '0.0', '22.5', '45.0', '67.5', '90.0', '112.5',\n",
    "       '135.0', '157.5', '180.0', '202.5', '225.0', '247.5', '270.0', '292.5',\n",
    "       '315.0', '337.5', 'null_dir', 'DSI', 'Act_Pref_Dir', 'OSI',\n",
    "       'Act_Pref_Or', 'pref_or', 'null_or','id']], on='id')"
   ]
  },
  {
   "cell_type": "code",
   "execution_count": 19,
   "id": "bd0a2b0f",
   "metadata": {},
   "outputs": [],
   "source": [
    "root_id = l23_ext_coreg.iloc[0,:].pt_root_id"
   ]
  },
  {
   "cell_type": "code",
   "execution_count": 13,
   "id": "3a4a5eee",
   "metadata": {},
   "outputs": [],
   "source": [
    "dsi_self = pd.merge(dsi_osi_df, dsi_osi_df, on='pt_root_id', how='inner')\n",
    "dsi_self=dsi_self[dsi_self.id_x!=dsi_self.id_y]"
   ]
  },
  {
   "cell_type": "code",
   "execution_count": 14,
   "id": "121bb3dc",
   "metadata": {},
   "outputs": [
    {
     "data": {
      "text/plain": [
       "<AxesSubplot:xlabel='pref_dir_x', ylabel='pref_dir_y'>"
      ]
     },
     "execution_count": 14,
     "metadata": {},
     "output_type": "execute_result"
    },
    {
     "data": {
      "image/png": "[encoded data removed]",
      "text/plain": [
       "<Figure size 432x288 with 2 Axes>"
      ]
     },
     "metadata": {
      "needs_background": "light"
     },
     "output_type": "display_data"
    }
   ],
   "source": [
    "f, ax = plt.subplots()\n",
    "sns.histplot(data=dsi_self, x='pref_dir_x', y='pref_dir_y',bins=16, ax=ax, cbar=True)\n"
   ]
  },
  {
   "cell_type": "code",
   "execution_count": 18,
   "id": "08cd7487",
   "metadata": {},
   "outputs": [],
   "source": [
    "dangle = dsi_self.pref_dir_x - dsi_self.pref_dir_y\n",
    "dsi_self['dpref_dir']=np.arctan2(np.sin(dangle), np.cos(dangle))"
   ]
  },
  {
   "cell_type": "code",
   "execution_count": 19,
   "id": "9b1e2341",
   "metadata": {},
   "outputs": [],
   "source": [
    "dsi_self['avg_DSI']=dsi_self.DSI_x/2 + dsi_self.DSI_y/2\n",
    "dsi_self['avg_act']=dsi_self.Act_Pref_Dir_x/2 + dsi_self.Act_Pref_Dir_y/2"
   ]
  },
  {
   "cell_type": "code",
   "execution_count": 24,
   "id": "02630444",
   "metadata": {},
   "outputs": [
    {
     "data": {
      "text/plain": [
       "Index(['id_x', 'valid_x', 'pt_supervoxel_id_x', 'pt_root_id', 'session_x',\n",
       "       'scan_idx_x', 'unit_id_x', 'pt_position_x', 'pref_dir_x', '0.0_x',\n",
       "       '22.5_x', '45.0_x', '67.5_x', '90.0_x', '112.5_x', '135.0_x', '157.5_x',\n",
       "       '180.0_x', '202.5_x', '225.0_x', '247.5_x', '270.0_x', '292.5_x',\n",
       "       '315.0_x', '337.5_x', 'null_dir_x', 'DSI_x', 'Act_Pref_Dir_x', 'OSI_x',\n",
       "       'Act_Pref_Or_x', 'pref_or_x', 'null_or_x', 'id_y', 'valid_y',\n",
       "       'pt_supervoxel_id_y', 'session_y', 'scan_idx_y', 'unit_id_y',\n",
       "       'pt_position_y', 'pref_dir_y', '0.0_y', '22.5_y', '45.0_y', '67.5_y',\n",
       "       '90.0_y', '112.5_y', '135.0_y', '157.5_y', '180.0_y', '202.5_y',\n",
       "       '225.0_y', '247.5_y', '270.0_y', '292.5_y', '315.0_y', '337.5_y',\n",
       "       'null_dir_y', 'DSI_y', 'Act_Pref_Dir_y', 'OSI_y', 'Act_Pref_Or_y',\n",
       "       'pref_or_y', 'null_or_y', 'dpref_dir', 'avg_DSI', 'avg_act'],\n",
       "      dtype='object')"
      ]
     },
     "execution_count": 24,
     "metadata": {},
     "output_type": "execute_result"
    }
   ],
   "source": [
    "dsi_self.columns"
   ]
  },
  {
   "cell_type": "code",
   "execution_count": 23,
   "id": "f759db75",
   "metadata": {},
   "outputs": [
    {
     "data": {
      "text/plain": [
       "<AxesSubplot:xlabel='dpref_dir', ylabel='avg_DSI'>"
      ]
     },
     "execution_count": 23,
     "metadata": {},
     "output_type": "execute_result"
    },
    {
     "data": {
      "image/png": "[encoded data removed]",
      "text/plain": [
       "<Figure size 432x288 with 1 Axes>"
      ]
     },
     "metadata": {
      "needs_background": "light"
     },
     "output_type": "display_data"
    }
   ],
   "source": [
    "f, ax = plt.subplots()\n",
    "sns.scatterplot(data=dsi_self,x='dpref_dir', y='avg_DSI',s=2,ax=ax)"
   ]
  },
  {
   "cell_type": "code",
   "execution_count": 25,
   "id": "7dea0372",
   "metadata": {},
   "outputs": [
    {
     "data": {
      "text/plain": [
       "<AxesSubplot:xlabel='dpref_dir', ylabel='avg_act'>"
      ]
     },
     "execution_count": 25,
     "metadata": {},
     "output_type": "execute_result"
    },
    {
     "data": {
      "image/png": "[encoded data removed]",
      "text/plain": [
       "<Figure size 432x288 with 1 Axes>"
      ]
     },
     "metadata": {
      "needs_background": "light"
     },
     "output_type": "display_data"
    }
   ],
   "source": [
    "f, ax = plt.subplots()\n",
    "sns.scatterplot(x='dpref_dir', y='avg_act',\n",
    "                data=dsi_self, s=2,ax=ax)"
   ]
  },
  {
   "cell_type": "code",
   "execution_count": 26,
   "id": "ba6286c1",
   "metadata": {},
   "outputs": [
    {
     "data": {
      "text/plain": [
       "<AxesSubplot:xlabel='dpref_dir', ylabel='avg_act'>"
      ]
     },
     "execution_count": 26,
     "metadata": {},
     "output_type": "execute_result"
    },
    {
     "data": {
      "image/png": "[encoded data removed]",
      "text/plain": [
       "<Figure size 432x288 with 1 Axes>"
      ]
     },
     "metadata": {
      "needs_background": "light"
     },
     "output_type": "display_data"
    }
   ],
   "source": [
    "f, ax = plt.subplots()\n",
    "sns.scatterplot(x='dpref_dir', y='avg_act', \n",
    "                hue='avg_DSI',palette=plt.cm.viridis, \n",
    "                data=dsi_self, s=2,ax=ax)"
   ]
  },
  {
   "cell_type": "code",
   "execution_count": 27,
   "id": "685fb1ba",
   "metadata": {},
   "outputs": [
    {
     "data": {
      "text/plain": [
       "<AxesSubplot:xlabel='pref_dir_x', ylabel='pref_dir_y'>"
      ]
     },
     "execution_count": 27,
     "metadata": {},
     "output_type": "execute_result"
    },
    {
     "data": {
      "image/png": "[encoded data removed]",
      "text/plain": [
       "<Figure size 432x288 with 2 Axes>"
      ]
     },
     "metadata": {
      "needs_background": "light"
     },
     "output_type": "display_data"
    }
   ],
   "source": [
    "f, ax = plt.subplots()\n",
    "sns.histplot(data=dsi_self.query('avg_act>20'), x='pref_dir_x', y='pref_dir_y',bins=16, ax=ax, cbar=True)\n"
   ]
  },
  {
   "cell_type": "code",
   "execution_count": 28,
   "id": "135942c7",
   "metadata": {},
   "outputs": [
    {
     "data": {
      "text/plain": [
       "<AxesSubplot:xlabel='dpref_dir', ylabel='OSI_x'>"
      ]
     },
     "execution_count": 28,
     "metadata": {},
     "output_type": "execute_result"
    },
    {
     "data": {
      "image/png": "[encoded data removed]",
      "text/plain": [
       "<Figure size 432x288 with 1 Axes>"
      ]
     },
     "metadata": {
      "needs_background": "light"
     },
     "output_type": "display_data"
    }
   ],
   "source": [
    "f, ax = plt.subplots()\n",
    "sns.scatterplot(x='dpref_dir', y='OSI_x', data=dsi_self, s=2,ax=ax)"
   ]
  },
  {
   "cell_type": "code",
   "execution_count": 29,
   "id": "ac129e34",
   "metadata": {},
   "outputs": [
    {
     "data": {
      "text/plain": [
       "(16,)"
      ]
     },
     "execution_count": 29,
     "metadata": {},
     "output_type": "execute_result"
    }
   ],
   "source": [
    "dsi_self.pref_dir_x.value_counts().shape"
   ]
  },
  {
   "cell_type": "code",
   "execution_count": 30,
   "id": "73c49fcb",
   "metadata": {},
   "outputs": [
    {
     "data": {
      "text/plain": [
       "((8944, 32), (1586, 66))"
      ]
     },
     "execution_count": 30,
     "metadata": {},
     "output_type": "execute_result"
    }
   ],
   "source": [
    "dsi_osi_df.shape, dsi_self.shape"
   ]
  },
  {
   "cell_type": "code",
   "execution_count": 31,
   "id": "9a839cfb",
   "metadata": {},
   "outputs": [
    {
     "data": {
      "text/plain": [
       "(1586, 66)"
      ]
     },
     "execution_count": 31,
     "metadata": {},
     "output_type": "execute_result"
    }
   ],
   "source": [
    "dsi_self.drop_duplicates(subset=['id_x', 'id_y'], keep=False).shape"
   ]
  },
  {
   "cell_type": "code",
   "execution_count": 32,
   "id": "54e9b8e2",
   "metadata": {},
   "outputs": [
    {
     "data": {
      "text/plain": [
       "(1586, 66)"
      ]
     },
     "execution_count": 32,
     "metadata": {},
     "output_type": "execute_result"
    }
   ],
   "source": [
    "dsi_self.shape"
   ]
  },
  {
   "cell_type": "code",
   "execution_count": 33,
   "id": "defa1528",
   "metadata": {},
   "outputs": [
    {
     "data": {
      "text/plain": [
       "(1586, 66)"
      ]
     },
     "execution_count": 33,
     "metadata": {},
     "output_type": "execute_result"
    }
   ],
   "source": [
    "dsi_self.shape"
   ]
  },
  {
   "cell_type": "code",
   "execution_count": 34,
   "id": "2350bfb9",
   "metadata": {},
   "outputs": [
    {
     "data": {
      "text/html": [
       "<div>\n",
       "<style scoped>\n",
       "    .dataframe tbody tr th:only-of-type {\n",
       "        vertical-align: middle;\n",
       "    }\n",
       "\n",
       "    .dataframe tbody tr th {\n",
       "        vertical-align: top;\n",
       "    }\n",
       "\n",
       "    .dataframe thead th {\n",
       "        text-align: right;\n",
       "    }\n",
       "</style>\n",
       "<table border=\"1\" class=\"dataframe\">\n",
       "  <thead>\n",
       "    <tr style=\"text-align: right;\">\n",
       "      <th></th>\n",
       "      <th>scan_idx</th>\n",
       "      <th>session</th>\n",
       "      <th>unit_id</th>\n",
       "      <th>pt_root_id</th>\n",
       "      <th>DSI</th>\n",
       "      <th>OSI</th>\n",
       "      <th>pref_dir</th>\n",
       "      <th>pref_or</th>\n",
       "    </tr>\n",
       "  </thead>\n",
       "  <tbody>\n",
       "    <tr>\n",
       "      <th>96</th>\n",
       "      <td>7</td>\n",
       "      <td>4</td>\n",
       "      <td>5564</td>\n",
       "      <td>864691135718541617</td>\n",
       "      <td>0.566859</td>\n",
       "      <td>0.174294</td>\n",
       "      <td>0.0</td>\n",
       "      <td>135.0</td>\n",
       "    </tr>\n",
       "    <tr>\n",
       "      <th>1775</th>\n",
       "      <td>5</td>\n",
       "      <td>8</td>\n",
       "      <td>8350</td>\n",
       "      <td>864691135718541617</td>\n",
       "      <td>0.640613</td>\n",
       "      <td>0.491521</td>\n",
       "      <td>157.5</td>\n",
       "      <td>157.5</td>\n",
       "    </tr>\n",
       "  </tbody>\n",
       "</table>\n",
       "</div>"
      ],
      "text/plain": [
       "      scan_idx  session  unit_id          pt_root_id       DSI       OSI  \\\n",
       "96           7        4     5564  864691135718541617  0.566859  0.174294   \n",
       "1775         5        8     8350  864691135718541617  0.640613  0.491521   \n",
       "\n",
       "      pref_dir  pref_or  \n",
       "96         0.0    135.0  \n",
       "1775     157.5    157.5  "
      ]
     },
     "execution_count": 34,
     "metadata": {},
     "output_type": "execute_result"
    }
   ],
   "source": [
    "dsi_osi_df.query(f'pt_root_id=={root_id}')[['scan_idx', 'session','unit_id','pt_root_id', 'DSI','OSI', 'pref_dir', 'pref_or']]"
   ]
  },
  {
   "cell_type": "code",
   "execution_count": 35,
   "id": "7997d386",
   "metadata": {},
   "outputs": [
    {
     "data": {
      "text/plain": [
       "864691135718541617"
      ]
     },
     "execution_count": 35,
     "metadata": {},
     "output_type": "execute_result"
    }
   ],
   "source": [
    "root_id"
   ]
  },
  {
   "cell_type": "code",
   "execution_count": 36,
   "id": "8dcf7fa0",
   "metadata": {},
   "outputs": [],
   "source": [
    "syn_df = client.materialize.synapse_query(pre_ids=root_id,\n",
    "                                          split_positions=True,\n",
    "                                          desired_resolution=[1000,1000,1000])"
   ]
  },
  {
   "cell_type": "code",
   "execution_count": 152,
   "id": "5266033e",
   "metadata": {},
   "outputs": [],
   "source": [
    "syn_dfm=pd.merge(syn_df, nuc_df, left_on='post_pt_root_id', right_on='pt_root_id', how='inner')"
   ]
  },
  {
   "cell_type": "code",
   "execution_count": 153,
   "id": "83985f42",
   "metadata": {},
   "outputs": [],
   "source": [
    "delt_v=syn_dfm[['ctr_pt_position_x', 'ctr_pt_position_y', 'ctr_pt_position_z']].values-syn_dfm[['pt_position_x', 'pt_position_y', 'pt_position_z']].values"
   ]
  },
  {
   "cell_type": "code",
   "execution_count": 154,
   "id": "d6c4f5c5",
   "metadata": {},
   "outputs": [],
   "source": [
    "syn_dfm[['soma_to_syn_x', 'soma_to_syn_y', 'soma_to_syn_z']]=delt_v"
   ]
  },
  {
   "cell_type": "code",
   "execution_count": 155,
   "id": "05fbda5d",
   "metadata": {},
   "outputs": [],
   "source": [
    "syn_dfm['soma_to_syn_r']=np.linalg.norm(syn_dfm[['soma_to_syn_x', 'soma_to_syn_y', 'soma_to_syn_z']], axis=1)"
   ]
  },
  {
   "cell_type": "code",
   "execution_count": 156,
   "id": "e6051a5d",
   "metadata": {},
   "outputs": [],
   "source": [
    "syn_dfm['theta']=np.arctan2(syn_dfm.soma_to_syn_x, syn_dfm.soma_to_syn_z)"
   ]
  },
  {
   "cell_type": "code",
   "execution_count": 157,
   "id": "a3a23130",
   "metadata": {},
   "outputs": [],
   "source": [
    "syn_dfm=syn_dfm.drop_duplicates(subset='id_x')"
   ]
  },
  {
   "cell_type": "code",
   "execution_count": 180,
   "id": "0065b106",
   "metadata": {},
   "outputs": [
    {
     "data": {
      "text/html": [
       "<div>\n",
       "<style scoped>\n",
       "    .dataframe tbody tr th:only-of-type {\n",
       "        vertical-align: middle;\n",
       "    }\n",
       "\n",
       "    .dataframe tbody tr th {\n",
       "        vertical-align: top;\n",
       "    }\n",
       "\n",
       "    .dataframe thead th {\n",
       "        text-align: right;\n",
       "    }\n",
       "</style>\n",
       "<table border=\"1\" class=\"dataframe\">\n",
       "  <thead>\n",
       "    <tr style=\"text-align: right;\">\n",
       "      <th></th>\n",
       "      <th>id_x</th>\n",
       "      <th>valid_x</th>\n",
       "      <th>pre_pt_position_x</th>\n",
       "      <th>pre_pt_position_y</th>\n",
       "      <th>pre_pt_position_z</th>\n",
       "      <th>pre_pt_supervoxel_id</th>\n",
       "      <th>pre_pt_root_id</th>\n",
       "      <th>post_pt_position_x</th>\n",
       "      <th>post_pt_position_y</th>\n",
       "      <th>post_pt_position_z</th>\n",
       "      <th>...</th>\n",
       "      <th>292.5</th>\n",
       "      <th>315.0</th>\n",
       "      <th>337.5</th>\n",
       "      <th>null_dir</th>\n",
       "      <th>DSI</th>\n",
       "      <th>Act_Pref_Dir</th>\n",
       "      <th>OSI</th>\n",
       "      <th>Act_Pref_Or</th>\n",
       "      <th>pref_or</th>\n",
       "      <th>null_or</th>\n",
       "    </tr>\n",
       "  </thead>\n",
       "  <tbody>\n",
       "    <tr>\n",
       "      <th>0</th>\n",
       "      <td>133954227</td>\n",
       "      <td>t</td>\n",
       "      <td>642.320</td>\n",
       "      <td>683.584</td>\n",
       "      <td>910.68</td>\n",
       "      <td>86849806009668531</td>\n",
       "      <td>864691135753932237</td>\n",
       "      <td>642.400</td>\n",
       "      <td>683.952</td>\n",
       "      <td>910.80</td>\n",
       "      <td>...</td>\n",
       "      <td>10.911670</td>\n",
       "      <td>8.378872</td>\n",
       "      <td>7.886239</td>\n",
       "      <td>22.5</td>\n",
       "      <td>0.623543</td>\n",
       "      <td>17.120943</td>\n",
       "      <td>0.292127</td>\n",
       "      <td>12.775335</td>\n",
       "      <td>45.0</td>\n",
       "      <td>135.0</td>\n",
       "    </tr>\n",
       "    <tr>\n",
       "      <th>1</th>\n",
       "      <td>96423091</td>\n",
       "      <td>t</td>\n",
       "      <td>559.232</td>\n",
       "      <td>633.400</td>\n",
       "      <td>758.36</td>\n",
       "      <td>83962969041459235</td>\n",
       "      <td>864691135753932237</td>\n",
       "      <td>559.272</td>\n",
       "      <td>633.480</td>\n",
       "      <td>758.24</td>\n",
       "      <td>...</td>\n",
       "      <td>10.382027</td>\n",
       "      <td>15.945401</td>\n",
       "      <td>14.627197</td>\n",
       "      <td>90.0</td>\n",
       "      <td>0.273815</td>\n",
       "      <td>36.483517</td>\n",
       "      <td>0.439726</td>\n",
       "      <td>28.641140</td>\n",
       "      <td>90.0</td>\n",
       "      <td>0.0</td>\n",
       "    </tr>\n",
       "    <tr>\n",
       "      <th>2</th>\n",
       "      <td>108300450</td>\n",
       "      <td>t</td>\n",
       "      <td>600.680</td>\n",
       "      <td>760.912</td>\n",
       "      <td>696.88</td>\n",
       "      <td>85445041794907457</td>\n",
       "      <td>864691135753932237</td>\n",
       "      <td>600.504</td>\n",
       "      <td>761.152</td>\n",
       "      <td>696.68</td>\n",
       "      <td>...</td>\n",
       "      <td>4.090281</td>\n",
       "      <td>3.615450</td>\n",
       "      <td>5.830765</td>\n",
       "      <td>315.0</td>\n",
       "      <td>0.300496</td>\n",
       "      <td>6.721735</td>\n",
       "      <td>0.487695</td>\n",
       "      <td>5.615542</td>\n",
       "      <td>90.0</td>\n",
       "      <td>0.0</td>\n",
       "    </tr>\n",
       "    <tr>\n",
       "      <th>3</th>\n",
       "      <td>126226046</td>\n",
       "      <td>t</td>\n",
       "      <td>634.608</td>\n",
       "      <td>687.112</td>\n",
       "      <td>774.08</td>\n",
       "      <td>86568468002376450</td>\n",
       "      <td>864691135753932237</td>\n",
       "      <td>634.520</td>\n",
       "      <td>686.696</td>\n",
       "      <td>774.28</td>\n",
       "      <td>...</td>\n",
       "      <td>4.090281</td>\n",
       "      <td>3.615450</td>\n",
       "      <td>5.830765</td>\n",
       "      <td>315.0</td>\n",
       "      <td>0.300496</td>\n",
       "      <td>6.721735</td>\n",
       "      <td>0.487695</td>\n",
       "      <td>5.615542</td>\n",
       "      <td>90.0</td>\n",
       "      <td>0.0</td>\n",
       "    </tr>\n",
       "    <tr>\n",
       "      <th>4</th>\n",
       "      <td>185393273</td>\n",
       "      <td>t</td>\n",
       "      <td>777.328</td>\n",
       "      <td>667.664</td>\n",
       "      <td>1001.04</td>\n",
       "      <td>91493593638252359</td>\n",
       "      <td>864691135753932237</td>\n",
       "      <td>776.968</td>\n",
       "      <td>668.088</td>\n",
       "      <td>1001.04</td>\n",
       "      <td>...</td>\n",
       "      <td>4.277564</td>\n",
       "      <td>7.762255</td>\n",
       "      <td>6.088434</td>\n",
       "      <td>225.0</td>\n",
       "      <td>0.356171</td>\n",
       "      <td>25.277296</td>\n",
       "      <td>0.496858</td>\n",
       "      <td>18.638725</td>\n",
       "      <td>45.0</td>\n",
       "      <td>135.0</td>\n",
       "    </tr>\n",
       "    <tr>\n",
       "      <th>...</th>\n",
       "      <td>...</td>\n",
       "      <td>...</td>\n",
       "      <td>...</td>\n",
       "      <td>...</td>\n",
       "      <td>...</td>\n",
       "      <td>...</td>\n",
       "      <td>...</td>\n",
       "      <td>...</td>\n",
       "      <td>...</td>\n",
       "      <td>...</td>\n",
       "      <td>...</td>\n",
       "      <td>...</td>\n",
       "      <td>...</td>\n",
       "      <td>...</td>\n",
       "      <td>...</td>\n",
       "      <td>...</td>\n",
       "      <td>...</td>\n",
       "      <td>...</td>\n",
       "      <td>...</td>\n",
       "      <td>...</td>\n",
       "      <td>...</td>\n",
       "    </tr>\n",
       "    <tr>\n",
       "      <th>135</th>\n",
       "      <td>182525672</td>\n",
       "      <td>t</td>\n",
       "      <td>755.176</td>\n",
       "      <td>691.992</td>\n",
       "      <td>692.56</td>\n",
       "      <td>90720361079354402</td>\n",
       "      <td>864691135753932237</td>\n",
       "      <td>755.056</td>\n",
       "      <td>692.504</td>\n",
       "      <td>692.72</td>\n",
       "      <td>...</td>\n",
       "      <td>6.535955</td>\n",
       "      <td>19.199238</td>\n",
       "      <td>17.229132</td>\n",
       "      <td>337.5</td>\n",
       "      <td>0.163868</td>\n",
       "      <td>23.982376</td>\n",
       "      <td>0.217886</td>\n",
       "      <td>20.605755</td>\n",
       "      <td>157.5</td>\n",
       "      <td>67.5</td>\n",
       "    </tr>\n",
       "    <tr>\n",
       "      <th>136</th>\n",
       "      <td>171726958</td>\n",
       "      <td>t</td>\n",
       "      <td>736.128</td>\n",
       "      <td>696.552</td>\n",
       "      <td>701.08</td>\n",
       "      <td>90087179887496251</td>\n",
       "      <td>864691135753932237</td>\n",
       "      <td>735.792</td>\n",
       "      <td>696.632</td>\n",
       "      <td>701.04</td>\n",
       "      <td>...</td>\n",
       "      <td>3.685940</td>\n",
       "      <td>6.876083</td>\n",
       "      <td>3.689906</td>\n",
       "      <td>135.0</td>\n",
       "      <td>0.136044</td>\n",
       "      <td>6.876083</td>\n",
       "      <td>0.304835</td>\n",
       "      <td>6.224863</td>\n",
       "      <td>22.5</td>\n",
       "      <td>112.5</td>\n",
       "    </tr>\n",
       "    <tr>\n",
       "      <th>137</th>\n",
       "      <td>255144807</td>\n",
       "      <td>t</td>\n",
       "      <td>937.856</td>\n",
       "      <td>688.528</td>\n",
       "      <td>748.88</td>\n",
       "      <td>96983042073419955</td>\n",
       "      <td>864691135753932237</td>\n",
       "      <td>937.352</td>\n",
       "      <td>688.712</td>\n",
       "      <td>748.88</td>\n",
       "      <td>...</td>\n",
       "      <td>19.621037</td>\n",
       "      <td>20.112415</td>\n",
       "      <td>28.113522</td>\n",
       "      <td>45.0</td>\n",
       "      <td>0.208059</td>\n",
       "      <td>37.840328</td>\n",
       "      <td>0.230838</td>\n",
       "      <td>31.323238</td>\n",
       "      <td>45.0</td>\n",
       "      <td>135.0</td>\n",
       "    </tr>\n",
       "    <tr>\n",
       "      <th>138</th>\n",
       "      <td>125652888</td>\n",
       "      <td>t</td>\n",
       "      <td>623.216</td>\n",
       "      <td>744.896</td>\n",
       "      <td>714.44</td>\n",
       "      <td>86218548225528708</td>\n",
       "      <td>864691135753932237</td>\n",
       "      <td>623.048</td>\n",
       "      <td>745.072</td>\n",
       "      <td>714.56</td>\n",
       "      <td>...</td>\n",
       "      <td>0.933556</td>\n",
       "      <td>1.406676</td>\n",
       "      <td>2.144675</td>\n",
       "      <td>180.0</td>\n",
       "      <td>0.324549</td>\n",
       "      <td>3.715112</td>\n",
       "      <td>0.494895</td>\n",
       "      <td>2.954076</td>\n",
       "      <td>22.5</td>\n",
       "      <td>112.5</td>\n",
       "    </tr>\n",
       "    <tr>\n",
       "      <th>139</th>\n",
       "      <td>188412023</td>\n",
       "      <td>t</td>\n",
       "      <td>773.456</td>\n",
       "      <td>598.416</td>\n",
       "      <td>970.12</td>\n",
       "      <td>91350519620278597</td>\n",
       "      <td>864691135753932237</td>\n",
       "      <td>773.672</td>\n",
       "      <td>598.272</td>\n",
       "      <td>970.32</td>\n",
       "      <td>...</td>\n",
       "      <td>19.013550</td>\n",
       "      <td>12.782393</td>\n",
       "      <td>14.556155</td>\n",
       "      <td>270.0</td>\n",
       "      <td>0.406867</td>\n",
       "      <td>25.268162</td>\n",
       "      <td>0.439233</td>\n",
       "      <td>17.960594</td>\n",
       "      <td>90.0</td>\n",
       "      <td>0.0</td>\n",
       "    </tr>\n",
       "  </tbody>\n",
       "</table>\n",
       "<p>140 rows × 69 columns</p>\n",
       "</div>"
      ],
      "text/plain": [
       "          id_x valid_x  pre_pt_position_x  pre_pt_position_y  \\\n",
       "0    133954227       t            642.320            683.584   \n",
       "1     96423091       t            559.232            633.400   \n",
       "2    108300450       t            600.680            760.912   \n",
       "3    126226046       t            634.608            687.112   \n",
       "4    185393273       t            777.328            667.664   \n",
       "..         ...     ...                ...                ...   \n",
       "135  182525672       t            755.176            691.992   \n",
       "136  171726958       t            736.128            696.552   \n",
       "137  255144807       t            937.856            688.528   \n",
       "138  125652888       t            623.216            744.896   \n",
       "139  188412023       t            773.456            598.416   \n",
       "\n",
       "     pre_pt_position_z  pre_pt_supervoxel_id      pre_pt_root_id  \\\n",
       "0               910.68     86849806009668531  864691135753932237   \n",
       "1               758.36     83962969041459235  864691135753932237   \n",
       "2               696.88     85445041794907457  864691135753932237   \n",
       "3               774.08     86568468002376450  864691135753932237   \n",
       "4              1001.04     91493593638252359  864691135753932237   \n",
       "..                 ...                   ...                 ...   \n",
       "135             692.56     90720361079354402  864691135753932237   \n",
       "136             701.08     90087179887496251  864691135753932237   \n",
       "137             748.88     96983042073419955  864691135753932237   \n",
       "138             714.44     86218548225528708  864691135753932237   \n",
       "139             970.12     91350519620278597  864691135753932237   \n",
       "\n",
       "     post_pt_position_x  post_pt_position_y  post_pt_position_z  ...  \\\n",
       "0               642.400             683.952              910.80  ...   \n",
       "1               559.272             633.480              758.24  ...   \n",
       "2               600.504             761.152              696.68  ...   \n",
       "3               634.520             686.696              774.28  ...   \n",
       "4               776.968             668.088             1001.04  ...   \n",
       "..                  ...                 ...                 ...  ...   \n",
       "135             755.056             692.504              692.72  ...   \n",
       "136             735.792             696.632              701.04  ...   \n",
       "137             937.352             688.712              748.88  ...   \n",
       "138             623.048             745.072              714.56  ...   \n",
       "139             773.672             598.272              970.32  ...   \n",
       "\n",
       "         292.5      315.0      337.5  null_dir       DSI  Act_Pref_Dir  \\\n",
       "0    10.911670   8.378872   7.886239      22.5  0.623543     17.120943   \n",
       "1    10.382027  15.945401  14.627197      90.0  0.273815     36.483517   \n",
       "2     4.090281   3.615450   5.830765     315.0  0.300496      6.721735   \n",
       "3     4.090281   3.615450   5.830765     315.0  0.300496      6.721735   \n",
       "4     4.277564   7.762255   6.088434     225.0  0.356171     25.277296   \n",
       "..         ...        ...        ...       ...       ...           ...   \n",
       "135   6.535955  19.199238  17.229132     337.5  0.163868     23.982376   \n",
       "136   3.685940   6.876083   3.689906     135.0  0.136044      6.876083   \n",
       "137  19.621037  20.112415  28.113522      45.0  0.208059     37.840328   \n",
       "138   0.933556   1.406676   2.144675     180.0  0.324549      3.715112   \n",
       "139  19.013550  12.782393  14.556155     270.0  0.406867     25.268162   \n",
       "\n",
       "          OSI Act_Pref_Or  pref_or  null_or  \n",
       "0    0.292127   12.775335     45.0    135.0  \n",
       "1    0.439726   28.641140     90.0      0.0  \n",
       "2    0.487695    5.615542     90.0      0.0  \n",
       "3    0.487695    5.615542     90.0      0.0  \n",
       "4    0.496858   18.638725     45.0    135.0  \n",
       "..        ...         ...      ...      ...  \n",
       "135  0.217886   20.605755    157.5     67.5  \n",
       "136  0.304835    6.224863     22.5    112.5  \n",
       "137  0.230838   31.323238     45.0    135.0  \n",
       "138  0.494895    2.954076     22.5    112.5  \n",
       "139  0.439233   17.960594     90.0      0.0  \n",
       "\n",
       "[140 rows x 69 columns]"
      ]
     },
     "execution_count": 180,
     "metadata": {},
     "output_type": "execute_result"
    }
   ],
   "source": [
    "syn_dfm.merge(dsi_osi_df, left_on='post_pt_root_id', right_on='pt_root_id')"
   ]
  },
  {
   "cell_type": "code",
   "execution_count": 215,
   "id": "b559b45c",
   "metadata": {},
   "outputs": [
    {
     "data": {
      "text/plain": [
       "(-150.0, 150.0)"
      ]
     },
     "execution_count": 215,
     "metadata": {},
     "output_type": "execute_result"
    },
    {
     "data": {
      "image/png": "[encoded data removed]",
      "text/plain": [
       "<Figure size 720x720 with 1 Axes>"
      ]
     },
     "metadata": {
      "needs_background": "light"
     },
     "output_type": "display_data"
    }
   ],
   "source": [
    "f, ax=plt.subplots(figsize=(10,10))\n",
    "sns.scatterplot(x='soma_to_syn_x', y='soma_to_syn_z',c=[[.5,.5,.5]],\n",
    "                data=syn_dfm, size='size',alpha=.2,ax=ax)\n",
    "sns.scatterplot(x='soma_to_syn_x', y='soma_to_syn_z', hue='pref_dir',size='size', palette='hls',vmax=360,vmin=0,\n",
    "                data=syn_dfm.merge(dsi_osi_df, left_on='post_pt_root_id', right_on='pt_root_id').query('DSI>.5').query('Act_Pref_Dir>10'), ax=ax)\n",
    "ax.set_aspect('equal')\n",
    "ax.set_xlim(-150,150)\n",
    "ax.set_ylim(-150,150)\n"
   ]
  },
  {
   "cell_type": "code",
   "execution_count": 37,
   "id": "e4f4fa8d",
   "metadata": {},
   "outputs": [],
   "source": [
    "tun_orac=pd.read_feather('tuning_curve_oracle.feather')"
   ]
  },
  {
   "cell_type": "code",
   "execution_count": 38,
   "id": "d3ac8f74",
   "metadata": {},
   "outputs": [
    {
     "data": {
      "text/html": [
       "<div>\n",
       "<style scoped>\n",
       "    .dataframe tbody tr th:only-of-type {\n",
       "        vertical-align: middle;\n",
       "    }\n",
       "\n",
       "    .dataframe tbody tr th {\n",
       "        vertical-align: top;\n",
       "    }\n",
       "\n",
       "    .dataframe thead th {\n",
       "        text-align: right;\n",
       "    }\n",
       "</style>\n",
       "<table border=\"1\" class=\"dataframe\">\n",
       "  <thead>\n",
       "    <tr style=\"text-align: right;\">\n",
       "      <th></th>\n",
       "      <th>animal_id</th>\n",
       "      <th>scan_session</th>\n",
       "      <th>scan_idx</th>\n",
       "      <th>unit_id</th>\n",
       "      <th>direction</th>\n",
       "      <th>response_mean</th>\n",
       "      <th>osi</th>\n",
       "      <th>dsi</th>\n",
       "      <th>pref_dir</th>\n",
       "      <th>pref_ori</th>\n",
       "      <th>oracle</th>\n",
       "    </tr>\n",
       "  </thead>\n",
       "  <tbody>\n",
       "    <tr>\n",
       "      <th>0</th>\n",
       "      <td>17797</td>\n",
       "      <td>4</td>\n",
       "      <td>7</td>\n",
       "      <td>1</td>\n",
       "      <td>[0.0, 0.3839724354387525, 0.7853981633974483, ...</td>\n",
       "      <td>[0.866137, 0.917347, 0.949379, 0.865518, 0.704...</td>\n",
       "      <td>0.130614</td>\n",
       "      <td>0.081838</td>\n",
       "      <td>0.500663</td>\n",
       "      <td>0.500663</td>\n",
       "      <td>0.078895</td>\n",
       "    </tr>\n",
       "    <tr>\n",
       "      <th>1</th>\n",
       "      <td>17797</td>\n",
       "      <td>4</td>\n",
       "      <td>7</td>\n",
       "      <td>3</td>\n",
       "      <td>[0.0, 0.3839724354387525, 0.7853981633974483, ...</td>\n",
       "      <td>[1.36077, 1.39851, 1.99043, 3.18652, 4.58155, ...</td>\n",
       "      <td>0.284172</td>\n",
       "      <td>0.060989</td>\n",
       "      <td>1.781440</td>\n",
       "      <td>1.781440</td>\n",
       "      <td>0.200469</td>\n",
       "    </tr>\n",
       "    <tr>\n",
       "      <th>2</th>\n",
       "      <td>17797</td>\n",
       "      <td>4</td>\n",
       "      <td>7</td>\n",
       "      <td>4</td>\n",
       "      <td>[0.0, 0.3839724354387525, 0.7853981633974483, ...</td>\n",
       "      <td>[1.21418, 1.21815, 0.860304, 0.420344, 0.20278...</td>\n",
       "      <td>0.432913</td>\n",
       "      <td>0.101887</td>\n",
       "      <td>3.406990</td>\n",
       "      <td>0.265397</td>\n",
       "      <td>0.042252</td>\n",
       "    </tr>\n",
       "    <tr>\n",
       "      <th>3</th>\n",
       "      <td>17797</td>\n",
       "      <td>4</td>\n",
       "      <td>7</td>\n",
       "      <td>5</td>\n",
       "      <td>[0.0, 0.3839724354387525, 0.7853981633974483, ...</td>\n",
       "      <td>[0.537714, 0.46008, 0.39988, 0.329272, 0.30109...</td>\n",
       "      <td>0.077473</td>\n",
       "      <td>0.151048</td>\n",
       "      <td>5.054350</td>\n",
       "      <td>1.912757</td>\n",
       "      <td>0.473355</td>\n",
       "    </tr>\n",
       "    <tr>\n",
       "      <th>4</th>\n",
       "      <td>17797</td>\n",
       "      <td>4</td>\n",
       "      <td>7</td>\n",
       "      <td>6</td>\n",
       "      <td>[0.0, 0.3839724354387525, 0.7853981633974483, ...</td>\n",
       "      <td>[1.34916, 1.36445, 1.29873, 0.803745, 0.690824...</td>\n",
       "      <td>0.171036</td>\n",
       "      <td>0.067236</td>\n",
       "      <td>6.174000</td>\n",
       "      <td>3.032407</td>\n",
       "      <td>0.169292</td>\n",
       "    </tr>\n",
       "    <tr>\n",
       "      <th>...</th>\n",
       "      <td>...</td>\n",
       "      <td>...</td>\n",
       "      <td>...</td>\n",
       "      <td>...</td>\n",
       "      <td>...</td>\n",
       "      <td>...</td>\n",
       "      <td>...</td>\n",
       "      <td>...</td>\n",
       "      <td>...</td>\n",
       "      <td>...</td>\n",
       "      <td>...</td>\n",
       "    </tr>\n",
       "    <tr>\n",
       "      <th>115367</th>\n",
       "      <td>17797</td>\n",
       "      <td>9</td>\n",
       "      <td>6</td>\n",
       "      <td>5494</td>\n",
       "      <td>[0.0, 0.3839724354387525, 0.7853981633974483, ...</td>\n",
       "      <td>[0.880217, 1.01791, 0.938047, 0.920616, 0.6407...</td>\n",
       "      <td>0.206578</td>\n",
       "      <td>0.107160</td>\n",
       "      <td>3.995770</td>\n",
       "      <td>0.854177</td>\n",
       "      <td>0.179751</td>\n",
       "    </tr>\n",
       "    <tr>\n",
       "      <th>115368</th>\n",
       "      <td>17797</td>\n",
       "      <td>9</td>\n",
       "      <td>6</td>\n",
       "      <td>5495</td>\n",
       "      <td>[0.0, 0.3839724354387525, 0.7853981633974483, ...</td>\n",
       "      <td>[1.04271, 1.19028, 1.43485, 1.86599, 1.85754, ...</td>\n",
       "      <td>0.124026</td>\n",
       "      <td>0.110393</td>\n",
       "      <td>1.331250</td>\n",
       "      <td>1.331250</td>\n",
       "      <td>0.054913</td>\n",
       "    </tr>\n",
       "    <tr>\n",
       "      <th>115369</th>\n",
       "      <td>17797</td>\n",
       "      <td>9</td>\n",
       "      <td>6</td>\n",
       "      <td>5496</td>\n",
       "      <td>[0.0, 0.3839724354387525, 0.7853981633974483, ...</td>\n",
       "      <td>[0.338954, 0.337982, 0.527279, 0.922358, 1.852...</td>\n",
       "      <td>0.408453</td>\n",
       "      <td>0.123545</td>\n",
       "      <td>1.804710</td>\n",
       "      <td>1.804710</td>\n",
       "      <td>0.042267</td>\n",
       "    </tr>\n",
       "    <tr>\n",
       "      <th>115370</th>\n",
       "      <td>17797</td>\n",
       "      <td>9</td>\n",
       "      <td>6</td>\n",
       "      <td>5497</td>\n",
       "      <td>[0.0, 0.3839724354387525, 0.7853981633974483, ...</td>\n",
       "      <td>[1.52055, 1.37349, 0.982758, 0.937725, 0.91138...</td>\n",
       "      <td>0.147547</td>\n",
       "      <td>0.051513</td>\n",
       "      <td>0.039345</td>\n",
       "      <td>0.039345</td>\n",
       "      <td>0.115852</td>\n",
       "    </tr>\n",
       "    <tr>\n",
       "      <th>115371</th>\n",
       "      <td>17797</td>\n",
       "      <td>9</td>\n",
       "      <td>6</td>\n",
       "      <td>5498</td>\n",
       "      <td>[0.0, 0.3839724354387525, 0.7853981633974483, ...</td>\n",
       "      <td>[2.04071, 1.7737, 1.18207, 0.682232, 0.446171,...</td>\n",
       "      <td>0.284741</td>\n",
       "      <td>0.123090</td>\n",
       "      <td>0.008209</td>\n",
       "      <td>0.008209</td>\n",
       "      <td>0.053402</td>\n",
       "    </tr>\n",
       "  </tbody>\n",
       "</table>\n",
       "<p>115372 rows × 11 columns</p>\n",
       "</div>"
      ],
      "text/plain": [
       "        animal_id  scan_session  scan_idx  unit_id  \\\n",
       "0           17797             4         7        1   \n",
       "1           17797             4         7        3   \n",
       "2           17797             4         7        4   \n",
       "3           17797             4         7        5   \n",
       "4           17797             4         7        6   \n",
       "...           ...           ...       ...      ...   \n",
       "115367      17797             9         6     5494   \n",
       "115368      17797             9         6     5495   \n",
       "115369      17797             9         6     5496   \n",
       "115370      17797             9         6     5497   \n",
       "115371      17797             9         6     5498   \n",
       "\n",
       "                                                direction  \\\n",
       "0       [0.0, 0.3839724354387525, 0.7853981633974483, ...   \n",
       "1       [0.0, 0.3839724354387525, 0.7853981633974483, ...   \n",
       "2       [0.0, 0.3839724354387525, 0.7853981633974483, ...   \n",
       "3       [0.0, 0.3839724354387525, 0.7853981633974483, ...   \n",
       "4       [0.0, 0.3839724354387525, 0.7853981633974483, ...   \n",
       "...                                                   ...   \n",
       "115367  [0.0, 0.3839724354387525, 0.7853981633974483, ...   \n",
       "115368  [0.0, 0.3839724354387525, 0.7853981633974483, ...   \n",
       "115369  [0.0, 0.3839724354387525, 0.7853981633974483, ...   \n",
       "115370  [0.0, 0.3839724354387525, 0.7853981633974483, ...   \n",
       "115371  [0.0, 0.3839724354387525, 0.7853981633974483, ...   \n",
       "\n",
       "                                            response_mean       osi       dsi  \\\n",
       "0       [0.866137, 0.917347, 0.949379, 0.865518, 0.704...  0.130614  0.081838   \n",
       "1       [1.36077, 1.39851, 1.99043, 3.18652, 4.58155, ...  0.284172  0.060989   \n",
       "2       [1.21418, 1.21815, 0.860304, 0.420344, 0.20278...  0.432913  0.101887   \n",
       "3       [0.537714, 0.46008, 0.39988, 0.329272, 0.30109...  0.077473  0.151048   \n",
       "4       [1.34916, 1.36445, 1.29873, 0.803745, 0.690824...  0.171036  0.067236   \n",
       "...                                                   ...       ...       ...   \n",
       "115367  [0.880217, 1.01791, 0.938047, 0.920616, 0.6407...  0.206578  0.107160   \n",
       "115368  [1.04271, 1.19028, 1.43485, 1.86599, 1.85754, ...  0.124026  0.110393   \n",
       "115369  [0.338954, 0.337982, 0.527279, 0.922358, 1.852...  0.408453  0.123545   \n",
       "115370  [1.52055, 1.37349, 0.982758, 0.937725, 0.91138...  0.147547  0.051513   \n",
       "115371  [2.04071, 1.7737, 1.18207, 0.682232, 0.446171,...  0.284741  0.123090   \n",
       "\n",
       "        pref_dir  pref_ori    oracle  \n",
       "0       0.500663  0.500663  0.078895  \n",
       "1       1.781440  1.781440  0.200469  \n",
       "2       3.406990  0.265397  0.042252  \n",
       "3       5.054350  1.912757  0.473355  \n",
       "4       6.174000  3.032407  0.169292  \n",
       "...          ...       ...       ...  \n",
       "115367  3.995770  0.854177  0.179751  \n",
       "115368  1.331250  1.331250  0.054913  \n",
       "115369  1.804710  1.804710  0.042267  \n",
       "115370  0.039345  0.039345  0.115852  \n",
       "115371  0.008209  0.008209  0.053402  \n",
       "\n",
       "[115372 rows x 11 columns]"
      ]
     },
     "execution_count": 38,
     "metadata": {},
     "output_type": "execute_result"
    }
   ],
   "source": [
    "tun_orac"
   ]
  },
  {
   "cell_type": "code",
   "execution_count": 49,
   "id": "91ace56e",
   "metadata": {},
   "outputs": [
    {
     "data": {
      "text/plain": [
       "Index(['animal_id', 'scan_session', 'scan_idx', 'unit_id', 'direction',\n",
       "       'response_mean', 'osi', 'dsi', 'pref_dir', 'pref_ori', 'oracle'],\n",
       "      dtype='object')"
      ]
     },
     "execution_count": 49,
     "metadata": {},
     "output_type": "execute_result"
    }
   ],
   "source": [
    "tun_orac.columns"
   ]
  },
  {
   "cell_type": "code",
   "execution_count": 50,
   "id": "3f9af069",
   "metadata": {},
   "outputs": [
    {
     "data": {
      "text/plain": [
       "3553"
      ]
     },
     "execution_count": 50,
     "metadata": {},
     "output_type": "execute_result"
    }
   ],
   "source": [
    "len(tun_orac[tun_orac.dsi>0.3])"
   ]
  },
  {
   "cell_type": "code",
   "execution_count": 39,
   "id": "ef04d62b",
   "metadata": {},
   "outputs": [],
   "source": [
    "coreg_merge=pd.merge(coreg_df, tun_orac,\n",
    "         right_on=['scan_session', 'scan_idx', 'unit_id'], left_on=['session', 'scan_idx', 'unit_id'])"
   ]
  },
  {
   "cell_type": "code",
   "execution_count": 53,
   "id": "e1716141",
   "metadata": {},
   "outputs": [
    {
     "data": {
      "text/plain": [
       "Index(['id', 'valid', 'pt_supervoxel_id', 'pt_root_id', 'session', 'scan_idx',\n",
       "       'unit_id', 'pt_position', 'animal_id', 'scan_session', 'direction',\n",
       "       'response_mean', 'osi', 'dsi', 'pref_dir', 'pref_ori', 'oracle'],\n",
       "      dtype='object')"
      ]
     },
     "execution_count": 53,
     "metadata": {},
     "output_type": "execute_result"
    }
   ],
   "source": [
    "coreg_merge.columns"
   ]
  },
  {
   "cell_type": "code",
   "execution_count": 57,
   "id": "4f8855d4",
   "metadata": {},
   "outputs": [
    {
     "data": {
      "text/plain": [
       "284"
      ]
     },
     "execution_count": 57,
     "metadata": {},
     "output_type": "execute_result"
    }
   ],
   "source": [
    "len(coreg_merge[coreg_merge.dsi>0.3])"
   ]
  },
  {
   "cell_type": "code",
   "execution_count": 51,
   "id": "ec1af9e3",
   "metadata": {},
   "outputs": [
    {
     "data": {
      "text/plain": [
       "8944"
      ]
     },
     "execution_count": 51,
     "metadata": {},
     "output_type": "execute_result"
    }
   ],
   "source": [
    "len(coreg_merge)"
   ]
  },
  {
   "cell_type": "code",
   "execution_count": 40,
   "id": "9d37d83e",
   "metadata": {},
   "outputs": [],
   "source": [
    "dsi_self2 = pd.merge(coreg_merge, coreg_merge, on='pt_root_id', how='inner')\n",
    "dsi_self2=dsi_self2[dsi_self2.id_x!=dsi_self2.id_y]"
   ]
  },
  {
   "cell_type": "code",
   "execution_count": 41,
   "id": "5a578e1c",
   "metadata": {},
   "outputs": [
    {
     "data": {
      "text/plain": [
       "<AxesSubplot:xlabel='pref_dir_x', ylabel='pref_dir_y'>"
      ]
     },
     "execution_count": 41,
     "metadata": {},
     "output_type": "execute_result"
    },
    {
     "data": {
      "image/png": "[encoded data removed]",
      "text/plain": [
       "<Figure size 432x288 with 2 Axes>"
      ]
     },
     "metadata": {
      "needs_background": "light"
     },
     "output_type": "display_data"
    }
   ],
   "source": [
    "f, ax = plt.subplots()\n",
    "sns.histplot(data=dsi_self2, x='pref_dir_x', y='pref_dir_y',bins=16, ax=ax, cbar=True)\n"
   ]
  },
  {
   "cell_type": "code",
   "execution_count": 42,
   "id": "6d87bf6e",
   "metadata": {},
   "outputs": [
    {
     "data": {
      "text/plain": [
       "(1586, 33)"
      ]
     },
     "execution_count": 42,
     "metadata": {},
     "output_type": "execute_result"
    }
   ],
   "source": [
    "dsi_self2.shape"
   ]
  },
  {
   "cell_type": "code",
   "execution_count": 43,
   "id": "0c209c12",
   "metadata": {},
   "outputs": [
    {
     "data": {
      "text/plain": [
       "session_x  scan_idx_x  unit_id_x\n",
       "6          2           6616         24\n",
       "           6           6252         18\n",
       "5          7           7117         12\n",
       "6          6           7170         12\n",
       "8          5           2054         12\n",
       "                                    ..\n",
       "6          6           4594          1\n",
       "5          7           2060          1\n",
       "6          6           4671          1\n",
       "                       4714          1\n",
       "           7           3242          1\n",
       "Length: 1026, dtype: int64"
      ]
     },
     "execution_count": 43,
     "metadata": {},
     "output_type": "execute_result"
    }
   ],
   "source": [
    "dsi_self2[['session_x', 'scan_idx_x', 'unit_id_x']].value_counts()"
   ]
  },
  {
   "cell_type": "code",
   "execution_count": 47,
   "id": "f28db540",
   "metadata": {},
   "outputs": [
    {
     "data": {
      "text/plain": [
       "40"
      ]
     },
     "execution_count": 47,
     "metadata": {},
     "output_type": "execute_result"
    }
   ],
   "source": [
    "len(dsi_self2[(dsi_self2.dsi_y +dsi_self2.dsi_x)/2  > 0.3])"
   ]
  },
  {
   "cell_type": "code",
   "execution_count": 48,
   "id": "aab97bac",
   "metadata": {},
   "outputs": [
    {
     "data": {
      "text/plain": [
       "Index(['id_x', 'valid_x', 'pt_supervoxel_id_x', 'pt_root_id', 'session_x',\n",
       "       'scan_idx_x', 'unit_id_x', 'pt_position_x', 'animal_id_x',\n",
       "       'scan_session_x', 'direction_x', 'response_mean_x', 'osi_x', 'dsi_x',\n",
       "       'pref_dir_x', 'pref_ori_x', 'oracle_x', 'id_y', 'valid_y',\n",
       "       'pt_supervoxel_id_y', 'session_y', 'scan_idx_y', 'unit_id_y',\n",
       "       'pt_position_y', 'animal_id_y', 'scan_session_y', 'direction_y',\n",
       "       'response_mean_y', 'osi_y', 'dsi_y', 'pref_dir_y', 'pref_ori_y',\n",
       "       'oracle_y'],\n",
       "      dtype='object')"
      ]
     },
     "execution_count": 48,
     "metadata": {},
     "output_type": "execute_result"
    }
   ],
   "source": [
    "dsi_self2.columns"
   ]
  },
  {
   "cell_type": "code",
   "execution_count": 52,
   "id": "8d8655e3",
   "metadata": {},
   "outputs": [
    {
     "data": {
      "text/plain": [
       "154      864691135446633812\n",
       "155      864691135446633812\n",
       "406      864691135415493050\n",
       "407      864691135415493050\n",
       "779      864691135229012362\n",
       "780      864691135229012362\n",
       "781      864691135229012362\n",
       "782      864691135229012362\n",
       "784      864691135229012362\n",
       "785      864691135229012362\n",
       "786      864691135229012362\n",
       "787      864691135229012362\n",
       "789      864691135229012362\n",
       "790      864691135229012362\n",
       "791      864691135229012362\n",
       "792      864691135229012362\n",
       "1678     864691135445539474\n",
       "1679     864691135445539474\n",
       "2160     864691135517422218\n",
       "2161     864691135517422218\n",
       "2162     864691135517422218\n",
       "2164     864691135517422218\n",
       "2165     864691135517422218\n",
       "2166     864691135517422218\n",
       "4264     864691135807308573\n",
       "4266     864691135807308573\n",
       "5738     864691135360229703\n",
       "5739     864691135360229703\n",
       "7806     864691135997647306\n",
       "7807     864691135997647306\n",
       "9377     864691135771971659\n",
       "9378     864691135771971659\n",
       "9501     864691136134413451\n",
       "9502     864691136134413451\n",
       "10475    864691135462735773\n",
       "10476    864691135462735773\n",
       "10477    864691135462735773\n",
       "10479    864691135462735773\n",
       "10480    864691135462735773\n",
       "10481    864691135462735773\n",
       "Name: pt_root_id, dtype: int64"
      ]
     },
     "execution_count": 52,
     "metadata": {},
     "output_type": "execute_result"
    }
   ],
   "source": [
    "dsi_self2[(dsi_self2.dsi_y +dsi_self2.dsi_x)/2  > 0.3].pt_root_id"
   ]
  },
  {
   "cell_type": "code",
   "execution_count": null,
   "id": "9b80de18",
   "metadata": {},
   "outputs": [],
   "source": [
    "# put condtions there: \n",
    "dsi_self2.query()"
   ]
  }
 ],
 "metadata": {
  "kernelspec": {
   "display_name": "Python 3 (ipykernel)",
   "language": "python",
   "name": "python3"
  },
  "language_info": {
   "codemirror_mode": {
    "name": "ipython",
    "version": 3
   },
   "file_extension": ".py",
   "mimetype": "text/x-python",
   "name": "python",
   "nbconvert_exporter": "python",
   "pygments_lexer": "ipython3",
   "version": "3.9.12"
  }
 },
 "nbformat": 4,
 "nbformat_minor": 5
}
