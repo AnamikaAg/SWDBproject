{
 "cells": [
  {
   "cell_type": "code",
   "execution_count": null,
   "id": "d423d670-6f98-4986-a0c8-c2aa0cb08dbd",
   "metadata": {},
   "outputs": [],
   "source": [
    "# connectomics imports\n",
    "import platform\n",
    "import os\n",
    "\n",
    "platstring = platform.platform()\n",
    "if ('Darwin' in platstring) or ('macOS' in platstring):\n",
    "    # macOS \n",
    "    data_root = \"/Volumes/Brain2022/em-connectomics\"\n",
    "elif 'Windows'  in platstring:\n",
    "    # Windows (replace with the drive letter of USB drive)\n",
    "    data_root = \"E:/em-connectomics\"\n",
    "elif ('amzn' in platstring):\n",
    "    # then on AWS\n",
    "    data_root = \"/data/em-connectomics-data/\"\n",
    "else:\n",
    "    # then your own linux platform\n",
    "    # EDIT location where you mounted hard drive\n",
    "    data_root = \"/media/$USERNAME/Brain2022/em-connectomics\"\n",
    "    \n",
    "# OR if you'd like to override the auto options\n",
    "# data_root = \"./proofread_skeletons/\""
   ]
  },
  {
   "cell_type": "code",
   "execution_count": 4,
   "id": "fe5def76-4027-4c49-bd6f-f9500639f099",
   "metadata": {},
   "outputs": [],
   "source": [
    "# this is the EM specific package for querying the EM data\n",
    "from caveclient import CAVEclient\n"
   ]
  },
  {
   "cell_type": "code",
   "execution_count": 5,
   "id": "35f8079a-e11a-4d7a-bab1-6f7b68e344cf",
   "metadata": {},
   "outputs": [],
   "source": [
    "# import some of our favorite packages\n",
    "import pandas as pd\n",
    "import numpy as np\n",
    "import os\n",
    "import matplotlib.pyplot as plt\n",
    "import scipy as sc\n",
    "%matplotlib widget"
   ]
  },
  {
   "cell_type": "code",
   "execution_count": 6,
   "id": "a61385bd-998b-4d33-b8f4-4193bf1482d2",
   "metadata": {},
   "outputs": [],
   "source": [
    "# if this errors, go to the CAVEsetup notebook\n",
    "datastack_name = 'minnie65_public_v343'\n",
    "client = CAVEclient(datastack_name)"
   ]
  },
  {
   "cell_type": "code",
   "execution_count": 7,
   "id": "81968ae3-5f10-461e-86c3-c44c2bd651dd",
   "metadata": {},
   "outputs": [],
   "source": [
    "# query the proofreading info of the cells with extended dendritic proofreading\n",
    "clean_dend_df = client.materialize.query_table('proofreading_status_public_release',\n",
    "                                              filter_equal_dict={'status_dendrite':'extended'})"
   ]
  },
  {
   "cell_type": "code",
   "execution_count": 8,
   "id": "7c9e61dc-6d4c-47a7-9e6f-802a4209978c",
   "metadata": {},
   "outputs": [
    {
     "data": {
      "text/html": [
       "<div>\n",
       "<style scoped>\n",
       "    .dataframe tbody tr th:only-of-type {\n",
       "        vertical-align: middle;\n",
       "    }\n",
       "\n",
       "    .dataframe tbody tr th {\n",
       "        vertical-align: top;\n",
       "    }\n",
       "\n",
       "    .dataframe thead th {\n",
       "        text-align: right;\n",
       "    }\n",
       "</style>\n",
       "<table border=\"1\" class=\"dataframe\">\n",
       "  <thead>\n",
       "    <tr style=\"text-align: right;\">\n",
       "      <th></th>\n",
       "      <th>id</th>\n",
       "      <th>valid</th>\n",
       "      <th>pt_supervoxel_id</th>\n",
       "      <th>pt_root_id</th>\n",
       "      <th>valid_id</th>\n",
       "      <th>status_dendrite</th>\n",
       "      <th>status_axon</th>\n",
       "      <th>pt_position</th>\n",
       "    </tr>\n",
       "  </thead>\n",
       "  <tbody>\n",
       "    <tr>\n",
       "      <th>0</th>\n",
       "      <td>4</td>\n",
       "      <td>t</td>\n",
       "      <td>91077153340676495</td>\n",
       "      <td>864691135355207375</td>\n",
       "      <td>864691135355207375</td>\n",
       "      <td>extended</td>\n",
       "      <td>non</td>\n",
       "      <td>[191424, 209888, 22845]</td>\n",
       "    </tr>\n",
       "    <tr>\n",
       "      <th>1</th>\n",
       "      <td>7</td>\n",
       "      <td>t</td>\n",
       "      <td>91570559116360958</td>\n",
       "      <td>864691136602027473</td>\n",
       "      <td>864691136602027473</td>\n",
       "      <td>extended</td>\n",
       "      <td>non</td>\n",
       "      <td>[194864, 216128, 22205]</td>\n",
       "    </tr>\n",
       "    <tr>\n",
       "      <th>2</th>\n",
       "      <td>8</td>\n",
       "      <td>t</td>\n",
       "      <td>90444453118345856</td>\n",
       "      <td>864691135866846742</td>\n",
       "      <td>864691135866846742</td>\n",
       "      <td>extended</td>\n",
       "      <td>non</td>\n",
       "      <td>[186768, 214288, 22811]</td>\n",
       "    </tr>\n",
       "    <tr>\n",
       "      <th>3</th>\n",
       "      <td>9</td>\n",
       "      <td>t</td>\n",
       "      <td>89741246779911895</td>\n",
       "      <td>864691135445832338</td>\n",
       "      <td>864691135445832338</td>\n",
       "      <td>extended</td>\n",
       "      <td>non</td>\n",
       "      <td>[181312, 217904, 23251]</td>\n",
       "    </tr>\n",
       "    <tr>\n",
       "      <th>4</th>\n",
       "      <td>13</td>\n",
       "      <td>t</td>\n",
       "      <td>91499640750531825</td>\n",
       "      <td>864691135569255558</td>\n",
       "      <td>864691135569255558</td>\n",
       "      <td>extended</td>\n",
       "      <td>non</td>\n",
       "      <td>[194112, 212064, 23175]</td>\n",
       "    </tr>\n",
       "  </tbody>\n",
       "</table>\n",
       "</div>"
      ],
      "text/plain": [
       "   id valid   pt_supervoxel_id          pt_root_id            valid_id  \\\n",
       "0   4     t  91077153340676495  864691135355207375  864691135355207375   \n",
       "1   7     t  91570559116360958  864691136602027473  864691136602027473   \n",
       "2   8     t  90444453118345856  864691135866846742  864691135866846742   \n",
       "3   9     t  89741246779911895  864691135445832338  864691135445832338   \n",
       "4  13     t  91499640750531825  864691135569255558  864691135569255558   \n",
       "\n",
       "  status_dendrite status_axon              pt_position  \n",
       "0        extended         non  [191424, 209888, 22845]  \n",
       "1        extended         non  [194864, 216128, 22205]  \n",
       "2        extended         non  [186768, 214288, 22811]  \n",
       "3        extended         non  [181312, 217904, 23251]  \n",
       "4        extended         non  [194112, 212064, 23175]  "
      ]
     },
     "execution_count": 8,
     "metadata": {},
     "output_type": "execute_result"
    }
   ],
   "source": [
    "clean_dend_df.head()"
   ]
  },
  {
   "cell_type": "code",
   "execution_count": 9,
   "id": "2ca4df45-666d-44da-b2c0-9b1931ff11d3",
   "metadata": {},
   "outputs": [
    {
     "data": {
      "text/plain": [
       "864691135013176726"
      ]
     },
     "execution_count": 9,
     "metadata": {},
     "output_type": "execute_result"
    }
   ],
   "source": [
    "# query a neuron id from the list\n",
    "neuron_id  = clean_dend_df.iloc[10].pt_root_id\n",
    "neuron_id"
   ]
  },
  {
   "cell_type": "code",
   "execution_count": null,
   "id": "318ecff6-b78b-4177-a9b5-b99d58540b33",
   "metadata": {},
   "outputs": [],
   "source": [
    "# Lets query this neuron, but now splitting columns and converting to um\n",
    "post_synapse_df = client.materialize.synapse_query(post_ids = neuron_id,desired_resolution=(1000,1000,1000))\n",
    "\n",
    "# Lets make a matrix of synapse positions for this neuron\n",
    "syn_pos_nm = np.vstack(post_synapse_df['ctr_pt_position'].values)\n",
    "# and plot their positions in x,y along with the soma position as a red circle\n",
    "fig = plt.figure(figsize=(6,12))\n",
    "ax1 = fig.add_subplot(2, 1, 1, aspect='equal')\n",
    "ax2 = fig.add_subplot(2, 1, 2,  aspect='equal')\n",
    "ax1.scatter(syn_pos_nm[:,0], syn_pos_nm[:,1])\n",
    "\n",
    "# add the soma position as a red circle\n",
    "soma_pos_df = clean_dend_df.query(f'pt_root_id=={neuron_id}')\n",
    "soma_pos = soma_pos_df['pt_position'].values\n",
    "soma_pos = soma_pos[0]\n",
    "ax1.scatter(soma_pos[0]*4/1000,soma_pos[1]*4/1000,c='r',s=150)\n",
    "ax1.set_xlabel('x (um)')\n",
    "ax1.set_ylabel('y (um)')\n",
    "#ax1.set_ylim(1100,300)\n",
    "\n",
    "ax2.scatter(syn_pos_nm[:,0], syn_pos_nm[:,2])\n",
    "\n",
    "# add the soma position as a red circle\n",
    "ax2.scatter(soma_pos[0]*4/1000,soma_pos[2]*40/1000,c='r',s=150)\n",
    "ax2.set_xlabel('x (um)')\n",
    "ax2.set_ylabel('z (um)')\n",
    "plt.subplots_adjust(hspace=0.01)"
   ]
  },
  {
   "cell_type": "code",
   "execution_count": null,
   "id": "a9dc06b8-dbc1-4179-951a-44e94b4daf2c",
   "metadata": {},
   "outputs": [],
   "source": [
    "fig = plt.figure(figsize=(12,12))\n",
    "ax = fig.add_subplot(1,1,1, projection='3d')\n",
    "\n",
    "\n",
    "ax.scatter3D(syn_pos_nm[:,0], syn_pos_nm[:,1], syn_pos_nm[:,2])\n",
    "\n",
    "# add the soma position as a red circle\n",
    "ax.scatter3D(soma_pos[0]*4/1000,soma_pos[1]*4/1000,soma_pos[2]*40/1000,c='r',s=500)\n",
    "plt.subplots_adjust(hspace=0.01)"
   ]
  },
  {
   "cell_type": "code",
   "execution_count": null,
   "id": "23ff15aa-87fa-4db7-820f-9fffd986a5d9",
   "metadata": {},
   "outputs": [],
   "source": [
    "neuron_soma_df = client.materialize.query_table('aibs_soma_nuc_metamodel_preds_v117')\n",
    "neuron_soma_df.head()"
   ]
  },
  {
   "cell_type": "code",
   "execution_count": null,
   "id": "c2d04cbc-ce8d-437e-9d7f-0981d4493f95",
   "metadata": {},
   "outputs": [],
   "source": [
    "# So a better way to plot a neuron is to use cover_paths\n",
    "# and plot those as 3d lines\n",
    "def plot_neuron_skeleton(neuron, ax, c='b', linewidth=1):\n",
    "\n",
    "    for cover_path in neuron.skeleton.cover_paths:\n",
    "        path_verts = neuron.skeleton.vertices[cover_path,:]\n",
    "        ax.plot(path_verts[:,0], path_verts[:,1], path_verts[:,2], c=c, linewidth=linewidth)\n",
    "\n",
    "fig = plt.figure(figsize=(6, 6))\n",
    "ax = plt.axes(projection='3d')   \n",
    "ax.scatter3D(nrn.skeleton.vertices[nrn.skeleton.root][0], nrn.skeleton.vertices[nrn.skeleton.root][1], nrn.skeleton.vertices[nrn.skeleton.root][2])\n",
    "plot_neuron_skeleton(nrn, ax)"
   ]
  },
  {
   "cell_type": "code",
   "execution_count": null,
   "id": "19191a65-328f-4fc6-a95c-3b43959fbf29",
   "metadata": {},
   "outputs": [],
   "source": [
    "# general radial scaling law for the entire cell\n",
    "seg_df = nrn.anno.segment_properties.df\n",
    "# want to make a directed tree and attach segment properties\n"
   ]
  },
  {
   "cell_type": "code",
   "execution_count": null,
   "id": "a1660b14-bcfd-443d-ad72-8f1a8b579161",
   "metadata": {},
   "outputs": [],
   "source": [
    "nrn.anno.is_axon #gives mesh labels for axons"
   ]
  }
 ],
 "metadata": {
  "kernelspec": {
   "display_name": "Python 3 (ipykernel)",
   "language": "python",
   "name": "python3"
  },
  "language_info": {
   "codemirror_mode": {
    "name": "ipython",
    "version": 3
   },
   "file_extension": ".py",
   "mimetype": "text/x-python",
   "name": "python",
   "nbconvert_exporter": "python",
   "pygments_lexer": "ipython3",
   "version": "3.8.10"
  }
 },
 "nbformat": 4,
 "nbformat_minor": 5
}
