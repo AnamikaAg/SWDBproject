{
 "cells": [
  {
   "cell_type": "code",
   "execution_count": 51,
   "id": "8d04e94e",
   "metadata": {},
   "outputs": [],
   "source": [
    "import caveclient\n",
    "import numpy as np\n",
    "import pandas as pd\n",
    "import matplotlib.pyplot as plt\n",
    "import seaborn as sns"
   ]
  },
  {
   "cell_type": "code",
   "execution_count": 2,
   "id": "bbec36f1",
   "metadata": {},
   "outputs": [],
   "source": [
    "client  = caveclient.CAVEclient('minnie65_phase3_v1')"
   ]
  },
  {
   "cell_type": "code",
   "execution_count": 3,
   "id": "ec419526",
   "metadata": {},
   "outputs": [
    {
     "data": {
      "text/plain": [
       "['bodor_pt_cells',\n",
       " 'allen_minnie_extra_types',\n",
       " 'allen_v1_column_types_v3',\n",
       " 'allen_v1_column_types_v2',\n",
       " 'allen_soma_coarse_cell_class_model_v2',\n",
       " 'allen_soma_coarse_cell_class_model_v1',\n",
       " 'synapses_pni_2',\n",
       " 'nucleus_detection_v0',\n",
       " 'allen_v1_column_proofreading',\n",
       " 'column_excitatory_subgroups_pheno',\n",
       " 'proofreading_functional_coreg_v2',\n",
       " 'proofreading_functional_coreg',\n",
       " 'nucleus_neuron_svm',\n",
       " 'functional_coreg',\n",
       " 'allen_v1_column_thalamic',\n",
       " 'proofreading_status_public_release',\n",
       " 'allen_column_l5it_types',\n",
       " 'allen_column_basket_molecular',\n",
       " 'allen_column_bodor_surround_inhib',\n",
       " 'func_unit_em_match_release',\n",
       " 'aibs_column_nonneuronal',\n",
       " 'pt_synapse_targets',\n",
       " 'cg_cell_type_calls',\n",
       " 'l5_mc_cg',\n",
       " 'baylor_e_i_model_v1',\n",
       " 'allen_neuron_nonneuron_svm_v0',\n",
       " 'allen_class_type_svm_v0',\n",
       " 'allen_subclass_type_svm_v0',\n",
       " 'allen_v1_column_pyc_proof',\n",
       " 'allen_v1_column_types_slanted',\n",
       " 'slant_data_subtypes',\n",
       " 'slant_data_subtypes_v2',\n",
       " 'aibs_soma_nuc_metamodel_preds_v117',\n",
       " 'bodor_pt_target_proofread']"
      ]
     },
     "execution_count": 3,
     "metadata": {},
     "output_type": "execute_result"
    }
   ],
   "source": [
    "client.materialize.get_tables()"
   ]
  },
  {
   "cell_type": "code",
   "execution_count": 5,
   "id": "006d960a",
   "metadata": {},
   "outputs": [],
   "source": [
    "prf_df=client.materialize.query_table('proofreading_status_public_release')"
   ]
  },
  {
   "cell_type": "code",
   "execution_count": 17,
   "id": "9b80d62e",
   "metadata": {},
   "outputs": [],
   "source": [
    "ct_df = client.materialize.query_table('aibs_soma_nuc_metamodel_preds_v117', desired_resolution=[1000,1000,1000])"
   ]
  },
  {
   "cell_type": "code",
   "execution_count": 83,
   "id": "01941df5",
   "metadata": {},
   "outputs": [],
   "source": [
    "nuc_df = client.materialize.query_table('nucleus_detection_v0', split_positions=True, desired_resolution=[1000,1000,1000])"
   ]
  },
  {
   "cell_type": "code",
   "execution_count": 84,
   "id": "dea91951",
   "metadata": {},
   "outputs": [],
   "source": [
    "nuc_df=pd.merge(nuc_df, ct_df[['target_id', 'cell_type']], left_on='id', right_on='target_id', how='left')"
   ]
  },
  {
   "cell_type": "code",
   "execution_count": 10,
   "id": "159f4ea9",
   "metadata": {},
   "outputs": [],
   "source": [
    "prfct_df=pd.merge(prf_df, ct_df, on='pt_root_id', how='left')"
   ]
  },
  {
   "cell_type": "code",
   "execution_count": 241,
   "id": "411836ec",
   "metadata": {},
   "outputs": [],
   "source": [
    "coregDF=pd.read_feather('coregDF_withMorph2.feather')\n",
    "l23_ext_coreg=coregDF[coregDF.pt_root_id.isin(prfct_df.query('cell_type==\"4P\"').query('status_axon==\"extended\"').pt_root_id.values)]"
   ]
  },
  {
   "cell_type": "code",
   "execution_count": 233,
   "id": "e0903382",
   "metadata": {},
   "outputs": [],
   "source": [
    "dsi_osi_df = pd.read_feather('coreg_all_good_scans_dsi_osi.feather')\n",
    "coreg_df = client.materialize.query_table('functional_coreg')\n",
    "dsi_osi_df=pd.merge(coreg_df, dsi_osi_df[['pref_dir', '0.0', '22.5', '45.0', '67.5', '90.0', '112.5',\n",
    "       '135.0', '157.5', '180.0', '202.5', '225.0', '247.5', '270.0', '292.5',\n",
    "       '315.0', '337.5', 'null_dir', 'DSI', 'Act_Pref_Dir', 'OSI',\n",
    "       'Act_Pref_Or', 'pref_or', 'null_or','id']], on='id')"
   ]
  },
  {
   "cell_type": "code",
   "execution_count": 242,
   "id": "bd0a2b0f",
   "metadata": {},
   "outputs": [],
   "source": [
    "root_id = l23_ext_coreg.iloc[0,:].pt_root_id"
   ]
  },
  {
   "cell_type": "code",
   "execution_count": 266,
   "id": "3a4a5eee",
   "metadata": {},
   "outputs": [],
   "source": [
    "dsi_self = pd.merge(dsi_osi_df, dsi_osi_df, on='pt_root_id', how='inner')\n",
    "dsi_self=dsi_self[dsi_self.id_x!=dsi_self.id_y]"
   ]
  },
  {
   "cell_type": "code",
   "execution_count": 307,
   "id": "121bb3dc",
   "metadata": {},
   "outputs": [
    {
     "data": {
      "text/plain": [
       "<AxesSubplot:xlabel='pref_dir_x', ylabel='pref_dir_y'>"
      ]
     },
     "execution_count": 307,
     "metadata": {},
     "output_type": "execute_result"
    },
    {
     "data": {
      "image/png": "[encoded data removed]",
      "text/plain": [
       "<Figure size 432x288 with 2 Axes>"
      ]
     },
     "metadata": {
      "needs_background": "light"
     },
     "output_type": "display_data"
    }
   ],
   "source": [
    "f, ax = plt.subplots()\n",
    "sns.histplot(data=dsi_self, x='pref_dir_x', y='pref_dir_y',bins=16, ax=ax, cbar=True)\n"
   ]
  },
  {
   "cell_type": "code",
   "execution_count": 292,
   "id": "08cd7487",
   "metadata": {},
   "outputs": [],
   "source": [
    "dangle = dsi_self.pref_dir_x - dsi_self.pref_dir_y\n",
    "dsi_self['dpref_dir']=np.arctan2(np.sin(dangle), np.cos(dangle))"
   ]
  },
  {
   "cell_type": "code",
   "execution_count": 301,
   "id": "9b1e2341",
   "metadata": {},
   "outputs": [],
   "source": [
    "dsi_self['avg_DSI']=dsi_self.DSI_x/2 + dsi_self.DSI_y/2\n",
    "dsi_self['avg_act']=dsi_self.Act_Pref_Dir_x/2 + dsi_self.Act_Pref_Dir_y/2"
   ]
  },
  {
   "cell_type": "code",
   "execution_count": 299,
   "id": "f759db75",
   "metadata": {},
   "outputs": [
    {
     "data": {
      "text/plain": [
       "<AxesSubplot:xlabel='dpref_dir', ylabel='avg_DSI'>"
      ]
     },
     "execution_count": 299,
     "metadata": {},
     "output_type": "execute_result"
    },
    {
     "data": {
      "image/png": "[encoded data removed]",
      "text/plain": [
       "<Figure size 432x288 with 1 Axes>"
      ]
     },
     "metadata": {
      "needs_background": "light"
     },
     "output_type": "display_data"
    }
   ],
   "source": [
    "f, ax = plt.subplots()\n",
    "sns.scatterplot(x='dpref_dir', y='avg_DSI',\n",
    "                dsdata=dsi_self, s=2,ax=ax)"
   ]
  },
  {
   "cell_type": "code",
   "execution_count": null,
   "id": "33a5152f",
   "metadata": {},
   "outputs": [],
   "source": []
  },
  {
   "cell_type": "code",
   "execution_count": 302,
   "id": "7dea0372",
   "metadata": {},
   "outputs": [
    {
     "data": {
      "text/plain": [
       "<AxesSubplot:xlabel='dpref_dir', ylabel='avg_act'>"
      ]
     },
     "execution_count": 302,
     "metadata": {},
     "output_type": "execute_result"
    },
    {
     "data": {
      "image/png": "[encoded data removed]",
      "text/plain": [
       "<Figure size 432x288 with 1 Axes>"
      ]
     },
     "metadata": {
      "needs_background": "light"
     },
     "output_type": "display_data"
    }
   ],
   "source": [
    "f, ax = plt.subplots()\n",
    "sns.scatterplot(x='dpref_dir', y='avg_act',\n",
    "                data=dsi_self, s=2,ax=ax)"
   ]
  },
  {
   "cell_type": "code",
   "execution_count": 304,
   "id": "ba6286c1",
   "metadata": {},
   "outputs": [
    {
     "data": {
      "text/plain": [
       "<AxesSubplot:xlabel='dpref_dir', ylabel='avg_act'>"
      ]
     },
     "execution_count": 304,
     "metadata": {},
     "output_type": "execute_result"
    },
    {
     "data": {
      "image/png": "[encoded data removed]",
      "text/plain": [
       "<Figure size 432x288 with 1 Axes>"
      ]
     },
     "metadata": {
      "needs_background": "light"
     },
     "output_type": "display_data"
    }
   ],
   "source": [
    "f, ax = plt.subplots()\n",
    "sns.scatterplot(x='dpref_dir', y='avg_act', \n",
    "                hue='avg_DSI',palette=plt.cm.viridis, \n",
    "                data=dsi_self, s=2,ax=ax)"
   ]
  },
  {
   "cell_type": "code",
   "execution_count": 310,
   "id": "685fb1ba",
   "metadata": {},
   "outputs": [
    {
     "data": {
      "text/plain": [
       "<AxesSubplot:xlabel='pref_dir_x', ylabel='pref_dir_y'>"
      ]
     },
     "execution_count": 310,
     "metadata": {},
     "output_type": "execute_result"
    },
    {
     "data": {
      "image/png": "[encoded data removed]",
      "text/plain": [
       "<Figure size 432x288 with 2 Axes>"
      ]
     },
     "metadata": {
      "needs_background": "light"
     },
     "output_type": "display_data"
    }
   ],
   "source": [
    "f, ax = plt.subplots()\n",
    "sns.histplot(data=dsi_self.query('avg_act>20'), x='pref_dir_x', y='pref_dir_y',bins=16, ax=ax, cbar=True)\n"
   ]
  },
  {
   "cell_type": "code",
   "execution_count": null,
   "id": "135942c7",
   "metadata": {},
   "outputs": [],
   "source": [
    "f, ax = plt.subplots()\n",
    "sns.scatterplot(x='dpref_dir', y='OSI_x', data=dsi_self, s=2,ax=ax)"
   ]
  },
  {
   "cell_type": "code",
   "execution_count": 276,
   "id": "ac129e34",
   "metadata": {},
   "outputs": [
    {
     "data": {
      "text/plain": [
       "(16,)"
      ]
     },
     "execution_count": 276,
     "metadata": {},
     "output_type": "execute_result"
    }
   ],
   "source": [
    "dsi_self.pref_dir_x.value_counts().shape"
   ]
  },
  {
   "cell_type": "code",
   "execution_count": 250,
   "id": "73c49fcb",
   "metadata": {},
   "outputs": [
    {
     "data": {
      "text/plain": [
       "((8944, 32), (10414, 63))"
      ]
     },
     "execution_count": 250,
     "metadata": {},
     "output_type": "execute_result"
    }
   ],
   "source": [
    "dsi_osi_df.shape, dsi_self.shape"
   ]
  },
  {
   "cell_type": "code",
   "execution_count": 259,
   "id": "9a839cfb",
   "metadata": {},
   "outputs": [
    {
     "data": {
      "text/plain": [
       "(10414, 63)"
      ]
     },
     "execution_count": 259,
     "metadata": {},
     "output_type": "execute_result"
    }
   ],
   "source": [
    "dsi_self.drop_duplicates(subset=['id_x', 'id_y'], keep=False).shape"
   ]
  },
  {
   "cell_type": "code",
   "execution_count": 254,
   "id": "54e9b8e2",
   "metadata": {},
   "outputs": [
    {
     "data": {
      "text/plain": [
       "(10414, 63)"
      ]
     },
     "execution_count": 254,
     "metadata": {},
     "output_type": "execute_result"
    }
   ],
   "source": [
    "dsi_self.shape"
   ]
  },
  {
   "cell_type": "code",
   "execution_count": 252,
   "id": "defa1528",
   "metadata": {},
   "outputs": [
    {
     "data": {
      "text/plain": [
       "(10414, 63)"
      ]
     },
     "execution_count": 252,
     "metadata": {},
     "output_type": "execute_result"
    }
   ],
   "source": [
    "dsi_self.shape"
   ]
  },
  {
   "cell_type": "code",
   "execution_count": 243,
   "id": "2350bfb9",
   "metadata": {},
   "outputs": [
    {
     "data": {
      "text/html": [
       "<div>\n",
       "<style scoped>\n",
       "    .dataframe tbody tr th:only-of-type {\n",
       "        vertical-align: middle;\n",
       "    }\n",
       "\n",
       "    .dataframe tbody tr th {\n",
       "        vertical-align: top;\n",
       "    }\n",
       "\n",
       "    .dataframe thead th {\n",
       "        text-align: right;\n",
       "    }\n",
       "</style>\n",
       "<table border=\"1\" class=\"dataframe\">\n",
       "  <thead>\n",
       "    <tr style=\"text-align: right;\">\n",
       "      <th></th>\n",
       "      <th>scan_idx</th>\n",
       "      <th>session</th>\n",
       "      <th>unit_id</th>\n",
       "      <th>pt_root_id</th>\n",
       "      <th>DSI</th>\n",
       "      <th>OSI</th>\n",
       "      <th>pref_dir</th>\n",
       "      <th>pref_or</th>\n",
       "    </tr>\n",
       "  </thead>\n",
       "  <tbody>\n",
       "    <tr>\n",
       "      <th>115</th>\n",
       "      <td>7</td>\n",
       "      <td>4</td>\n",
       "      <td>5564</td>\n",
       "      <td>864691135718541617</td>\n",
       "      <td>0.566859</td>\n",
       "      <td>0.174294</td>\n",
       "      <td>0.0</td>\n",
       "      <td>135.0</td>\n",
       "    </tr>\n",
       "    <tr>\n",
       "      <th>1864</th>\n",
       "      <td>5</td>\n",
       "      <td>8</td>\n",
       "      <td>8350</td>\n",
       "      <td>864691135718541617</td>\n",
       "      <td>0.640613</td>\n",
       "      <td>0.491521</td>\n",
       "      <td>157.5</td>\n",
       "      <td>157.5</td>\n",
       "    </tr>\n",
       "  </tbody>\n",
       "</table>\n",
       "</div>"
      ],
      "text/plain": [
       "      scan_idx  session  unit_id          pt_root_id       DSI       OSI  \\\n",
       "115          7        4     5564  864691135718541617  0.566859  0.174294   \n",
       "1864         5        8     8350  864691135718541617  0.640613  0.491521   \n",
       "\n",
       "      pref_dir  pref_or  \n",
       "115        0.0    135.0  \n",
       "1864     157.5    157.5  "
      ]
     },
     "execution_count": 243,
     "metadata": {},
     "output_type": "execute_result"
    }
   ],
   "source": [
    "dsi_osi_df.query(f'pt_root_id=={root_id}')[['scan_idx', 'session','unit_id','pt_root_id', 'DSI','OSI', 'pref_dir', 'pref_or']]"
   ]
  },
  {
   "cell_type": "code",
   "execution_count": 150,
   "id": "7997d386",
   "metadata": {},
   "outputs": [
    {
     "data": {
      "text/plain": [
       "864691135753932237"
      ]
     },
     "execution_count": 150,
     "metadata": {},
     "output_type": "execute_result"
    }
   ],
   "source": [
    "root_id"
   ]
  },
  {
   "cell_type": "code",
   "execution_count": 151,
   "id": "8dcf7fa0",
   "metadata": {},
   "outputs": [],
   "source": [
    "syn_df = client.materialize.synapse_query(pre_ids=root_id,\n",
    "                                          split_positions=True,\n",
    "                                          desired_resolution=[1000,1000,1000])"
   ]
  },
  {
   "cell_type": "code",
   "execution_count": null,
   "id": "df7d70b6",
   "metadata": {},
   "outputs": [],
   "source": []
  },
  {
   "cell_type": "code",
   "execution_count": 152,
   "id": "5266033e",
   "metadata": {},
   "outputs": [],
   "source": [
    "syn_dfm=pd.merge(syn_df, nuc_df, left_on='post_pt_root_id', right_on='pt_root_id', how='inner')"
   ]
  },
  {
   "cell_type": "code",
   "execution_count": 153,
   "id": "83985f42",
   "metadata": {},
   "outputs": [],
   "source": [
    "delt_v=syn_dfm[['ctr_pt_position_x', 'ctr_pt_position_y', 'ctr_pt_position_z']].values-syn_dfm[['pt_position_x', 'pt_position_y', 'pt_position_z']].values"
   ]
  },
  {
   "cell_type": "code",
   "execution_count": 154,
   "id": "d6c4f5c5",
   "metadata": {},
   "outputs": [],
   "source": [
    "syn_dfm[['soma_to_syn_x', 'soma_to_syn_y', 'soma_to_syn_z']]=delt_v"
   ]
  },
  {
   "cell_type": "code",
   "execution_count": 155,
   "id": "05fbda5d",
   "metadata": {},
   "outputs": [],
   "source": [
    "syn_dfm['soma_to_syn_r']=np.linalg.norm(syn_dfm[['soma_to_syn_x', 'soma_to_syn_y', 'soma_to_syn_z']], axis=1)"
   ]
  },
  {
   "cell_type": "code",
   "execution_count": 156,
   "id": "e6051a5d",
   "metadata": {},
   "outputs": [],
   "source": [
    "syn_dfm['theta']=np.arctan2(syn_dfm.soma_to_syn_x, syn_dfm.soma_to_syn_z)"
   ]
  },
  {
   "cell_type": "code",
   "execution_count": 157,
   "id": "a3a23130",
   "metadata": {},
   "outputs": [],
   "source": [
    "syn_dfm=syn_dfm.drop_duplicates(subset='id_x')"
   ]
  },
  {
   "cell_type": "code",
   "execution_count": 162,
   "id": "604b723f",
   "metadata": {},
   "outputs": [],
   "source": []
  },
  {
   "cell_type": "code",
   "execution_count": 170,
   "id": "4de52e2e",
   "metadata": {},
   "outputs": [],
   "source": []
  },
  {
   "cell_type": "code",
   "execution_count": null,
   "id": "0809fd80",
   "metadata": {},
   "outputs": [],
   "source": []
  },
  {
   "cell_type": "code",
   "execution_count": 178,
   "id": "b15e109d",
   "metadata": {},
   "outputs": [],
   "source": []
  },
  {
   "cell_type": "code",
   "execution_count": 180,
   "id": "0065b106",
   "metadata": {},
   "outputs": [
    {
     "data": {
      "text/html": [
       "<div>\n",
       "<style scoped>\n",
       "    .dataframe tbody tr th:only-of-type {\n",
       "        vertical-align: middle;\n",
       "    }\n",
       "\n",
       "    .dataframe tbody tr th {\n",
       "        vertical-align: top;\n",
       "    }\n",
       "\n",
       "    .dataframe thead th {\n",
       "        text-align: right;\n",
       "    }\n",
       "</style>\n",
       "<table border=\"1\" class=\"dataframe\">\n",
       "  <thead>\n",
       "    <tr style=\"text-align: right;\">\n",
       "      <th></th>\n",
       "      <th>id_x</th>\n",
       "      <th>valid_x</th>\n",
       "      <th>pre_pt_position_x</th>\n",
       "      <th>pre_pt_position_y</th>\n",
       "      <th>pre_pt_position_z</th>\n",
       "      <th>pre_pt_supervoxel_id</th>\n",
       "      <th>pre_pt_root_id</th>\n",
       "      <th>post_pt_position_x</th>\n",
       "      <th>post_pt_position_y</th>\n",
       "      <th>post_pt_position_z</th>\n",
       "      <th>...</th>\n",
       "      <th>292.5</th>\n",
       "      <th>315.0</th>\n",
       "      <th>337.5</th>\n",
       "      <th>null_dir</th>\n",
       "      <th>DSI</th>\n",
       "      <th>Act_Pref_Dir</th>\n",
       "      <th>OSI</th>\n",
       "      <th>Act_Pref_Or</th>\n",
       "      <th>pref_or</th>\n",
       "      <th>null_or</th>\n",
       "    </tr>\n",
       "  </thead>\n",
       "  <tbody>\n",
       "    <tr>\n",
       "      <th>0</th>\n",
       "      <td>133954227</td>\n",
       "      <td>t</td>\n",
       "      <td>642.320</td>\n",
       "      <td>683.584</td>\n",
       "      <td>910.68</td>\n",
       "      <td>86849806009668531</td>\n",
       "      <td>864691135753932237</td>\n",
       "      <td>642.400</td>\n",
       "      <td>683.952</td>\n",
       "      <td>910.80</td>\n",
       "      <td>...</td>\n",
       "      <td>10.911670</td>\n",
       "      <td>8.378872</td>\n",
       "      <td>7.886239</td>\n",
       "      <td>22.5</td>\n",
       "      <td>0.623543</td>\n",
       "      <td>17.120943</td>\n",
       "      <td>0.292127</td>\n",
       "      <td>12.775335</td>\n",
       "      <td>45.0</td>\n",
       "      <td>135.0</td>\n",
       "    </tr>\n",
       "    <tr>\n",
       "      <th>1</th>\n",
       "      <td>96423091</td>\n",
       "      <td>t</td>\n",
       "      <td>559.232</td>\n",
       "      <td>633.400</td>\n",
       "      <td>758.36</td>\n",
       "      <td>83962969041459235</td>\n",
       "      <td>864691135753932237</td>\n",
       "      <td>559.272</td>\n",
       "      <td>633.480</td>\n",
       "      <td>758.24</td>\n",
       "      <td>...</td>\n",
       "      <td>10.382027</td>\n",
       "      <td>15.945401</td>\n",
       "      <td>14.627197</td>\n",
       "      <td>90.0</td>\n",
       "      <td>0.273815</td>\n",
       "      <td>36.483517</td>\n",
       "      <td>0.439726</td>\n",
       "      <td>28.641140</td>\n",
       "      <td>90.0</td>\n",
       "      <td>0.0</td>\n",
       "    </tr>\n",
       "    <tr>\n",
       "      <th>2</th>\n",
       "      <td>108300450</td>\n",
       "      <td>t</td>\n",
       "      <td>600.680</td>\n",
       "      <td>760.912</td>\n",
       "      <td>696.88</td>\n",
       "      <td>85445041794907457</td>\n",
       "      <td>864691135753932237</td>\n",
       "      <td>600.504</td>\n",
       "      <td>761.152</td>\n",
       "      <td>696.68</td>\n",
       "      <td>...</td>\n",
       "      <td>4.090281</td>\n",
       "      <td>3.615450</td>\n",
       "      <td>5.830765</td>\n",
       "      <td>315.0</td>\n",
       "      <td>0.300496</td>\n",
       "      <td>6.721735</td>\n",
       "      <td>0.487695</td>\n",
       "      <td>5.615542</td>\n",
       "      <td>90.0</td>\n",
       "      <td>0.0</td>\n",
       "    </tr>\n",
       "    <tr>\n",
       "      <th>3</th>\n",
       "      <td>126226046</td>\n",
       "      <td>t</td>\n",
       "      <td>634.608</td>\n",
       "      <td>687.112</td>\n",
       "      <td>774.08</td>\n",
       "      <td>86568468002376450</td>\n",
       "      <td>864691135753932237</td>\n",
       "      <td>634.520</td>\n",
       "      <td>686.696</td>\n",
       "      <td>774.28</td>\n",
       "      <td>...</td>\n",
       "      <td>4.090281</td>\n",
       "      <td>3.615450</td>\n",
       "      <td>5.830765</td>\n",
       "      <td>315.0</td>\n",
       "      <td>0.300496</td>\n",
       "      <td>6.721735</td>\n",
       "      <td>0.487695</td>\n",
       "      <td>5.615542</td>\n",
       "      <td>90.0</td>\n",
       "      <td>0.0</td>\n",
       "    </tr>\n",
       "    <tr>\n",
       "      <th>4</th>\n",
       "      <td>185393273</td>\n",
       "      <td>t</td>\n",
       "      <td>777.328</td>\n",
       "      <td>667.664</td>\n",
       "      <td>1001.04</td>\n",
       "      <td>91493593638252359</td>\n",
       "      <td>864691135753932237</td>\n",
       "      <td>776.968</td>\n",
       "      <td>668.088</td>\n",
       "      <td>1001.04</td>\n",
       "      <td>...</td>\n",
       "      <td>4.277564</td>\n",
       "      <td>7.762255</td>\n",
       "      <td>6.088434</td>\n",
       "      <td>225.0</td>\n",
       "      <td>0.356171</td>\n",
       "      <td>25.277296</td>\n",
       "      <td>0.496858</td>\n",
       "      <td>18.638725</td>\n",
       "      <td>45.0</td>\n",
       "      <td>135.0</td>\n",
       "    </tr>\n",
       "    <tr>\n",
       "      <th>...</th>\n",
       "      <td>...</td>\n",
       "      <td>...</td>\n",
       "      <td>...</td>\n",
       "      <td>...</td>\n",
       "      <td>...</td>\n",
       "      <td>...</td>\n",
       "      <td>...</td>\n",
       "      <td>...</td>\n",
       "      <td>...</td>\n",
       "      <td>...</td>\n",
       "      <td>...</td>\n",
       "      <td>...</td>\n",
       "      <td>...</td>\n",
       "      <td>...</td>\n",
       "      <td>...</td>\n",
       "      <td>...</td>\n",
       "      <td>...</td>\n",
       "      <td>...</td>\n",
       "      <td>...</td>\n",
       "      <td>...</td>\n",
       "      <td>...</td>\n",
       "    </tr>\n",
       "    <tr>\n",
       "      <th>135</th>\n",
       "      <td>182525672</td>\n",
       "      <td>t</td>\n",
       "      <td>755.176</td>\n",
       "      <td>691.992</td>\n",
       "      <td>692.56</td>\n",
       "      <td>90720361079354402</td>\n",
       "      <td>864691135753932237</td>\n",
       "      <td>755.056</td>\n",
       "      <td>692.504</td>\n",
       "      <td>692.72</td>\n",
       "      <td>...</td>\n",
       "      <td>6.535955</td>\n",
       "      <td>19.199238</td>\n",
       "      <td>17.229132</td>\n",
       "      <td>337.5</td>\n",
       "      <td>0.163868</td>\n",
       "      <td>23.982376</td>\n",
       "      <td>0.217886</td>\n",
       "      <td>20.605755</td>\n",
       "      <td>157.5</td>\n",
       "      <td>67.5</td>\n",
       "    </tr>\n",
       "    <tr>\n",
       "      <th>136</th>\n",
       "      <td>171726958</td>\n",
       "      <td>t</td>\n",
       "      <td>736.128</td>\n",
       "      <td>696.552</td>\n",
       "      <td>701.08</td>\n",
       "      <td>90087179887496251</td>\n",
       "      <td>864691135753932237</td>\n",
       "      <td>735.792</td>\n",
       "      <td>696.632</td>\n",
       "      <td>701.04</td>\n",
       "      <td>...</td>\n",
       "      <td>3.685940</td>\n",
       "      <td>6.876083</td>\n",
       "      <td>3.689906</td>\n",
       "      <td>135.0</td>\n",
       "      <td>0.136044</td>\n",
       "      <td>6.876083</td>\n",
       "      <td>0.304835</td>\n",
       "      <td>6.224863</td>\n",
       "      <td>22.5</td>\n",
       "      <td>112.5</td>\n",
       "    </tr>\n",
       "    <tr>\n",
       "      <th>137</th>\n",
       "      <td>255144807</td>\n",
       "      <td>t</td>\n",
       "      <td>937.856</td>\n",
       "      <td>688.528</td>\n",
       "      <td>748.88</td>\n",
       "      <td>96983042073419955</td>\n",
       "      <td>864691135753932237</td>\n",
       "      <td>937.352</td>\n",
       "      <td>688.712</td>\n",
       "      <td>748.88</td>\n",
       "      <td>...</td>\n",
       "      <td>19.621037</td>\n",
       "      <td>20.112415</td>\n",
       "      <td>28.113522</td>\n",
       "      <td>45.0</td>\n",
       "      <td>0.208059</td>\n",
       "      <td>37.840328</td>\n",
       "      <td>0.230838</td>\n",
       "      <td>31.323238</td>\n",
       "      <td>45.0</td>\n",
       "      <td>135.0</td>\n",
       "    </tr>\n",
       "    <tr>\n",
       "      <th>138</th>\n",
       "      <td>125652888</td>\n",
       "      <td>t</td>\n",
       "      <td>623.216</td>\n",
       "      <td>744.896</td>\n",
       "      <td>714.44</td>\n",
       "      <td>86218548225528708</td>\n",
       "      <td>864691135753932237</td>\n",
       "      <td>623.048</td>\n",
       "      <td>745.072</td>\n",
       "      <td>714.56</td>\n",
       "      <td>...</td>\n",
       "      <td>0.933556</td>\n",
       "      <td>1.406676</td>\n",
       "      <td>2.144675</td>\n",
       "      <td>180.0</td>\n",
       "      <td>0.324549</td>\n",
       "      <td>3.715112</td>\n",
       "      <td>0.494895</td>\n",
       "      <td>2.954076</td>\n",
       "      <td>22.5</td>\n",
       "      <td>112.5</td>\n",
       "    </tr>\n",
       "    <tr>\n",
       "      <th>139</th>\n",
       "      <td>188412023</td>\n",
       "      <td>t</td>\n",
       "      <td>773.456</td>\n",
       "      <td>598.416</td>\n",
       "      <td>970.12</td>\n",
       "      <td>91350519620278597</td>\n",
       "      <td>864691135753932237</td>\n",
       "      <td>773.672</td>\n",
       "      <td>598.272</td>\n",
       "      <td>970.32</td>\n",
       "      <td>...</td>\n",
       "      <td>19.013550</td>\n",
       "      <td>12.782393</td>\n",
       "      <td>14.556155</td>\n",
       "      <td>270.0</td>\n",
       "      <td>0.406867</td>\n",
       "      <td>25.268162</td>\n",
       "      <td>0.439233</td>\n",
       "      <td>17.960594</td>\n",
       "      <td>90.0</td>\n",
       "      <td>0.0</td>\n",
       "    </tr>\n",
       "  </tbody>\n",
       "</table>\n",
       "<p>140 rows × 69 columns</p>\n",
       "</div>"
      ],
      "text/plain": [
       "          id_x valid_x  pre_pt_position_x  pre_pt_position_y  \\\n",
       "0    133954227       t            642.320            683.584   \n",
       "1     96423091       t            559.232            633.400   \n",
       "2    108300450       t            600.680            760.912   \n",
       "3    126226046       t            634.608            687.112   \n",
       "4    185393273       t            777.328            667.664   \n",
       "..         ...     ...                ...                ...   \n",
       "135  182525672       t            755.176            691.992   \n",
       "136  171726958       t            736.128            696.552   \n",
       "137  255144807       t            937.856            688.528   \n",
       "138  125652888       t            623.216            744.896   \n",
       "139  188412023       t            773.456            598.416   \n",
       "\n",
       "     pre_pt_position_z  pre_pt_supervoxel_id      pre_pt_root_id  \\\n",
       "0               910.68     86849806009668531  864691135753932237   \n",
       "1               758.36     83962969041459235  864691135753932237   \n",
       "2               696.88     85445041794907457  864691135753932237   \n",
       "3               774.08     86568468002376450  864691135753932237   \n",
       "4              1001.04     91493593638252359  864691135753932237   \n",
       "..                 ...                   ...                 ...   \n",
       "135             692.56     90720361079354402  864691135753932237   \n",
       "136             701.08     90087179887496251  864691135753932237   \n",
       "137             748.88     96983042073419955  864691135753932237   \n",
       "138             714.44     86218548225528708  864691135753932237   \n",
       "139             970.12     91350519620278597  864691135753932237   \n",
       "\n",
       "     post_pt_position_x  post_pt_position_y  post_pt_position_z  ...  \\\n",
       "0               642.400             683.952              910.80  ...   \n",
       "1               559.272             633.480              758.24  ...   \n",
       "2               600.504             761.152              696.68  ...   \n",
       "3               634.520             686.696              774.28  ...   \n",
       "4               776.968             668.088             1001.04  ...   \n",
       "..                  ...                 ...                 ...  ...   \n",
       "135             755.056             692.504              692.72  ...   \n",
       "136             735.792             696.632              701.04  ...   \n",
       "137             937.352             688.712              748.88  ...   \n",
       "138             623.048             745.072              714.56  ...   \n",
       "139             773.672             598.272              970.32  ...   \n",
       "\n",
       "         292.5      315.0      337.5  null_dir       DSI  Act_Pref_Dir  \\\n",
       "0    10.911670   8.378872   7.886239      22.5  0.623543     17.120943   \n",
       "1    10.382027  15.945401  14.627197      90.0  0.273815     36.483517   \n",
       "2     4.090281   3.615450   5.830765     315.0  0.300496      6.721735   \n",
       "3     4.090281   3.615450   5.830765     315.0  0.300496      6.721735   \n",
       "4     4.277564   7.762255   6.088434     225.0  0.356171     25.277296   \n",
       "..         ...        ...        ...       ...       ...           ...   \n",
       "135   6.535955  19.199238  17.229132     337.5  0.163868     23.982376   \n",
       "136   3.685940   6.876083   3.689906     135.0  0.136044      6.876083   \n",
       "137  19.621037  20.112415  28.113522      45.0  0.208059     37.840328   \n",
       "138   0.933556   1.406676   2.144675     180.0  0.324549      3.715112   \n",
       "139  19.013550  12.782393  14.556155     270.0  0.406867     25.268162   \n",
       "\n",
       "          OSI Act_Pref_Or  pref_or  null_or  \n",
       "0    0.292127   12.775335     45.0    135.0  \n",
       "1    0.439726   28.641140     90.0      0.0  \n",
       "2    0.487695    5.615542     90.0      0.0  \n",
       "3    0.487695    5.615542     90.0      0.0  \n",
       "4    0.496858   18.638725     45.0    135.0  \n",
       "..        ...         ...      ...      ...  \n",
       "135  0.217886   20.605755    157.5     67.5  \n",
       "136  0.304835    6.224863     22.5    112.5  \n",
       "137  0.230838   31.323238     45.0    135.0  \n",
       "138  0.494895    2.954076     22.5    112.5  \n",
       "139  0.439233   17.960594     90.0      0.0  \n",
       "\n",
       "[140 rows x 69 columns]"
      ]
     },
     "execution_count": 180,
     "metadata": {},
     "output_type": "execute_result"
    }
   ],
   "source": [
    "syn_dfm.merge(dsi_osi_df, left_on='post_pt_root_id', right_on='pt_root_id')"
   ]
  },
  {
   "cell_type": "code",
   "execution_count": 215,
   "id": "b559b45c",
   "metadata": {},
   "outputs": [
    {
     "data": {
      "text/plain": [
       "(-150.0, 150.0)"
      ]
     },
     "execution_count": 215,
     "metadata": {},
     "output_type": "execute_result"
    },
    {
     "data": {
      "image/png": "[encoded data removed]",
      "text/plain": [
       "<Figure size 720x720 with 1 Axes>"
      ]
     },
     "metadata": {
      "needs_background": "light"
     },
     "output_type": "display_data"
    }
   ],
   "source": [
    "f, ax=plt.subplots(figsize=(10,10))\n",
    "sns.scatterplot(x='soma_to_syn_x', y='soma_to_syn_z',c=[[.5,.5,.5]],\n",
    "                data=syn_dfm, size='size',alpha=.2,ax=ax)\n",
    "sns.scatterplot(x='soma_to_syn_x', y='soma_to_syn_z', hue='pref_dir',size='size', palette='hls',vmax=360,vmin=0,\n",
    "                data=syn_dfm.merge(dsi_osi_df, left_on='post_pt_root_id', right_on='pt_root_id').query('DSI>.5').query('Act_Pref_Dir>10'), ax=ax)\n",
    "ax.set_aspect('equal')\n",
    "ax.set_xlim(-150,150)\n",
    "ax.set_ylim(-150,150)\n"
   ]
  },
  {
   "cell_type": "code",
   "execution_count": 311,
   "id": "e4f4fa8d",
   "metadata": {},
   "outputs": [],
   "source": [
    "tun_orac=pd.read_feather('tuning_curve_oracle.feather')"
   ]
  },
  {
   "cell_type": "code",
   "execution_count": 320,
   "id": "d3ac8f74",
   "metadata": {},
   "outputs": [
    {
     "data": {
      "text/html": [
       "<div>\n",
       "<style scoped>\n",
       "    .dataframe tbody tr th:only-of-type {\n",
       "        vertical-align: middle;\n",
       "    }\n",
       "\n",
       "    .dataframe tbody tr th {\n",
       "        vertical-align: top;\n",
       "    }\n",
       "\n",
       "    .dataframe thead th {\n",
       "        text-align: right;\n",
       "    }\n",
       "</style>\n",
       "<table border=\"1\" class=\"dataframe\">\n",
       "  <thead>\n",
       "    <tr style=\"text-align: right;\">\n",
       "      <th></th>\n",
       "      <th>animal_id</th>\n",
       "      <th>scan_session</th>\n",
       "      <th>scan_idx</th>\n",
       "      <th>unit_id</th>\n",
       "      <th>direction</th>\n",
       "      <th>response_mean</th>\n",
       "      <th>osi</th>\n",
       "      <th>dsi</th>\n",
       "      <th>pref_dir</th>\n",
       "      <th>pref_ori</th>\n",
       "      <th>oracle</th>\n",
       "    </tr>\n",
       "  </thead>\n",
       "  <tbody>\n",
       "    <tr>\n",
       "      <th>0</th>\n",
       "      <td>17797</td>\n",
       "      <td>4</td>\n",
       "      <td>7</td>\n",
       "      <td>1</td>\n",
       "      <td>[0.0, 0.3839724354387525, 0.7853981633974483, ...</td>\n",
       "      <td>[0.866137, 0.917347, 0.949379, 0.865518, 0.704...</td>\n",
       "      <td>0.130614</td>\n",
       "      <td>0.081838</td>\n",
       "      <td>0.500663</td>\n",
       "      <td>0.500663</td>\n",
       "      <td>0.078895</td>\n",
       "    </tr>\n",
       "    <tr>\n",
       "      <th>1</th>\n",
       "      <td>17797</td>\n",
       "      <td>4</td>\n",
       "      <td>7</td>\n",
       "      <td>3</td>\n",
       "      <td>[0.0, 0.3839724354387525, 0.7853981633974483, ...</td>\n",
       "      <td>[1.36077, 1.39851, 1.99043, 3.18652, 4.58155, ...</td>\n",
       "      <td>0.284172</td>\n",
       "      <td>0.060989</td>\n",
       "      <td>1.781440</td>\n",
       "      <td>1.781440</td>\n",
       "      <td>0.200469</td>\n",
       "    </tr>\n",
       "    <tr>\n",
       "      <th>2</th>\n",
       "      <td>17797</td>\n",
       "      <td>4</td>\n",
       "      <td>7</td>\n",
       "      <td>4</td>\n",
       "      <td>[0.0, 0.3839724354387525, 0.7853981633974483, ...</td>\n",
       "      <td>[1.21418, 1.21815, 0.860304, 0.420344, 0.20278...</td>\n",
       "      <td>0.432913</td>\n",
       "      <td>0.101887</td>\n",
       "      <td>3.406990</td>\n",
       "      <td>0.265397</td>\n",
       "      <td>0.042252</td>\n",
       "    </tr>\n",
       "    <tr>\n",
       "      <th>3</th>\n",
       "      <td>17797</td>\n",
       "      <td>4</td>\n",
       "      <td>7</td>\n",
       "      <td>5</td>\n",
       "      <td>[0.0, 0.3839724354387525, 0.7853981633974483, ...</td>\n",
       "      <td>[0.537714, 0.46008, 0.39988, 0.329272, 0.30109...</td>\n",
       "      <td>0.077473</td>\n",
       "      <td>0.151048</td>\n",
       "      <td>5.054350</td>\n",
       "      <td>1.912757</td>\n",
       "      <td>0.473355</td>\n",
       "    </tr>\n",
       "    <tr>\n",
       "      <th>4</th>\n",
       "      <td>17797</td>\n",
       "      <td>4</td>\n",
       "      <td>7</td>\n",
       "      <td>6</td>\n",
       "      <td>[0.0, 0.3839724354387525, 0.7853981633974483, ...</td>\n",
       "      <td>[1.34916, 1.36445, 1.29873, 0.803745, 0.690824...</td>\n",
       "      <td>0.171036</td>\n",
       "      <td>0.067236</td>\n",
       "      <td>6.174000</td>\n",
       "      <td>3.032407</td>\n",
       "      <td>0.169292</td>\n",
       "    </tr>\n",
       "    <tr>\n",
       "      <th>...</th>\n",
       "      <td>...</td>\n",
       "      <td>...</td>\n",
       "      <td>...</td>\n",
       "      <td>...</td>\n",
       "      <td>...</td>\n",
       "      <td>...</td>\n",
       "      <td>...</td>\n",
       "      <td>...</td>\n",
       "      <td>...</td>\n",
       "      <td>...</td>\n",
       "      <td>...</td>\n",
       "    </tr>\n",
       "    <tr>\n",
       "      <th>115367</th>\n",
       "      <td>17797</td>\n",
       "      <td>9</td>\n",
       "      <td>6</td>\n",
       "      <td>5494</td>\n",
       "      <td>[0.0, 0.3839724354387525, 0.7853981633974483, ...</td>\n",
       "      <td>[0.880217, 1.01791, 0.938047, 0.920616, 0.6407...</td>\n",
       "      <td>0.206578</td>\n",
       "      <td>0.107160</td>\n",
       "      <td>3.995770</td>\n",
       "      <td>0.854177</td>\n",
       "      <td>0.179751</td>\n",
       "    </tr>\n",
       "    <tr>\n",
       "      <th>115368</th>\n",
       "      <td>17797</td>\n",
       "      <td>9</td>\n",
       "      <td>6</td>\n",
       "      <td>5495</td>\n",
       "      <td>[0.0, 0.3839724354387525, 0.7853981633974483, ...</td>\n",
       "      <td>[1.04271, 1.19028, 1.43485, 1.86599, 1.85754, ...</td>\n",
       "      <td>0.124026</td>\n",
       "      <td>0.110393</td>\n",
       "      <td>1.331250</td>\n",
       "      <td>1.331250</td>\n",
       "      <td>0.054913</td>\n",
       "    </tr>\n",
       "    <tr>\n",
       "      <th>115369</th>\n",
       "      <td>17797</td>\n",
       "      <td>9</td>\n",
       "      <td>6</td>\n",
       "      <td>5496</td>\n",
       "      <td>[0.0, 0.3839724354387525, 0.7853981633974483, ...</td>\n",
       "      <td>[0.338954, 0.337982, 0.527279, 0.922358, 1.852...</td>\n",
       "      <td>0.408453</td>\n",
       "      <td>0.123545</td>\n",
       "      <td>1.804710</td>\n",
       "      <td>1.804710</td>\n",
       "      <td>0.042267</td>\n",
       "    </tr>\n",
       "    <tr>\n",
       "      <th>115370</th>\n",
       "      <td>17797</td>\n",
       "      <td>9</td>\n",
       "      <td>6</td>\n",
       "      <td>5497</td>\n",
       "      <td>[0.0, 0.3839724354387525, 0.7853981633974483, ...</td>\n",
       "      <td>[1.52055, 1.37349, 0.982758, 0.937725, 0.91138...</td>\n",
       "      <td>0.147547</td>\n",
       "      <td>0.051513</td>\n",
       "      <td>0.039345</td>\n",
       "      <td>0.039345</td>\n",
       "      <td>0.115852</td>\n",
       "    </tr>\n",
       "    <tr>\n",
       "      <th>115371</th>\n",
       "      <td>17797</td>\n",
       "      <td>9</td>\n",
       "      <td>6</td>\n",
       "      <td>5498</td>\n",
       "      <td>[0.0, 0.3839724354387525, 0.7853981633974483, ...</td>\n",
       "      <td>[2.04071, 1.7737, 1.18207, 0.682232, 0.446171,...</td>\n",
       "      <td>0.284741</td>\n",
       "      <td>0.123090</td>\n",
       "      <td>0.008209</td>\n",
       "      <td>0.008209</td>\n",
       "      <td>0.053402</td>\n",
       "    </tr>\n",
       "  </tbody>\n",
       "</table>\n",
       "<p>115372 rows × 11 columns</p>\n",
       "</div>"
      ],
      "text/plain": [
       "        animal_id  scan_session  scan_idx  unit_id  \\\n",
       "0           17797             4         7        1   \n",
       "1           17797             4         7        3   \n",
       "2           17797             4         7        4   \n",
       "3           17797             4         7        5   \n",
       "4           17797             4         7        6   \n",
       "...           ...           ...       ...      ...   \n",
       "115367      17797             9         6     5494   \n",
       "115368      17797             9         6     5495   \n",
       "115369      17797             9         6     5496   \n",
       "115370      17797             9         6     5497   \n",
       "115371      17797             9         6     5498   \n",
       "\n",
       "                                                direction  \\\n",
       "0       [0.0, 0.3839724354387525, 0.7853981633974483, ...   \n",
       "1       [0.0, 0.3839724354387525, 0.7853981633974483, ...   \n",
       "2       [0.0, 0.3839724354387525, 0.7853981633974483, ...   \n",
       "3       [0.0, 0.3839724354387525, 0.7853981633974483, ...   \n",
       "4       [0.0, 0.3839724354387525, 0.7853981633974483, ...   \n",
       "...                                                   ...   \n",
       "115367  [0.0, 0.3839724354387525, 0.7853981633974483, ...   \n",
       "115368  [0.0, 0.3839724354387525, 0.7853981633974483, ...   \n",
       "115369  [0.0, 0.3839724354387525, 0.7853981633974483, ...   \n",
       "115370  [0.0, 0.3839724354387525, 0.7853981633974483, ...   \n",
       "115371  [0.0, 0.3839724354387525, 0.7853981633974483, ...   \n",
       "\n",
       "                                            response_mean       osi       dsi  \\\n",
       "0       [0.866137, 0.917347, 0.949379, 0.865518, 0.704...  0.130614  0.081838   \n",
       "1       [1.36077, 1.39851, 1.99043, 3.18652, 4.58155, ...  0.284172  0.060989   \n",
       "2       [1.21418, 1.21815, 0.860304, 0.420344, 0.20278...  0.432913  0.101887   \n",
       "3       [0.537714, 0.46008, 0.39988, 0.329272, 0.30109...  0.077473  0.151048   \n",
       "4       [1.34916, 1.36445, 1.29873, 0.803745, 0.690824...  0.171036  0.067236   \n",
       "...                                                   ...       ...       ...   \n",
       "115367  [0.880217, 1.01791, 0.938047, 0.920616, 0.6407...  0.206578  0.107160   \n",
       "115368  [1.04271, 1.19028, 1.43485, 1.86599, 1.85754, ...  0.124026  0.110393   \n",
       "115369  [0.338954, 0.337982, 0.527279, 0.922358, 1.852...  0.408453  0.123545   \n",
       "115370  [1.52055, 1.37349, 0.982758, 0.937725, 0.91138...  0.147547  0.051513   \n",
       "115371  [2.04071, 1.7737, 1.18207, 0.682232, 0.446171,...  0.284741  0.123090   \n",
       "\n",
       "        pref_dir  pref_ori    oracle  \n",
       "0       0.500663  0.500663  0.078895  \n",
       "1       1.781440  1.781440  0.200469  \n",
       "2       3.406990  0.265397  0.042252  \n",
       "3       5.054350  1.912757  0.473355  \n",
       "4       6.174000  3.032407  0.169292  \n",
       "...          ...       ...       ...  \n",
       "115367  3.995770  0.854177  0.179751  \n",
       "115368  1.331250  1.331250  0.054913  \n",
       "115369  1.804710  1.804710  0.042267  \n",
       "115370  0.039345  0.039345  0.115852  \n",
       "115371  0.008209  0.008209  0.053402  \n",
       "\n",
       "[115372 rows x 11 columns]"
      ]
     },
     "execution_count": 320,
     "metadata": {},
     "output_type": "execute_result"
    }
   ],
   "source": [
    "tun_orac"
   ]
  },
  {
   "cell_type": "code",
   "execution_count": 324,
   "id": "ef04d62b",
   "metadata": {},
   "outputs": [],
   "source": [
    "coreg_merge=pd.merge(coreg_df, tun_orac,\n",
    "         right_on=['scan_session', 'scan_idx', 'unit_id'], left_on=['session', 'scan_idx', 'unit_id'])"
   ]
  },
  {
   "cell_type": "code",
   "execution_count": 328,
   "id": "9d37d83e",
   "metadata": {},
   "outputs": [],
   "source": [
    "dsi_self2 = pd.merge(coreg_merge, coreg_merge, on='pt_root_id', how='inner')\n",
    "dsi_self2=dsi_self2[dsi_self2.id_x!=dsi_self2.id_y]"
   ]
  },
  {
   "cell_type": "code",
   "execution_count": 329,
   "id": "5a578e1c",
   "metadata": {},
   "outputs": [
    {
     "data": {
      "text/plain": [
       "<AxesSubplot:xlabel='pref_dir_x', ylabel='pref_dir_y'>"
      ]
     },
     "execution_count": 329,
     "metadata": {},
     "output_type": "execute_result"
    },
    {
     "data": {
      "image/png": "[encoded data removed]",
      "text/plain": [
       "<Figure size 432x288 with 2 Axes>"
      ]
     },
     "metadata": {
      "needs_background": "light"
     },
     "output_type": "display_data"
    }
   ],
   "source": [
    "f, ax = plt.subplots()\n",
    "sns.histplot(data=dsi_self2, x='pref_dir_x', y='pref_dir_y',bins=16, ax=ax, cbar=True)\n"
   ]
  },
  {
   "cell_type": "code",
   "execution_count": 332,
   "id": "6d87bf6e",
   "metadata": {},
   "outputs": [
    {
     "data": {
      "text/plain": [
       "(1470, 33)"
      ]
     },
     "execution_count": 332,
     "metadata": {},
     "output_type": "execute_result"
    }
   ],
   "source": [
    "dsi_self2.shape"
   ]
  },
  {
   "cell_type": "code",
   "execution_count": 339,
   "id": "0c209c12",
   "metadata": {},
   "outputs": [
    {
     "data": {
      "text/plain": [
       "session_x  scan_idx_x  unit_id_x\n",
       "6          2           6616         24\n",
       "           6           6252         18\n",
       "7          4           5567         12\n",
       "6          2           1808         12\n",
       "7          5           6655         12\n",
       "                                    ..\n",
       "6          4           4933          1\n",
       "                       4996          1\n",
       "                       5007          1\n",
       "                       5084          1\n",
       "           7           4077          1\n",
       "Length: 948, dtype: int64"
      ]
     },
     "execution_count": 339,
     "metadata": {},
     "output_type": "execute_result"
    }
   ],
   "source": [
    "dsi_self2[['session_x', 'scan_idx_x', 'unit_id_x']].value_counts()"
   ]
  },
  {
   "cell_type": "code",
   "execution_count": null,
   "id": "f28db540",
   "metadata": {},
   "outputs": [],
   "source": []
  }
 ],
 "metadata": {
  "kernelspec": {
   "display_name": "Python 3 (ipykernel)",
   "language": "python",
   "name": "python3"
  },
  "language_info": {
   "codemirror_mode": {
    "name": "ipython",
    "version": 3
   },
   "file_extension": ".py",
   "mimetype": "text/x-python",
   "name": "python",
   "nbconvert_exporter": "python",
   "pygments_lexer": "ipython3",
   "version": "3.9.0"
  }
 },
 "nbformat": 4,
 "nbformat_minor": 5
}
